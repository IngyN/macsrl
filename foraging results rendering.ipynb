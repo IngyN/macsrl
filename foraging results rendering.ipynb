{
 "cells": [
  {
   "cell_type": "code",
   "execution_count": 1,
   "id": "8feaf2c7-369b-4bc5-9b1c-38a02da38980",
   "metadata": {},
   "outputs": [
    {
     "name": "stdout",
     "output_type": "stream",
     "text": [
      "Using cuda device\n",
      "Using cuda device\n",
      "Using GPU\n"
     ]
    }
   ],
   "source": [
    "import matplotlib.pyplot as plt\n",
    "%matplotlib inline\n",
    "from IPython import display\n",
    "%load_ext autoreload\n",
    "%autoreload 2\n",
    "import numpy as np \n",
    "from copy import deepcopy\n",
    "import lbforaging\n",
    "import torch\n",
    "from torch.autograd import Variable\n",
    "# import robotic_warehouse\n",
    "import gym\n",
    "import time\n",
    "\n",
    "# import seql code\n",
    "from seac.seql.lbf_train_rs import LBFTrainRS\n",
    "from seac.seql.iql import IQL"
   ]
  },
  {
   "cell_type": "markdown",
   "id": "f3732c5b-f823-42ef-bad7-00fb62e44ea6",
   "metadata": {},
   "source": [
    "## Read logs"
   ]
  },
  {
   "cell_type": "code",
   "execution_count": 11,
   "id": "20a37fd2-d2bb-4122-9816-51312a713e4c",
   "metadata": {},
   "outputs": [],
   "source": [
    "nagents=2\n",
    "logs_dir = 'logs/'\n",
    "path = \"models/default/\"\n",
    "RUN_STEPS = 100"
   ]
  },
  {
   "cell_type": "code",
   "execution_count": 3,
   "id": "0fd21ee5-c780-43e6-a745-3c78a4ac997b",
   "metadata": {
    "tags": []
   },
   "outputs": [
    {
     "name": "stdout",
     "output_type": "stream",
     "text": [
      "Using GPU\n"
     ]
    }
   ],
   "source": [
    "USE_CUDA = torch.cuda.is_available()\n",
    "if USE_CUDA :\n",
    "    print('Using GPU')"
   ]
  },
  {
   "cell_type": "code",
   "execution_count": 4,
   "id": "86f4ce31-b9ad-4575-9283-fe139b512ee5",
   "metadata": {},
   "outputs": [
    {
     "name": "stdout",
     "output_type": "stream",
     "text": [
      "Namespace(agents=2, batch_size=128, buffer_capacity=1000000, discount_oa=0.8, env=None, env_coef=0.2, epsilon=1.0, epsilon_anneal_slow=False, epsilon_decay=10, eval_episodes=5, eval_frequency=50, field=5, gamma=0.99, goal_epsilon=0.01, hidden_dim=128, lr=0.0001, ltl='(f & XF e)', max_episode_len=25, n_training_threads=1, num_episodes=10, oa_coef=1.0, render=True, run='default', save_interval=100, seed=None, shared_experience=False, shared_lambda=1.0, steps_per_update=1, targets='simple', tau=0.05, training_returns_freq=100)\n"
     ]
    }
   ],
   "source": [
    "args=[ '--ltl', '(f & XF e)', \n",
    "      '--num_episodes', str(RUN_STEPS), \n",
    "      '--discount_oa', '0.8', \n",
    "      '--field', '5', \n",
    "      '--render', 'True',\n",
    "     '--env_coef', '0.2']\n",
    "trainer = LBFTrainRS(args)\n",
    "print(trainer.arglist)"
   ]
  },
  {
   "cell_type": "code",
   "execution_count": 5,
   "id": "c31cff21-2de3-47a9-ae9a-3fd05bb5e60a",
   "metadata": {},
   "outputs": [
    {
     "name": "stdout",
     "output_type": "stream",
     "text": [
      "Epsilon is decaying with factor 0.9772372 to 0.010 over 200 steps.\n"
     ]
    }
   ],
   "source": [
    "if trainer.arglist.max_episode_len == 25:\n",
    "    steps = trainer.arglist.num_episodes * 20 #self.arglist.max_episode_len\n",
    "else:\n",
    "    steps = trainer.arglist.num_episodes * trainer.arglist.max_episode_len\n",
    "# steps-th root of goal epsilon\n",
    "if trainer.arglist.epsilon_anneal_slow:\n",
    "    decay_factor = trainer.arglist.epsilon_decay ** (1 / float(steps))\n",
    "    trainer.arglist.decay_factor = decay_factor\n",
    "    print(\n",
    "        f\"Epsilon is decaying with (({trainer.arglist.epsilon_decay} - {decay_factor}**t) / {trainer.arglist.epsilon_decay}) to {trainer.arglist.goal_epsilon} over {steps} steps.\"\n",
    "    )\n",
    "else:\n",
    "    decay_epsilon = trainer.arglist.goal_epsilon ** (1 / float(steps))\n",
    "    trainer.arglist.decay_factor = decay_epsilon\n",
    "    print( \"Epsilon is decaying with factor %.7f to %.3f over %d steps.\"\n",
    "        % (decay_epsilon, trainer.arglist.goal_epsilon, steps))"
   ]
  },
  {
   "cell_type": "code",
   "execution_count": 7,
   "id": "f0f4caba-fd72-4b92-bc5a-f224767d68ea",
   "metadata": {},
   "outputs": [
    {
     "name": "stderr",
     "output_type": "stream",
     "text": [
      "/root/.venvs/csrl/lib/python3.6/site-packages/gym/spaces/box.py:74: UserWarning: \u001b[33mWARN: Box bound precision lowered by casting to float32\u001b[0m\n",
      "  \"Box bound precision lowered by casting to {}\".format(self.dtype)\n"
     ]
    },
    {
     "name": "stdout",
     "output_type": "stream",
     "text": [
      "Observation spaces:  Tuple(Box([-1. -1.  0. -1. -1.  0. -1. -1.  0.  0.], [4. 4. 4. 4. 4. 2. 4. 4. 2. 4.], (10,), float32), Box([-1. -1.  0. -1. -1.  0. -1. -1.  0.  0.], [4. 4. 4. 4. 4. 2. 4. 4. 2. 4.], (10,), float32))\n",
      "Action spaces:  Tuple(Discrete(6), Discrete(6))\n"
     ]
    },
    {
     "name": "stderr",
     "output_type": "stream",
     "text": [
      "/root/.venvs/csrl/lib/python3.6/site-packages/gym/spaces/box.py:74: UserWarning: \u001b[33mWARN: Box bound precision lowered by casting to float32\u001b[0m\n",
      "  \"Box bound precision lowered by casting to {}\".format(self.dtype)\n"
     ]
    }
   ],
   "source": [
    "env, env_name, task_name, n_agents, observation_spaces, action_spaces, observation_sizes, action_sizes = (\n",
    "            trainer.create_environment()\n",
    "        )"
   ]
  },
  {
   "cell_type": "code",
   "execution_count": 8,
   "id": "9cf2d5ba-7afa-4939-acb0-105fee43a938",
   "metadata": {},
   "outputs": [],
   "source": [
    "trainer.alg = IQL(n_agents, observation_sizes, action_sizes, trainer.arglist)\n",
    "trainer.alg.load_model_networks(path, extension='_241000')"
   ]
  },
  {
   "cell_type": "code",
   "execution_count": 13,
   "id": "8ef6fdd8-961c-42f1-8b3c-8a6d52b4a441",
   "metadata": {},
   "outputs": [
    {
     "name": "stdout",
     "output_type": "stream",
     "text": [
      "--- Episode Finished ---\n",
      "Episode rewards: 0.0\n",
      "{'episode_reward': array([0., 0.]), 'agent0/episode_reward': 0.0, 'agent1/episode_reward': 0.0, 'episode_length': 25, 'episode_time': 2.6735904090019176}\n",
      " --- \n",
      "--- Episode Finished ---\n",
      "Episode rewards: 1.0\n",
      "{'episode_reward': array([0., 1.]), 'agent0/episode_reward': 0.0, 'agent1/episode_reward': 1.0, 'episode_length': 1, 'episode_time': 2.5093766919999325}\n",
      " --- \n",
      "--- Episode Finished ---\n",
      "Episode rewards: 0.0\n",
      "{'episode_reward': array([0., 0.]), 'agent0/episode_reward': 0.0, 'agent1/episode_reward': 0.0, 'episode_length': 25, 'episode_time': 5.057859708998876}\n",
      " --- \n",
      "--- Episode Finished ---\n",
      "Episode rewards: 1.0\n",
      "{'episode_reward': array([0., 1.]), 'agent0/episode_reward': 0.0, 'agent1/episode_reward': 1.0, 'episode_length': 11, 'episode_time': 3.574652256000263}\n",
      " --- \n",
      "--- Episode Finished ---\n",
      "Episode rewards: 0.0\n",
      "{'episode_reward': array([0., 0.]), 'agent0/episode_reward': 0.0, 'agent1/episode_reward': 0.0, 'episode_length': 25, 'episode_time': 5.056404380000458}\n",
      " --- \n",
      "all done\n"
     ]
    }
   ],
   "source": [
    "obs = trainer.reset_environment()\n",
    "\n",
    "for i in range(RUN_STEPS):\n",
    "    torch_obs = [Variable(torch.Tensor(obs[i]), requires_grad=False) for i in range(n_agents)]\n",
    "    actions, onehot_actions= trainer.select_actions(torch_obs, explore = False)\n",
    "    trainer.environment_render(step=i, inline=False)\n",
    "    reward, done, nexty_obs, info = trainer.environment_step(actions)\n",
    "    if all(done):\n",
    "        obs = trainer.reset_environment()\n",
    "        print(\"--- Episode Finished ---\")\n",
    "        print(f\"Episode rewards: {sum(info['episode_reward'])}\")\n",
    "        print(info)\n",
    "        print(\" --- \")\n",
    "        time.sleep(2.4)\n",
    "\n",
    "\n",
    "print('all done')"
   ]
  },
  {
   "cell_type": "code",
   "execution_count": 14,
   "id": "acc139a3-d595-4df5-b43e-bbffeccd22dc",
   "metadata": {},
   "outputs": [],
   "source": [
    "trainer.env.close()"
   ]
  },
  {
   "cell_type": "code",
   "execution_count": null,
   "id": "06f54bf5-9d65-415e-85c4-5b7b618845e4",
   "metadata": {},
   "outputs": [],
   "source": []
  }
 ],
 "metadata": {
  "kernelspec": {
   "display_name": "Python 3",
   "language": "python",
   "name": "python3"
  },
  "language_info": {
   "codemirror_mode": {
    "name": "ipython",
    "version": 3
   },
   "file_extension": ".py",
   "mimetype": "text/x-python",
   "name": "python",
   "nbconvert_exporter": "python",
   "pygments_lexer": "ipython3",
   "version": "3.6.9"
  }
 },
 "nbformat": 4,
 "nbformat_minor": 5
}
