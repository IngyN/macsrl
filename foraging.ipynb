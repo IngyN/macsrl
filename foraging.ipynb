{
 "cells": [
  {
   "cell_type": "code",
   "execution_count": 1,
   "id": "bdd59884-4202-4e8a-bebe-054b7760bcaa",
   "metadata": {},
   "outputs": [],
   "source": [
    "import matplotlib.pyplot as plt\n",
    "%matplotlib inline\n",
    "from IPython import display\n",
    "%load_ext autoreload\n",
    "%autoreload 2\n",
    "from csrl.mdp import GridMDP\n",
    "import numpy as np \n",
    "from copy import deepcopy\n",
    "import gym\n",
    "import lbforaging"
   ]
  },
  {
   "cell_type": "code",
   "execution_count": 2,
   "id": "f8f3dc4e-ae8a-4579-aa51-1221367486c7",
   "metadata": {},
   "outputs": [],
   "source": [
    "def show_state(env, step=0, info=\"\"):\n",
    "    plt.figure(3)\n",
    "    plt.clf()\n",
    "    plt.imshow(env.render(mode=\"rgb_array\"))\n",
    "    plt.title(f\" Step:{step} {info}\")\n",
    "    plt.axis('off')\n"
   ]
  },
  {
   "cell_type": "code",
   "execution_count": 3,
   "id": "e91b2a4f-c2cc-42b5-8ba1-b1b75ae94b8c",
   "metadata": {},
   "outputs": [
    {
     "name": "stdout",
     "output_type": "stream",
     "text": [
      "collisions dict_items([((7, 4), [<lbforaging.foraging.environment.Player object at 0x7f0cceb559b0>]), ((6, 7), [<lbforaging.foraging.environment.Player object at 0x7f0ce7207ba8>])])\n"
     ]
    },
    {
     "name": "stderr",
     "output_type": "stream",
     "text": [
      "/root/.venvs/csrl/lib/python3.6/site-packages/gym/spaces/box.py:74: UserWarning: \u001b[33mWARN: Box bound precision lowered by casting to float32\u001b[0m\n",
      "  \"Box bound precision lowered by casting to {}\".format(self.dtype)\n"
     ]
    }
   ],
   "source": [
    "env = gym.make(\"Foraging-8x8-2p-1f-v2\")\n",
    "env.reset()\n",
    "actions = env.action_space.sample()\n",
    "n_obs, reward, done, info = env.step(actions)"
   ]
  },
  {
   "cell_type": "code",
   "execution_count": 4,
   "id": "43390644-010d-4fff-830a-616ae5e7418c",
   "metadata": {},
   "outputs": [
    {
     "data": {
      "text/plain": [
       "(2, 0)"
      ]
     },
     "execution_count": 4,
     "metadata": {},
     "output_type": "execute_result"
    }
   ],
   "source": [
    "actions"
   ]
  },
  {
   "cell_type": "code",
   "execution_count": 13,
   "id": "46eb244a-faba-42d4-93f5-cdd13ec0d524",
   "metadata": {},
   "outputs": [
    {
     "data": {
      "image/png": "[encoded data removed]",
      "text/plain": [
       "<Figure size 432x288 with 1 Axes>"
      ]
     },
     "metadata": {
      "needs_background": "light"
     },
     "output_type": "display_data"
    }
   ],
   "source": [
    "show_state(env, info=info)"
   ]
  },
  {
   "cell_type": "code",
   "execution_count": 14,
   "id": "7cca010e-491f-4605-bea1-32cab4dcbb0a",
   "metadata": {},
   "outputs": [
    {
     "data": {
      "text/plain": [
       "(0, 3)"
      ]
     },
     "execution_count": 14,
     "metadata": {},
     "output_type": "execute_result"
    }
   ],
   "source": [
    "actions = (0,3)\n",
    "actions"
   ]
  },
  {
   "cell_type": "code",
   "execution_count": 15,
   "id": "4798f223-3743-49de-b438-72b5e205c34a",
   "metadata": {},
   "outputs": [
    {
     "name": "stdout",
     "output_type": "stream",
     "text": [
      "collisions dict_items([((6, 4), [<lbforaging.foraging.environment.Player object at 0x7fee850667b8>, <lbforaging.foraging.environment.Player object at 0x7feea1ebf4e0>])])\n"
     ]
    },
    {
     "data": {
      "text/plain": [
       "(array([1., 6., 1., 6., 4., 2., 6., 4., 1.], dtype=float32),\n",
       " array([1., 6., 1., 6., 4., 1., 6., 4., 2.], dtype=float32))"
      ]
     },
     "execution_count": 15,
     "metadata": {},
     "output_type": "execute_result"
    }
   ],
   "source": [
    "n_obs, reward, done, info = env.step(actions)\n",
    "n_obs"
   ]
  },
  {
   "cell_type": "code",
   "execution_count": 16,
   "id": "ee315f8e-26d8-4b6f-8e1e-d54708378133",
   "metadata": {},
   "outputs": [
    {
     "data": {
      "image/png": "[encoded data removed]",
      "text/plain": [
       "<Figure size 432x288 with 1 Axes>"
      ]
     },
     "metadata": {
      "needs_background": "light"
     },
     "output_type": "display_data"
    }
   ],
   "source": [
    "show_state(env, info=info)"
   ]
  },
  {
   "cell_type": "code",
   "execution_count": 35,
   "id": "ebf03ea3-6151-46ca-acdb-96f86fca6ad5",
   "metadata": {},
   "outputs": [],
   "source": [
    "env.close()"
   ]
  },
  {
   "cell_type": "code",
   "execution_count": 1,
   "id": "1eaf8a69-412f-47dd-af4b-f76fab706ab4",
   "metadata": {},
   "outputs": [
    {
     "ename": "NameError",
     "evalue": "name 'n_obs' is not defined",
     "output_type": "error",
     "traceback": [
      "\u001b[0;31m---------------------------------------------------------------------------\u001b[0m",
      "\u001b[0;31mNameError\u001b[0m                                 Traceback (most recent call last)",
      "\u001b[0;32m<ipython-input-1-dde783c654cc>\u001b[0m in \u001b[0;36m<module>\u001b[0;34m\u001b[0m\n\u001b[0;32m----> 1\u001b[0;31m \u001b[0mn_obs\u001b[0m\u001b[0;34m\u001b[0m\u001b[0;34m\u001b[0m\u001b[0m\n\u001b[0m",
      "\u001b[0;31mNameError\u001b[0m: name 'n_obs' is not defined"
     ]
    }
   ],
   "source": [
    "n_obs"
   ]
  },
  {
   "cell_type": "code",
   "execution_count": 15,
   "id": "2ecf796e-9fd9-4fdd-a365-8f5421d45ee3",
   "metadata": {},
   "outputs": [
    {
     "data": {
      "text/plain": [
       "Tuple(Box([-1. -1.  0.  0.  0.  1.  0.  0.  1.], [8. 8. 6. 8. 8. 3. 8. 8. 3.], (9,), float32), Box([-1. -1.  0.  0.  0.  1.  0.  0.  1.], [8. 8. 6. 8. 8. 3. 8. 8. 3.], (9,), float32))"
      ]
     },
     "execution_count": 15,
     "metadata": {},
     "output_type": "execute_result"
    }
   ],
   "source": [
    "env.observation_space"
   ]
  },
  {
   "cell_type": "code",
   "execution_count": 17,
   "id": "ce931492-5de6-48ff-91e7-c8b6e6224631",
   "metadata": {},
   "outputs": [
    {
     "data": {
      "text/plain": [
       "Tuple(Discrete(6), Discrete(6))"
      ]
     },
     "execution_count": 17,
     "metadata": {},
     "output_type": "execute_result"
    }
   ],
   "source": [
    "env.action_space"
   ]
  },
  {
   "cell_type": "code",
   "execution_count": 23,
   "id": "bc08e51f-2c16-4a35-a32a-0b463154f8b3",
   "metadata": {},
   "outputs": [
    {
     "data": {
      "text/plain": [
       "1"
      ]
     },
     "execution_count": 23,
     "metadata": {},
     "output_type": "execute_result"
    }
   ],
   "source": [
    "env.max_food"
   ]
  },
  {
   "cell_type": "code",
   "execution_count": null,
   "id": "74588e08-d9e3-4021-ae78-91540015aa8b",
   "metadata": {},
   "outputs": [],
   "source": []
  }
 ],
 "metadata": {
  "kernelspec": {
   "display_name": "Python 3",
   "language": "python",
   "name": "python3"
  },
  "language_info": {
   "codemirror_mode": {
    "name": "ipython",
    "version": 3
   },
   "file_extension": ".py",
   "mimetype": "text/x-python",
   "name": "python",
   "nbconvert_exporter": "python",
   "pygments_lexer": "ipython3",
   "version": "3.6.9"
  }
 },
 "nbformat": 4,
 "nbformat_minor": 5
}
