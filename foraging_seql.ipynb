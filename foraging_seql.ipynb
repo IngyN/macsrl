{
 "cells": [
  {
   "cell_type": "code",
   "execution_count": 1,
   "id": "8feaf2c7-369b-4bc5-9b1c-38a02da38980",
   "metadata": {},
   "outputs": [
    {
     "name": "stderr",
     "output_type": "stream",
     "text": [
      "Matplotlib is building the font cache; this may take a moment.\n"
     ]
    }
   ],
   "source": [
    "import matplotlib.pyplot as plt\n",
    "%matplotlib inline\n",
    "from IPython import display\n",
    "%load_ext autoreload\n",
    "%autoreload 2\n",
    "from csrl.mdp import GridMDP\n",
    "import numpy as np \n",
    "from copy import deepcopy\n",
    "# import gym\n",
    "import lbforaging\n",
    "from lbforaging.foraging import ForagingEnv"
   ]
  },
  {
   "cell_type": "code",
   "execution_count": 2,
   "id": "a41a5947-6781-4c3a-88a7-dd63e75e445a",
   "metadata": {},
   "outputs": [],
   "source": [
    "from enum import Enum\n",
    "from foraging_mdp import ForagingMDP, Action"
   ]
  },
  {
   "cell_type": "code",
   "execution_count": 3,
   "id": "c2e88f3c-ed24-40bd-953f-d5686222f3e7",
   "metadata": {},
   "outputs": [],
   "source": [
    "def show_state(env, step=0, info=\"\"):\n",
    "    plt.figure(3)\n",
    "    plt.clf()\n",
    "    plt.imshow(env.render(mode=\"rgb_array\"))\n",
    "    plt.title(f\" Step:{step} {info}\")\n",
    "    plt.axis('off')\n",
    "\n",
    "def parse_starting_pos(nagents, obs, total_food):\n",
    "    player_info = obs[0][total_food*3:]\n",
    "    res = tuple()\n",
    "\n",
    "    for i in range(nagents):\n",
    "        res += (tuple(player_info[i*3:i*3+2]),)\n",
    "\n",
    "    return res"
   ]
  },
  {
   "cell_type": "code",
   "execution_count": 4,
   "id": "20a37fd2-d2bb-4122-9816-51312a713e4c",
   "metadata": {},
   "outputs": [],
   "source": [
    "nagents=2"
   ]
  },
  {
   "cell_type": "code",
   "execution_count": 5,
   "id": "ae31503f-afee-493b-83a1-d04adaf53ff3",
   "metadata": {},
   "outputs": [
    {
     "name": "stdout",
     "output_type": "stream",
     "text": [
      "collisions dict_items([((0, 7), [<lbforaging.foraging.environment.Player object at 0x7f8c2b761ba8>]), ((4, 4), [<lbforaging.foraging.environment.Player object at 0x7f8c2b761c18>])])\n"
     ]
    },
    {
     "name": "stderr",
     "output_type": "stream",
     "text": [
      "/root/.venvs/csrl/lib/python3.6/site-packages/gym/spaces/box.py:74: UserWarning: \u001b[33mWARN: Box bound precision lowered by casting to float32\u001b[0m\n",
      "  \"Box bound precision lowered by casting to {}\".format(self.dtype)\n"
     ]
    }
   ],
   "source": [
    "env = ForagingEnv(players=nagents, max_player_level=2, field_size=(8,8), max_food=1, sight=8, force_coop=False, max_episode_steps=50)\n",
    "test=env.reset()\n",
    "actions = env.action_space.sample()\n",
    "n_obs, reward, done, info = env.step(actions)"
   ]
  },
  {
   "cell_type": "code",
   "execution_count": 6,
   "id": "5dd277cc-4f6f-48a7-a60d-3ee4e41f9822",
   "metadata": {},
   "outputs": [
    {
     "data": {
      "text/plain": [
       "(array([6., 1., 1., 0., 7., 1., 4., 3., 1.], dtype=float32),\n",
       " array([6., 1., 1., 4., 3., 1., 0., 7., 1.], dtype=float32))"
      ]
     },
     "execution_count": 6,
     "metadata": {},
     "output_type": "execute_result"
    }
   ],
   "source": [
    "test"
   ]
  },
  {
   "cell_type": "code",
   "execution_count": 7,
   "id": "80eed066-ff39-424b-a27d-197ba6a3fc5e",
   "metadata": {},
   "outputs": [
    {
     "data": {
      "image/png": "[encoded data removed]",
      "text/plain": [
       "<Figure size 432x288 with 1 Axes>"
      ]
     },
     "metadata": {
      "needs_background": "light"
     },
     "output_type": "display_data"
    }
   ],
   "source": [
    "show_state(env, info=info)"
   ]
  },
  {
   "cell_type": "code",
   "execution_count": 8,
   "id": "7640d621-1be4-440c-b0d8-025735303446",
   "metadata": {},
   "outputs": [],
   "source": [
    "env.close()"
   ]
  },
  {
   "cell_type": "markdown",
   "id": "8a152820-06e7-4963-ad5f-7c9f26761942",
   "metadata": {},
   "source": [
    "### creating dummy MDP and multicsrl object"
   ]
  },
  {
   "cell_type": "code",
   "execution_count": 8,
   "id": "24c90074-5e6e-47b0-86b4-b5280298cc6a",
   "metadata": {},
   "outputs": [
    {
     "name": "stdout",
     "output_type": "stream",
     "text": [
      "all labels : [['f', 'e']]\n"
     ]
    }
   ],
   "source": [
    "label2 = np.empty((8,8),dtype=object)\n",
    "label2.fill(())\n",
    "mdp = ForagingMDP((8,8), label=label2,env=env)"
   ]
  },
  {
   "cell_type": "code",
   "execution_count": 9,
   "id": "393cec1e-4421-4fb5-8e91-d5abd67de9d2",
   "metadata": {},
   "outputs": [
    {
     "data": {
      "text/plain": [
       "([(1, 0), (0, 1)], [1.0, 0.0])"
      ]
     },
     "execution_count": 9,
     "metadata": {},
     "output_type": "execute_result"
    }
   ],
   "source": [
    "mdp.get_transition_prob((0,0), Action.SOUTH)"
   ]
  },
  {
   "cell_type": "code",
   "execution_count": 16,
   "id": "1d17724c-f642-44e9-852a-51f91b86e36d",
   "metadata": {},
   "outputs": [],
   "source": [
    "from csrl.oa import OmegaAutomaton\n",
    "\n",
    "# LTL Specification\n",
    "ltl = '(e | XF e)'\n",
    "\n",
    "# Translate the LTL formula to an LDBA\n",
    "oa = OmegaAutomaton(ltl, extra_aps = tuple('f',))"
   ]
  },
  {
   "cell_type": "code",
   "execution_count": 17,
   "id": "66e7497b-99c0-4154-8958-6bf38ac23ad2",
   "metadata": {},
   "outputs": [
    {
     "data": {
      "text/html": [
       "<div><?xml version=\"1.0\" encoding=\"UTF-8\" standalone=\"no\"?>\n",
       "<!DOCTYPE svg PUBLIC \"-//W3C//DTD SVG 1.1//EN\"\n",
       " \"http://www.w3.org/Graphics/SVG/1.1/DTD/svg11.dtd\">\n",
       "<!-- Generated by graphviz version 2.40.1 (20161225.0304)\n",
       " -->\n",
       "<!-- Pages: 1 -->\n",
       "<svg width=\"254pt\" height=\"171pt\"\n",
       " viewBox=\"0.00 0.00 254.00 171.00\" xmlns=\"http://www.w3.org/2000/svg\" xmlns:xlink=\"http://www.w3.org/1999/xlink\">\n",
       "<g id=\"graph0\" class=\"graph\" transform=\"scale(1.0 1.0) rotate(0) translate(4 167)\">\n",
       "<polygon fill=\"#ffffff\" stroke=\"transparent\" points=\"-4,4 -4,-167 250,-167 250,4 -4,4\"/>\n",
       "<text text-anchor=\"start\" x=\"102\" y=\"-148.8\" font-family=\"Lato\" font-size=\"14.00\" fill=\"#000000\">Inf(</text>\n",
       "<text text-anchor=\"start\" x=\"124\" y=\"-148.8\" font-family=\"Lato\" font-size=\"14.00\" fill=\"#1f78b4\">⓿</text>\n",
       "<text text-anchor=\"start\" x=\"140\" y=\"-148.8\" font-family=\"Lato\" font-size=\"14.00\" fill=\"#000000\">)</text>\n",
       "<text text-anchor=\"start\" x=\"100\" y=\"-134.8\" font-family=\"Lato\" font-size=\"14.00\" fill=\"#000000\">[Büchi]</text>\n",
       "<!-- I -->\n",
       "<!-- 0 -->\n",
       "<g id=\"node2\" class=\"node\">\n",
       "<title>0</title>\n",
       "<ellipse fill=\"#ffffaa\" stroke=\"#000000\" cx=\"56\" cy=\"-62\" rx=\"18\" ry=\"18\"/>\n",
       "<text text-anchor=\"middle\" x=\"56\" y=\"-58.3\" font-family=\"Lato\" font-size=\"14.00\" fill=\"#000000\">0</text>\n",
       "</g>\n",
       "<!-- I&#45;&gt;0 -->\n",
       "<g id=\"edge1\" class=\"edge\">\n",
       "<title>I&#45;&gt;0</title>\n",
       "<path fill=\"none\" stroke=\"#000000\" d=\"M1.1233,-62C4.178,-62 17.9448,-62 30.9241,-62\"/>\n",
       "<polygon fill=\"#000000\" stroke=\"#000000\" points=\"37.9807,-62 30.9808,-65.1501 34.4807,-62 30.9807,-62.0001 30.9807,-62.0001 30.9807,-62.0001 34.4807,-62 30.9807,-58.8501 37.9807,-62 37.9807,-62\"/>\n",
       "</g>\n",
       "<!-- 1 -->\n",
       "<g id=\"node3\" class=\"node\">\n",
       "<title>1</title>\n",
       "<ellipse fill=\"#ffffaa\" stroke=\"#000000\" cx=\"228\" cy=\"-61\" rx=\"18\" ry=\"18\"/>\n",
       "<text text-anchor=\"middle\" x=\"228\" y=\"-57.3\" font-family=\"Lato\" font-size=\"14.00\" fill=\"#000000\">1</text>\n",
       "</g>\n",
       "<!-- 0&#45;&gt;1 -->\n",
       "<g id=\"edge2\" class=\"edge\">\n",
       "<title>0&#45;&gt;1</title>\n",
       "<path fill=\"none\" stroke=\"#000000\" d=\"M73.3845,-67.5652C99.4503,-75.0931 150.0771,-86.5428 192,-77 196.464,-75.9839 201.0548,-74.4052 205.401,-72.6277\"/>\n",
       "<polygon fill=\"#000000\" stroke=\"#000000\" points=\"211.9758,-69.723 206.8458,-75.4332 208.7743,-71.1374 205.5728,-72.5518 205.5728,-72.5518 205.5728,-72.5518 208.7743,-71.1374 204.2999,-69.6705 211.9758,-69.723 211.9758,-69.723\"/>\n",
       "<text text-anchor=\"start\" x=\"136\" y=\"-98.8\" font-family=\"Lato\" font-size=\"14.00\" fill=\"#000000\">e</text>\n",
       "<text text-anchor=\"start\" x=\"132\" y=\"-83.8\" font-family=\"Lato\" font-size=\"14.00\" fill=\"#1f78b4\">⓿</text>\n",
       "</g>\n",
       "<!-- 2 -->\n",
       "<g id=\"node4\" class=\"node\">\n",
       "<title>2</title>\n",
       "<ellipse fill=\"#ffffaa\" stroke=\"#000000\" cx=\"140\" cy=\"-18\" rx=\"18\" ry=\"18\"/>\n",
       "<text text-anchor=\"middle\" x=\"140\" y=\"-14.3\" font-family=\"Lato\" font-size=\"14.00\" fill=\"#000000\">2</text>\n",
       "</g>\n",
       "<!-- 0&#45;&gt;2 -->\n",
       "<g id=\"edge3\" class=\"edge\">\n",
       "<title>0&#45;&gt;2</title>\n",
       "<path fill=\"none\" stroke=\"#000000\" d=\"M72.196,-53.5164C85.095,-46.7598 103.2956,-37.2261 117.5926,-29.7372\"/>\n",
       "<polygon fill=\"#000000\" stroke=\"#000000\" points=\"123.8537,-26.4576 119.1145,-32.4961 120.7533,-28.0816 117.6528,-29.7057 117.6528,-29.7057 117.6528,-29.7057 120.7533,-28.0816 116.1912,-26.9153 123.8537,-26.4576 123.8537,-26.4576\"/>\n",
       "<text text-anchor=\"start\" x=\"92\" y=\"-45.8\" font-family=\"Lato\" font-size=\"14.00\" fill=\"#000000\">!e</text>\n",
       "</g>\n",
       "<!-- 1&#45;&gt;1 -->\n",
       "<g id=\"edge4\" class=\"edge\">\n",
       "<title>1&#45;&gt;1</title>\n",
       "<path fill=\"none\" stroke=\"#000000\" d=\"M220.3321,-77.2903C218.4831,-87.3892 221.0391,-97 228,-97 233.2207,-97 235.9636,-91.5939 236.2287,-84.6304\"/>\n",
       "<polygon fill=\"#000000\" stroke=\"#000000\" points=\"235.6679,-77.2903 239.3421,-84.0299 235.9346,-80.7801 236.2013,-84.2699 236.2013,-84.2699 236.2013,-84.2699 235.9346,-80.7801 233.0604,-84.5099 235.6679,-77.2903 235.6679,-77.2903\"/>\n",
       "<text text-anchor=\"start\" x=\"223.5\" y=\"-115.8\" font-family=\"Lato\" font-size=\"14.00\" fill=\"#000000\">1</text>\n",
       "<text text-anchor=\"start\" x=\"220\" y=\"-100.8\" font-family=\"Lato\" font-size=\"14.00\" fill=\"#1f78b4\">⓿</text>\n",
       "</g>\n",
       "<!-- 2&#45;&gt;1 -->\n",
       "<g id=\"edge5\" class=\"edge\">\n",
       "<title>2&#45;&gt;1</title>\n",
       "<path fill=\"none\" stroke=\"#000000\" d=\"M156.5521,-26.088C170.2819,-32.7969 189.9485,-42.4067 205.1738,-49.8463\"/>\n",
       "<polygon fill=\"#000000\" stroke=\"#000000\" points=\"211.8194,-53.0936 204.1471,-52.8505 208.6747,-51.557 205.5301,-50.0203 205.5301,-50.0203 205.5301,-50.0203 208.6747,-51.557 206.913,-47.1901 211.8194,-53.0936 211.8194,-53.0936\"/>\n",
       "<text text-anchor=\"start\" x=\"180\" y=\"-61.8\" font-family=\"Lato\" font-size=\"14.00\" fill=\"#000000\">e</text>\n",
       "<text text-anchor=\"start\" x=\"176\" y=\"-46.8\" font-family=\"Lato\" font-size=\"14.00\" fill=\"#1f78b4\">⓿</text>\n",
       "</g>\n",
       "<!-- 2&#45;&gt;2 -->\n",
       "<g id=\"edge6\" class=\"edge\">\n",
       "<title>2&#45;&gt;2</title>\n",
       "<path fill=\"none\" stroke=\"#000000\" d=\"M132.6172,-34.6641C130.9766,-44.625 133.4375,-54 140,-54 144.9219,-54 147.5366,-48.7266 147.8442,-41.8876\"/>\n",
       "<polygon fill=\"#000000\" stroke=\"#000000\" points=\"147.3828,-34.6641 150.9727,-41.449 147.606,-38.1569 147.8291,-41.6498 147.8291,-41.6498 147.8291,-41.6498 147.606,-38.1569 144.6855,-41.8507 147.3828,-34.6641 147.3828,-34.6641\"/>\n",
       "<text text-anchor=\"start\" x=\"134\" y=\"-57.8\" font-family=\"Lato\" font-size=\"14.00\" fill=\"#000000\">!e</text>\n",
       "</g>\n",
       "</g>\n",
       "</svg>\n",
       "</div>"
      ],
      "text/plain": [
       "<csrl.oa.OmegaAutomaton at 0x7f8bd878e978>"
      ]
     },
     "execution_count": 17,
     "metadata": {},
     "output_type": "execute_result"
    }
   ],
   "source": [
    "oa"
   ]
  },
  {
   "cell_type": "code",
   "execution_count": 18,
   "id": "ed9adb1d-ad7f-4b50-9e2f-1decdc79eae4",
   "metadata": {},
   "outputs": [],
   "source": [
    "from csrl import ControlSynthesis\n",
    "# Construct product MDPs\n",
    "csrl1 = ControlSynthesis(mdp,oa)\n",
    "csrl2 = ControlSynthesis(mdp,oa)\n",
    "\n"
   ]
  },
  {
   "cell_type": "code",
   "execution_count": 19,
   "id": "a6eec177-5d34-4356-8cbe-925b7e6c6096",
   "metadata": {},
   "outputs": [],
   "source": [
    "# test parse starting obs\n",
    "\n",
    "starts=parse_starting_pos(env.n_agents, test, env.get_total_food())"
   ]
  },
  {
   "cell_type": "code",
   "execution_count": 20,
   "id": "56d78e32-896d-4f66-80e7-0b67c56bc22b",
   "metadata": {},
   "outputs": [],
   "source": [
    "from multi import MultiControlSynthesis\n",
    "\n",
    "mcsrl = MultiControlSynthesis(np.array([csrl1,csrl2], dtype=object), mdp=mdp, starts=starts, oa=oa)"
   ]
  },
  {
   "cell_type": "code",
   "execution_count": 21,
   "id": "5704545d-cd66-4501-97e0-454a0861b01c",
   "metadata": {},
   "outputs": [
    {
     "data": {
      "text/plain": [
       "((0.0, 7.0), (4.0, 3.0))"
      ]
     },
     "execution_count": 21,
     "metadata": {},
     "output_type": "execute_result"
    }
   ],
   "source": [
    "starts"
   ]
  },
  {
   "cell_type": "code",
   "execution_count": 22,
   "id": "c5797998-0c61-4e80-8744-4209952cf446",
   "metadata": {},
   "outputs": [
    {
     "data": {
      "text/plain": [
       "(0, 7)"
      ]
     },
     "execution_count": 22,
     "metadata": {},
     "output_type": "execute_result"
    }
   ],
   "source": [
    "env.players[0].position"
   ]
  },
  {
   "cell_type": "code",
   "execution_count": 23,
   "id": "92653a58-6869-47fa-9bcc-f6f083c9e0cb",
   "metadata": {},
   "outputs": [
    {
     "data": {
      "text/plain": [
       "(array([6., 1., 1., 0., 7., 1., 4., 3., 1.], dtype=float32),\n",
       " array([6., 1., 1., 4., 3., 1., 0., 7., 1.], dtype=float32))"
      ]
     },
     "execution_count": 23,
     "metadata": {},
     "output_type": "execute_result"
    }
   ],
   "source": [
    "test"
   ]
  },
  {
   "cell_type": "code",
   "execution_count": 25,
   "id": "48091996-3c16-48c7-9286-915f0d0b51b9",
   "metadata": {
    "scrolled": true,
    "tags": []
   },
   "outputs": [
    {
     "name": "stdout",
     "output_type": "stream",
     "text": [
      "- global labels:  ('e',)\n",
      "- global labels:  ('e',)\n",
      "- global labels:  ('e',)\n",
      "- global labels:  ('e',)\n",
      "- global labels:  ('e',)\n",
      "- global labels:  ('e',)\n",
      "- global labels:  ('e',)\n",
      "- global labels:  ('e',)\n",
      "- global labels:  ('e',)\n",
      "- global labels:  ('e',)\n",
      "- global labels:  ('e',)\n",
      "- global labels:  ('e',)\n",
      "- global labels:  ('e',)\n",
      "- global labels:  ('e',)\n",
      "- global labels:  ('e',)\n",
      "- global labels:  ('e',)\n",
      "- global labels:  ('e',)\n",
      "- global labels:  ('e',)\n",
      "- global labels:  ('e',)\n",
      "- global labels:  ('e',)\n",
      "- global labels:  ('e',)\n",
      "- global labels:  ('e',)\n",
      "- global labels:  ('e',)\n",
      "- global labels:  ('e',)\n",
      "- global labels:  ('e',)\n",
      "- global labels:  ('e',)\n",
      "- global labels:  ('e',)\n",
      "- global labels:  ('e',)\n",
      "- global labels:  ('e',)\n",
      "- global labels:  ('e',)\n",
      "- global labels:  ('e',)\n",
      "- global labels:  ('e',)\n",
      "- global labels:  ('e',)\n",
      "- global labels:  ('e',)\n",
      "- global labels:  ('e',)\n",
      "- global labels:  ('e',)\n",
      "- global labels:  ('e',)\n",
      "- global labels:  ('e',)\n",
      "- global labels:  ('e',)\n",
      "- global labels:  ('e',)\n",
      "- global labels:  ('e',)\n",
      "- global labels:  ('e',)\n",
      "- global labels:  ('e',)\n",
      "- global labels:  ('e',)\n",
      "- global labels:  ('e',)\n",
      "- global labels:  ('e',)\n",
      "- global labels:  ('e',)\n",
      "- global labels:  ('e',)\n",
      "- global labels:  ('e',)\n",
      "- global labels:  ('e',)\n",
      "- global labels:  ('e',)\n",
      "- global labels:  ('e',)\n",
      "- global labels:  ('e',)\n",
      "- global labels:  ('e',)\n",
      "- global labels:  ('e',)\n",
      "- global labels:  ('e',)\n",
      "- global labels:  ('e',)\n",
      "- global labels:  ('e',)\n",
      "- global labels:  ('e',)\n",
      "- global labels:  ('e',)\n",
      "- global labels:  ('e',)\n",
      "- global labels:  ('e',)\n",
      "- global labels:  ('e',)\n",
      "- global labels:  ('e',)\n",
      "- global labels:  ('e',)\n",
      "- global labels:  ('e',)\n",
      "- global labels:  ('e',)\n",
      "- global labels:  ('e',)\n",
      "- global labels:  ('e',)\n",
      "- global labels:  ('e',)\n",
      "- global labels:  ('e',)\n",
      "- global labels:  ('e',)\n",
      "- global labels:  ('e',)\n",
      "- global labels:  ('e',)\n",
      "- global labels:  ('e',)\n",
      "- global labels:  ('e',)\n",
      "- global labels:  ('e',)\n",
      "- global labels:  ('e',)\n",
      "- global labels:  ('e',)\n",
      "- global labels:  ('e',)\n",
      "- global labels:  ('e',)\n",
      "- global labels:  ('e',)\n",
      "- global labels:  ('e',)\n",
      "- global labels:  ('e',)\n",
      "- global labels:  ('e',)\n",
      "- global labels:  ('e',)\n",
      "- global labels:  ('e',)\n",
      "- global labels:  ('e',)\n",
      "- global labels:  ('e',)\n",
      "- global labels:  ('e',)\n",
      "- global labels:  ('e',)\n",
      "- global labels:  ('e',)\n",
      "- global labels:  ('e',)\n",
      "- global labels:  ('e',)\n",
      "- global labels:  ('e',)\n",
      "- global labels:  ('e',)\n",
      "- global labels:  ('e',)\n",
      "- global labels:  ('e',)\n",
      "- global labels:  ('e',)\n",
      "- global labels:  ('e',)\n",
      "- global labels:  ('e',)\n",
      "- global labels:  ('e',)\n",
      "- global labels:  ('e',)\n",
      "- global labels:  ('e',)\n",
      "- global labels:  ('e',)\n",
      "- global labels:  ('e',)\n",
      "- global labels:  ('e',)\n",
      "- global labels:  ('e',)\n",
      "- global labels:  ('e',)\n",
      "- global labels:  ('e',)\n",
      "- global labels:  ('e',)\n",
      "- global labels:  ('e',)\n",
      "- global labels:  ('e',)\n",
      "- global labels:  ('e',)\n",
      "- global labels:  ('e',)\n",
      "- global labels:  ('e',)\n",
      "- global labels:  ('e',)\n",
      "- global labels:  ('e',)\n",
      "- global labels:  ('e',)\n",
      "- global labels:  ('e',)\n",
      "- global labels:  ('e',)\n",
      "- global labels:  ('e',)\n",
      "- global labels:  ('e',)\n",
      "- global labels:  ('e',)\n",
      "- global labels:  ('e',)\n",
      "- global labels:  ('e',)\n",
      "- global labels:  ('e',)\n",
      "- global labels:  ('e',)\n",
      "- global labels:  ('e',)\n",
      "- global labels:  ('e',)\n",
      "- global labels:  ('e',)\n",
      "- global labels:  ('e',)\n",
      "- global labels:  ('e',)\n",
      "- global labels:  ('e',)\n",
      "- global labels:  ('e',)\n",
      "- global labels:  ('e',)\n",
      "- global labels:  ('e',)\n",
      "- global labels:  ('e',)\n",
      "- global labels:  ('e',)\n",
      "- global labels:  ('e',)\n",
      "- global labels:  ('e',)\n",
      "- global labels:  ('e',)\n",
      "- global labels:  ('e',)\n",
      "- global labels:  ('e',)\n",
      "- global labels:  ('e',)\n",
      "- global labels:  ('e',)\n",
      "- global labels:  ('e',)\n",
      "- global labels:  ('e',)\n",
      "- global labels:  ('e',)\n",
      "- global labels:  ('e',)\n",
      "- global labels:  ('e',)\n",
      "- global labels:  ('e',)\n",
      "- global labels:  ('e',)\n",
      "- global labels:  ('e',)\n",
      "- global labels:  ('e',)\n",
      "- global labels:  ('e',)\n",
      "- global labels:  ('e',)\n",
      "- global labels:  ('e',)\n",
      "- global labels:  ('e',)\n",
      "- global labels:  ('e',)\n",
      "- global labels:  ('e',)\n",
      "- global labels:  ('e',)\n",
      "- global labels:  ('e',)\n",
      "- global labels:  ('e',)\n",
      "- global labels:  ('e',)\n",
      "- global labels:  ('e',)\n",
      "- global labels:  ('e',)\n",
      "- global labels:  ('e',)\n",
      "- global labels:  ('e',)\n",
      "- global labels:  ('e',)\n",
      "- global labels:  ('e',)\n",
      "- global labels:  ('e',)\n",
      "- global labels:  ('e',)\n",
      "- global labels:  ('e',)\n",
      "- global labels:  ('e',)\n",
      "- global labels:  ('e',)\n",
      "- global labels:  ('e',)\n",
      "- global labels:  ('e',)\n",
      "- global labels:  ('e',)\n",
      "- global labels:  ('e',)\n",
      "- global labels:  ('e',)\n",
      "- global labels:  ('e',)\n",
      "- global labels:  ('e',)\n",
      "- global labels:  ('e',)\n",
      "- global labels:  ('e',)\n",
      "- global labels:  ('e',)\n",
      "- global labels:  ('e',)\n",
      "- global labels:  ('e',)\n",
      "- global labels:  ('e',)\n",
      "- global labels:  ('e',)\n",
      "- global labels:  ('e',)\n",
      "- global labels:  ('e',)\n",
      "- global labels:  ('e',)\n",
      "- global labels:  ('e',)\n"
     ]
    },
    {
     "data": {
      "text/plain": [
       "(2, 1, 4, 8, 8, 10)"
      ]
     },
     "execution_count": 25,
     "metadata": {},
     "output_type": "execute_result"
    }
   ],
   "source": [
    "Q = mcsrl.combined_learning(env, T= 100, K=10, debug=True)\n",
    "Q.shape"
   ]
  },
  {
   "cell_type": "code",
   "execution_count": 26,
   "id": "2a9ce724-dc37-4ce5-9bcb-78c532bae67b",
   "metadata": {},
   "outputs": [
    {
     "data": {
      "text/plain": [
       "array([[[[0, 0, 0, 0, 0, 0, 0, 0],\n",
       "         [0, 0, 0, 0, 0, 0, 0, 0],\n",
       "         [0, 0, 0, 0, 0, 0, 0, 0],\n",
       "         [0, 0, 0, 0, 0, 0, 2, 0],\n",
       "         [0, 0, 0, 0, 0, 0, 0, 0],\n",
       "         [0, 0, 1, 0, 0, 0, 0, 0],\n",
       "         [0, 0, 0, 0, 0, 0, 0, 0],\n",
       "         [0, 0, 0, 0, 0, 0, 0, 0]],\n",
       "\n",
       "        [[2, 2, 2, 4, 2, 2, 5, 0],\n",
       "         [5, 4, 4, 1, 0, 4, 0, 3],\n",
       "         [4, 2, 4, 2, 2, 1, 1, 2],\n",
       "         [2, 2, 2, 4, 0, 4, 4, 0],\n",
       "         [5, 4, 0, 1, 4, 4, 4, 1],\n",
       "         [3, 3, 1, 3, 1, 5, 1, 3],\n",
       "         [3, 4, 3, 5, 2, 3, 2, 4],\n",
       "         [1, 3, 4, 5, 3, 3, 3, 3]],\n",
       "\n",
       "        [[0, 4, 2, 0, 0, 0, 0, 0],\n",
       "         [0, 4, 1, 3, 4, 2, 3, 3],\n",
       "         [4, 4, 2, 0, 2, 3, 3, 3],\n",
       "         [0, 4, 2, 4, 5, 3, 0, 0],\n",
       "         [4, 5, 3, 3, 3, 4, 5, 0],\n",
       "         [1, 1, 1, 0, 1, 3, 3, 3],\n",
       "         [0, 0, 5, 0, 0, 4, 1, 0],\n",
       "         [0, 4, 1, 5, 0, 0, 1, 0]],\n",
       "\n",
       "        [[0, 0, 0, 0, 0, 0, 0, 0],\n",
       "         [0, 0, 0, 0, 0, 0, 0, 0],\n",
       "         [0, 0, 0, 0, 0, 0, 0, 0],\n",
       "         [0, 0, 0, 0, 0, 0, 0, 0],\n",
       "         [0, 0, 0, 0, 0, 0, 0, 0],\n",
       "         [0, 0, 0, 0, 0, 0, 0, 0],\n",
       "         [0, 0, 0, 0, 0, 0, 0, 0],\n",
       "         [0, 0, 0, 0, 0, 0, 0, 0]]]])"
      ]
     },
     "execution_count": 26,
     "metadata": {},
     "output_type": "execute_result"
    }
   ],
   "source": [
    "policy=np.argmax(Q[0],axis=4)\n",
    "policy"
   ]
  },
  {
   "cell_type": "code",
   "execution_count": 47,
   "id": "2ebdf064-3dd1-44ed-9539-dbbb43c9d180",
   "metadata": {},
   "outputs": [
    {
     "data": {
      "text/plain": [
       "[None]"
      ]
     },
     "execution_count": 47,
     "metadata": {},
     "output_type": "execute_result"
    }
   ],
   "source": []
  },
  {
   "cell_type": "code",
   "execution_count": 33,
   "id": "0ed46142-edee-498a-8666-8b9c9008921d",
   "metadata": {},
   "outputs": [
    {
     "data": {
      "text/plain": [
       "{(): 0, ('e',): 0}"
      ]
     },
     "execution_count": 33,
     "metadata": {},
     "output_type": "execute_result"
    }
   ],
   "source": [
    "oa.delta[0]"
   ]
  },
  {
   "cell_type": "markdown",
   "id": "095ef87a-945e-475d-bcd0-4667e748f0be",
   "metadata": {},
   "source": [
    "### Create the foraging MDP - link labels to ForagingEnv"
   ]
  },
  {
   "cell_type": "code",
   "execution_count": null,
   "id": "0378f95e-479a-4ff2-b8db-b04139d2224d",
   "metadata": {},
   "outputs": [],
   "source": []
  },
  {
   "cell_type": "markdown",
   "id": "dcfb875d-2f82-4099-8e0b-f8d53f4755f0",
   "metadata": {},
   "source": [
    "### Create the automaton -> FG e"
   ]
  },
  {
   "cell_type": "code",
   "execution_count": null,
   "id": "2159f237-b50f-4fdb-ac5a-25a86aa69ab7",
   "metadata": {},
   "outputs": [],
   "source": []
  },
  {
   "cell_type": "markdown",
   "id": "46e89a1e-2df3-49f7-9864-04cca07f4425",
   "metadata": {},
   "source": [
    "### initialize the Multi csrl "
   ]
  },
  {
   "cell_type": "code",
   "execution_count": null,
   "id": "f7da2348-a95a-4ef0-bffc-33d1fabf7804",
   "metadata": {},
   "outputs": [],
   "source": []
  },
  {
   "cell_type": "markdown",
   "id": "5993430e-0afb-42c6-93b3-29861bd5a312",
   "metadata": {},
   "source": [
    "### run combined_learning"
   ]
  },
  {
   "cell_type": "code",
   "execution_count": null,
   "id": "eae5907b-39d4-4595-aab0-7d80dc664661",
   "metadata": {},
   "outputs": [],
   "source": []
  }
 ],
 "metadata": {
  "kernelspec": {
   "display_name": "Python 3",
   "language": "python",
   "name": "python3"
  },
  "language_info": {
   "codemirror_mode": {
    "name": "ipython",
    "version": 3
   },
   "file_extension": ".py",
   "mimetype": "text/x-python",
   "name": "python",
   "nbconvert_exporter": "python",
   "pygments_lexer": "ipython3",
   "version": "3.6.9"
  }
 },
 "nbformat": 4,
 "nbformat_minor": 5
}
