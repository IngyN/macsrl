{
 "cells": [
  {
   "cell_type": "markdown",
   "metadata": {},
   "source": [
    "# Examples of MDPs"
   ]
  },
  {
   "cell_type": "markdown",
   "metadata": {},
   "source": [
    "### Structure"
   ]
  },
  {
   "cell_type": "markdown",
   "metadata": {},
   "source": [
    "$\\texttt{structure[i,j]}$ stores the type of the cell $\\texttt{(i,j)}$. \n",
    "If $\\texttt{structure[i,j]}$ is $\\texttt{'E'}$. it means the cell is empty and the agent is free to move in any direction. If it is $\\texttt{'B'}$. then the cell is blocked, the agent cannot go there.\n",
    "If it is one of $\\texttt{'D'}$.,$\\texttt{'U'}$.,$\\texttt{'R'}$. and $\\texttt{'L'}$., the agent is free to enter the cell in any direction, but it cannot leave the cell in the opposite direction of the label.\n",
    "    For example, if the label is $\\texttt{'D'}$., then the agent cannot go up as if there is an obstacle there.\n",
    "If it is $\\texttt{'T'}$., then the cell is a trap cell, which means if the agent cannot leave the cell once it reaches it."
   ]
  },
  {
   "cell_type": "code",
   "execution_count": 1,
   "metadata": {},
   "outputs": [
    {
     "data": {
      "image/png": "[encoded data removed]",
      "text/plain": [
       "<Figure size 720x720 with 1 Axes>"
      ]
     },
     "metadata": {
      "needs_background": "light"
     },
     "output_type": "display_data"
    }
   ],
   "source": [
    "%matplotlib inline\n",
    "%load_ext autoreload\n",
    "%autoreload 2\n",
    "from csrl.mdp import GridMDP\n",
    "import numpy as np \n",
    "\n",
    "shape = n_cols, n_rows = (2,7)\n",
    "\n",
    "structure = np.array([\n",
    "['E','E','E','E','E','E','E'],\n",
    "['E','E','E','E','E','E','E']\n",
    "])\n",
    "\n",
    "label = np.empty(shape,dtype=object)\n",
    "label.fill(())\n",
    "label2 = np.empty(shape,dtype=object)\n",
    "label2.fill(())\n",
    "label[0,0] = ('a',)\n",
    "label2[1,6] = ('b',)\n",
    "comb_labels = np.empty(shape, dtype=object)\n",
    "comb_labels.fill(())\n",
    "comb_labels[0,0] = ('a',)\n",
    "comb_labels[1,6] = ('b',)\n",
    "\n",
    "\n",
    "    \n",
    "grid_mdp = GridMDP(shape=shape,structure=structure,label=label,figsize=10, p=1.0)\n",
    "grid_mdp.plot()"
   ]
  },
  {
   "cell_type": "code",
   "execution_count": 2,
   "metadata": {},
   "outputs": [
    {
     "data": {
      "image/png": "[encoded data removed]",
      "text/plain": [
       "<Figure size 720x720 with 1 Axes>"
      ]
     },
     "metadata": {
      "needs_background": "light"
     },
     "output_type": "display_data"
    }
   ],
   "source": [
    "grid_mdp2 = GridMDP(shape=shape,structure=structure,label=label2,figsize=10,p=1.0)\n",
    "grid_mdp2.plot()"
   ]
  },
  {
   "cell_type": "code",
   "execution_count": 3,
   "metadata": {},
   "outputs": [
    {
     "data": {
      "image/png": "[encoded data removed]",
      "text/plain": [
       "<Figure size 720x720 with 1 Axes>"
      ]
     },
     "metadata": {
      "needs_background": "light"
     },
     "output_type": "display_data"
    }
   ],
   "source": [
    "comb_mdp = GridMDP(shape=shape,structure=structure,label=comb_labels,figsize=10, p=1)\n",
    "comb_mdp.plot()"
   ]
  },
  {
   "cell_type": "code",
   "execution_count": 4,
   "metadata": {},
   "outputs": [
    {
     "name": "stdout",
     "output_type": "stream",
     "text": [
      "['State: 0', '[t] 0', '1', 'State: 1', '[0] 1 {0}']\n",
      "0 set() [t] 0\n",
      "[None]\n",
      "set()\n",
      "---  () -  True -  set()  -  set()\n",
      "here 0 [None]\n",
      "---  ('a',) -  True -  set()  -  set()\n",
      "here 0 [None]\n",
      "1 {0} [0] 1 {0}\n",
      "[True]\n",
      "{'a'}\n",
      "---  () -  False -  set()  -  set()\n",
      "---  ('a',) -  True -  set()  -  set()\n",
      "here 1 [True]\n",
      "['State: 0', '[t] 0', '1', 'State: 1', '[0] 1 {0}']\n",
      "0 set() [t] 0\n",
      "[None]\n",
      "set()\n",
      "---  () -  True -  set()  -  set()\n",
      "here 0 [None]\n",
      "---  ('b',) -  True -  set()  -  set()\n",
      "here 0 [None]\n",
      "1 {0} [0] 1 {0}\n",
      "[True]\n",
      "{'b'}\n",
      "---  () -  False -  set()  -  set()\n",
      "---  ('b',) -  True -  set()  -  set()\n",
      "here 1 [True]\n",
      "Number of Omega-automaton states (including the trap state): 3\n",
      "Number of Omega-automaton states (including the trap state): 3\n"
     ]
    }
   ],
   "source": [
    "from csrl.oa import OmegaAutomaton\n",
    "\n",
    "# LTL Specification\n",
    "ltl1 = 'FG a'\n",
    "ltl2 = 'FG b' # LTL seems to have to contain all labels for MDP\n",
    "\n",
    "# Translate the LTL formula to an LDBA\n",
    "oa1 = OmegaAutomaton(ltl1)\n",
    "oa2 = OmegaAutomaton(ltl2)\n",
    "\n",
    "print('Number of Omega-automaton states (including the trap state):',oa1.shape[1])\n",
    "print('Number of Omega-automaton states (including the trap state):',oa2.shape[1])\n"
   ]
  },
  {
   "cell_type": "code",
   "execution_count": 16,
   "metadata": {},
   "outputs": [
    {
     "data": {
      "text/html": [
       "<div><?xml version=\"1.0\" encoding=\"UTF-8\" standalone=\"no\"?>\n",
       "<!DOCTYPE svg PUBLIC \"-//W3C//DTD SVG 1.1//EN\"\n",
       " \"http://www.w3.org/Graphics/SVG/1.1/DTD/svg11.dtd\">\n",
       "<!-- Generated by graphviz version 2.40.1 (20161225.0304)\n",
       " -->\n",
       "<!-- Pages: 1 -->\n",
       "<svg width=\"163pt\" height=\"128pt\"\n",
       " viewBox=\"0.00 0.00 163.00 128.00\" xmlns=\"http://www.w3.org/2000/svg\" xmlns:xlink=\"http://www.w3.org/1999/xlink\">\n",
       "<g id=\"graph0\" class=\"graph\" transform=\"scale(1.0 1.0) rotate(0) translate(4 124)\">\n",
       "<polygon fill=\"#ffffff\" stroke=\"transparent\" points=\"-4,4 -4,-124 159,-124 159,4 -4,4\"/>\n",
       "<text text-anchor=\"start\" x=\"56.5\" y=\"-105.8\" font-family=\"Lato\" font-size=\"14.00\" fill=\"#000000\">Inf(</text>\n",
       "<text text-anchor=\"start\" x=\"78.5\" y=\"-105.8\" font-family=\"Lato\" font-size=\"14.00\" fill=\"#1f78b4\">⓿</text>\n",
       "<text text-anchor=\"start\" x=\"94.5\" y=\"-105.8\" font-family=\"Lato\" font-size=\"14.00\" fill=\"#000000\">)</text>\n",
       "<text text-anchor=\"start\" x=\"54.5\" y=\"-91.8\" font-family=\"Lato\" font-size=\"14.00\" fill=\"#000000\">[Büchi]</text>\n",
       "<!-- I -->\n",
       "<!-- 0 -->\n",
       "<g id=\"node2\" class=\"node\">\n",
       "<title>0</title>\n",
       "<ellipse fill=\"#ffffaa\" stroke=\"#000000\" cx=\"56\" cy=\"-18\" rx=\"18\" ry=\"18\"/>\n",
       "<text text-anchor=\"middle\" x=\"56\" y=\"-14.3\" font-family=\"Lato\" font-size=\"14.00\" fill=\"#000000\">0</text>\n",
       "</g>\n",
       "<!-- I&#45;&gt;0 -->\n",
       "<g id=\"edge1\" class=\"edge\">\n",
       "<title>I&#45;&gt;0</title>\n",
       "<path fill=\"none\" stroke=\"#000000\" d=\"M1.1233,-18C4.178,-18 17.9448,-18 30.9241,-18\"/>\n",
       "<polygon fill=\"#000000\" stroke=\"#000000\" points=\"37.9807,-18 30.9808,-21.1501 34.4807,-18 30.9807,-18.0001 30.9807,-18.0001 30.9807,-18.0001 34.4807,-18 30.9807,-14.8501 37.9807,-18 37.9807,-18\"/>\n",
       "</g>\n",
       "<!-- 0&#45;&gt;0 -->\n",
       "<g id=\"edge2\" class=\"edge\">\n",
       "<title>0&#45;&gt;0</title>\n",
       "<path fill=\"none\" stroke=\"#000000\" d=\"M49.6208,-35.0373C48.3189,-44.8579 50.4453,-54 56,-54 60.166,-54 62.4036,-48.8576 62.7128,-42.1433\"/>\n",
       "<polygon fill=\"#000000\" stroke=\"#000000\" points=\"62.3792,-35.0373 65.8541,-41.8818 62.5434,-38.5335 62.7076,-42.0296 62.7076,-42.0296 62.7076,-42.0296 62.5434,-38.5335 59.561,-42.1774 62.3792,-35.0373 62.3792,-35.0373\"/>\n",
       "<text text-anchor=\"start\" x=\"51.5\" y=\"-57.8\" font-family=\"Lato\" font-size=\"14.00\" fill=\"#000000\">1</text>\n",
       "</g>\n",
       "<!-- 1 -->\n",
       "<g id=\"node3\" class=\"node\">\n",
       "<title>1</title>\n",
       "<ellipse fill=\"#ffffaa\" stroke=\"#000000\" cx=\"137\" cy=\"-18\" rx=\"18\" ry=\"18\"/>\n",
       "<text text-anchor=\"start\" x=\"132.5\" y=\"-14.3\" font-family=\"Lato\" font-size=\"14.00\" fill=\"#000000\">1</text>\n",
       "</g>\n",
       "<!-- 0&#45;&gt;1 -->\n",
       "<g id=\"edge3\" class=\"edge\">\n",
       "<title>0&#45;&gt;1</title>\n",
       "<path fill=\"none\" stroke=\"#000000\" d=\"M74.3802,-18C85.4352,-18 99.6622,-18 111.7609,-18\"/>\n",
       "<polygon fill=\"#000000\" stroke=\"#000000\" points=\"118.9716,-18 111.9716,-21.1501 115.4716,-18 111.9716,-18.0001 111.9716,-18.0001 111.9716,-18.0001 115.4716,-18 111.9716,-14.8501 118.9716,-18 118.9716,-18\"/>\n",
       "<text text-anchor=\"start\" x=\"92\" y=\"-21.8\" font-family=\"Lato\" font-size=\"14.00\" fill=\"#000000\">1</text>\n",
       "</g>\n",
       "<!-- 1&#45;&gt;1 -->\n",
       "<g id=\"edge4\" class=\"edge\">\n",
       "<title>1&#45;&gt;1</title>\n",
       "<path fill=\"none\" stroke=\"#000000\" d=\"M129.9688,-34.6641C128.4063,-44.625 130.75,-54 137,-54 141.6875,-54 144.1777,-48.7266 144.4707,-41.8876\"/>\n",
       "<polygon fill=\"#000000\" stroke=\"#000000\" points=\"144.0313,-34.6641 147.6006,-41.4598 144.2438,-38.1576 144.4564,-41.6511 144.4564,-41.6511 144.4564,-41.6511 144.2438,-38.1576 141.3122,-41.8425 144.0313,-34.6641 144.0313,-34.6641\"/>\n",
       "<text text-anchor=\"start\" x=\"132.5\" y=\"-72.8\" font-family=\"Lato\" font-size=\"14.00\" fill=\"#000000\">b</text>\n",
       "<text text-anchor=\"start\" x=\"129\" y=\"-57.8\" font-family=\"Lato\" font-size=\"14.00\" fill=\"#1f78b4\">⓿</text>\n",
       "</g>\n",
       "</g>\n",
       "</svg>\n",
       "</div>"
      ],
      "text/plain": [
       "<csrl.oa.OmegaAutomaton at 0x7f7e5fa64320>"
      ]
     },
     "metadata": {},
     "output_type": "display_data"
    }
   ],
   "source": [
    "display(oa2)"
   ]
  },
  {
   "cell_type": "code",
   "execution_count": 5,
   "metadata": {},
   "outputs": [],
   "source": [
    "from csrl import ControlSynthesis\n",
    "import numpy as np \n",
    "\n",
    "# Construct product MDPs\n",
    "csrl1 = ControlSynthesis(grid_mdp,oa1)\n",
    "\n",
    "csrl2 = ControlSynthesis(grid_mdp2,oa2) "
   ]
  },
  {
   "cell_type": "code",
   "execution_count": 6,
   "metadata": {},
   "outputs": [],
   "source": [
    "starts=[(0, 6), (1, 0)]"
   ]
  },
  {
   "cell_type": "code",
   "execution_count": 7,
   "metadata": {},
   "outputs": [],
   "source": [
    "from multi import MultiControlSynthesis\n",
    "\n",
    "# \n",
    "mcsrl = MultiControlSynthesis(np.array([csrl1,csrl2], dtype=object), mdp=comb_mdp, starts=starts)"
   ]
  },
  {
   "cell_type": "code",
   "execution_count": 116,
   "metadata": {},
   "outputs": [],
   "source": [
    "mcsrl.ind_qlearning(T = 100, K=1000)"
   ]
  },
  {
   "cell_type": "code",
   "execution_count": 8,
   "metadata": {},
   "outputs": [],
   "source": [
    "Q1=csrl1.q_learning(start=(0,6), T=100, K=3000)"
   ]
  },
  {
   "cell_type": "code",
   "execution_count": 9,
   "metadata": {},
   "outputs": [],
   "source": [
    "Q2=csrl2.q_learning(start=(1,0), T=100, K=3000)"
   ]
  },
  {
   "cell_type": "code",
   "execution_count": 10,
   "metadata": {},
   "outputs": [
    {
     "data": {
      "image/png": "[encoded data removed]",
      "text/plain": [
       "<Figure size 720x720 with 1 Axes>"
      ]
     },
     "metadata": {
      "needs_background": "light"
     },
     "output_type": "display_data"
    }
   ],
   "source": [
    "value2=np.max(Q2,axis=4)\n",
    "# csrl.plot(value,iq=(0,0),save='safe_absorbing_states_values.pdf')\n",
    "csrl2.plot(value2,iq=(0,0))"
   ]
  },
  {
   "cell_type": "code",
   "execution_count": 11,
   "metadata": {},
   "outputs": [
    {
     "data": {
      "image/png": "[encoded data removed]",
      "text/plain": [
       "<Figure size 720x720 with 1 Axes>"
      ]
     },
     "metadata": {
      "needs_background": "light"
     },
     "output_type": "display_data"
    }
   ],
   "source": [
    "value=np.max(Q1,axis=4)\n",
    "# csrl.plot(value,iq=(0,0),save='safe_absorbing_states_values.pdf')\n",
    "csrl1.plot(value,iq=(0,0))"
   ]
  },
  {
   "cell_type": "code",
   "execution_count": 12,
   "metadata": {},
   "outputs": [
    {
     "name": "stdout",
     "output_type": "stream",
     "text": [
      "[[[[2 1 1 1 0 1 1]\n",
      "   [2 2 2 2 2 2 5]]\n",
      "\n",
      "  [[0 0 0 0 0 0 0]\n",
      "   [0 0 0 0 0 0 2]]\n",
      "\n",
      "  [[0 0 0 0 0 0 0]\n",
      "   [0 0 0 0 0 0 0]]]]\n"
     ]
    },
    {
     "data": {
      "application/vnd.jupyter.widget-view+json": {
       "model_id": "7e19fdeea2874988916cb4246b79bcbf",
       "version_major": 2,
       "version_minor": 0
      },
      "text/plain": [
       "interactive(children=(IntSlider(value=0, description='i', max=0), IntSlider(value=0, description='q', max=2), …"
      ]
     },
     "metadata": {},
     "output_type": "display_data"
    }
   ],
   "source": [
    "policy2=np.argmax(Q2,axis=4)\n",
    "print(policy2)\n",
    "# csrl.plot(value,policy,iq=(0,0),save='safe_absorbing_states_policy.pdf')\n",
    "csrl2.plot(value2,policy2)"
   ]
  },
  {
   "cell_type": "code",
   "execution_count": 13,
   "metadata": {
    "tags": []
   },
   "outputs": [
    {
     "name": "stdout",
     "output_type": "stream",
     "text": [
      "[[[[5 3 3 3 3 3 3]\n",
      "   [0 0 0 0 0 0 0]]\n",
      "\n",
      "  [[3 0 0 0 0 0 0]\n",
      "   [0 0 0 0 0 0 0]]\n",
      "\n",
      "  [[0 0 0 0 0 0 0]\n",
      "   [0 0 0 0 0 0 0]]]]\n"
     ]
    },
    {
     "data": {
      "application/vnd.jupyter.widget-view+json": {
       "model_id": "493850da074d461c8d02a391c3f672a6",
       "version_major": 2,
       "version_minor": 0
      },
      "text/plain": [
       "interactive(children=(IntSlider(value=0, description='i', max=0), IntSlider(value=0, description='q', max=2), …"
      ]
     },
     "metadata": {},
     "output_type": "display_data"
    }
   ],
   "source": [
    "policy=np.argmax(Q1,axis=4)\n",
    "print(policy)\n",
    "# csrl.plot(value,policy,iq=(0,0),save='safe_absorbing_states_policy.pdf')\n",
    "csrl1.plot(value,policy)"
   ]
  },
  {
   "cell_type": "code",
   "execution_count": 14,
   "metadata": {
    "scrolled": true
   },
   "outputs": [
    {
     "name": "stdout",
     "output_type": "stream",
     "text": [
      "20\n",
      "e [[(0, 0, 0, 6), (0, 0, 1, 0)]]\n"
     ]
    },
    {
     "ename": "KeyError",
     "evalue": "('a', 'b')",
     "output_type": "error",
     "traceback": [
      "\u001b[0;31m---------------------------------------------------------------------------\u001b[0m",
      "\u001b[0;31mKeyError\u001b[0m                                  Traceback (most recent call last)",
      "\u001b[0;32m<ipython-input-14-bf2ade1eec9e>\u001b[0m in \u001b[0;36m<module>\u001b[0;34m\u001b[0m\n\u001b[1;32m      1\u001b[0m \u001b[0mpolicies\u001b[0m \u001b[0;34m=\u001b[0m \u001b[0;34m[\u001b[0m\u001b[0mpolicy\u001b[0m\u001b[0;34m,\u001b[0m \u001b[0mpolicy2\u001b[0m\u001b[0;34m]\u001b[0m\u001b[0;34m\u001b[0m\u001b[0;34m\u001b[0m\u001b[0m\n\u001b[1;32m      2\u001b[0m \u001b[0magents\u001b[0m \u001b[0;34m=\u001b[0m \u001b[0;34m[\u001b[0m\u001b[0mcsrl1\u001b[0m\u001b[0;34m,\u001b[0m \u001b[0mcsrl2\u001b[0m\u001b[0;34m]\u001b[0m\u001b[0;34m\u001b[0m\u001b[0;34m\u001b[0m\u001b[0m\n\u001b[0;32m----> 3\u001b[0;31m \u001b[0mmcsrl\u001b[0m\u001b[0;34m.\u001b[0m\u001b[0msimulate\u001b[0m\u001b[0;34m(\u001b[0m \u001b[0mpolicies\u001b[0m\u001b[0;34m,\u001b[0m \u001b[0magents\u001b[0m\u001b[0;34m,\u001b[0m \u001b[0mT\u001b[0m\u001b[0;34m=\u001b[0m \u001b[0;36m20\u001b[0m\u001b[0;34m,\u001b[0m \u001b[0mmdp2\u001b[0m \u001b[0;34m=\u001b[0m\u001b[0mcomb_mdp\u001b[0m\u001b[0;34m,\u001b[0m \u001b[0manimation\u001b[0m\u001b[0;34m=\u001b[0m\u001b[0;34m\"comb_test\"\u001b[0m\u001b[0;34m)\u001b[0m\u001b[0;34m\u001b[0m\u001b[0;34m\u001b[0m\u001b[0m\n\u001b[0m",
      "\u001b[0;32m/mnt/c/Users/IngyNazif/Developer/quals/multi.py\u001b[0m in \u001b[0;36msimulate\u001b[0;34m(self, policy, agents, mdp2, start, T, use_mdp2, qlearning, plot, animation)\u001b[0m\n\u001b[1;32m    205\u001b[0m                 \u001b[0mtemp\u001b[0m \u001b[0;34m=\u001b[0m \u001b[0mlist\u001b[0m\u001b[0;34m(\u001b[0m\u001b[0mnext_state\u001b[0m\u001b[0;34m[\u001b[0m\u001b[0mi\u001b[0m\u001b[0;34m]\u001b[0m\u001b[0;34m)\u001b[0m\u001b[0;34m\u001b[0m\u001b[0;34m\u001b[0m\u001b[0m\n\u001b[1;32m    206\u001b[0m                 \u001b[0;31m# transition OA states\u001b[0m\u001b[0;34m\u001b[0m\u001b[0;34m\u001b[0m\u001b[0;34m\u001b[0m\u001b[0m\n\u001b[0;32m--> 207\u001b[0;31m                 \u001b[0mtemp\u001b[0m\u001b[0;34m[\u001b[0m\u001b[0;36m1\u001b[0m\u001b[0;34m]\u001b[0m \u001b[0;34m=\u001b[0m \u001b[0mself\u001b[0m\u001b[0;34m.\u001b[0m\u001b[0magent_control\u001b[0m\u001b[0;34m[\u001b[0m\u001b[0mi\u001b[0m\u001b[0;34m]\u001b[0m\u001b[0;34m.\u001b[0m\u001b[0moa\u001b[0m\u001b[0;34m.\u001b[0m\u001b[0mdelta\u001b[0m\u001b[0;34m[\u001b[0m\u001b[0mnext_state\u001b[0m\u001b[0;34m[\u001b[0m\u001b[0mi\u001b[0m\u001b[0;34m]\u001b[0m\u001b[0;34m[\u001b[0m\u001b[0;36m1\u001b[0m\u001b[0;34m]\u001b[0m\u001b[0;34m]\u001b[0m\u001b[0;34m[\u001b[0m\u001b[0mglobal_labels\u001b[0m\u001b[0;34m]\u001b[0m\u001b[0;34m\u001b[0m\u001b[0;34m\u001b[0m\u001b[0m\n\u001b[0m\u001b[1;32m    208\u001b[0m                 \u001b[0mnext_state\u001b[0m\u001b[0;34m[\u001b[0m\u001b[0mi\u001b[0m\u001b[0;34m]\u001b[0m \u001b[0;34m=\u001b[0m \u001b[0mtuple\u001b[0m\u001b[0;34m(\u001b[0m\u001b[0mtemp\u001b[0m\u001b[0;34m)\u001b[0m\u001b[0;34m\u001b[0m\u001b[0;34m\u001b[0m\u001b[0m\n\u001b[1;32m    209\u001b[0m \u001b[0;34m\u001b[0m\u001b[0m\n",
      "\u001b[0;31mKeyError\u001b[0m: ('a', 'b')"
     ]
    }
   ],
   "source": [
    "policies = [policy, policy2]\n",
    "agents = [csrl1, csrl2]\n",
    "mcsrl.simulate( policies, agents, T= 20, mdp2 =comb_mdp, animation=\"comb_test\")"
   ]
  },
  {
   "cell_type": "code",
   "execution_count": 30,
   "metadata": {},
   "outputs": [
    {
     "data": {
      "text/plain": [
       "(2,)"
      ]
     },
     "execution_count": 30,
     "metadata": {},
     "output_type": "execute_result"
    }
   ],
   "source": [
    "controls = np.array([csrl1,csrl2], dtype=object)\n",
    "controls.shape "
   ]
  },
  {
   "cell_type": "code",
   "execution_count": 28,
   "metadata": {},
   "outputs": [
    {
     "data": {
      "text/plain": [
       "array([<csrl.ControlSynthesis object at 0x0000020D68D536A0>, 0],\n",
       "      dtype=object)"
      ]
     },
     "execution_count": 28,
     "metadata": {},
     "output_type": "execute_result"
    }
   ],
   "source": [
    "c = np.zeros(2, dtype = object)\n",
    "c[0] = csrl1\n",
    "c"
   ]
  },
  {
   "cell_type": "code",
   "execution_count": null,
   "metadata": {},
   "outputs": [],
   "source": [
    "state = [[0, 0, 0, 0], [0, 0, 0, 2]]\n",
    "mcsrl.Q[0][state[0]].shape"
   ]
  },
  {
   "cell_type": "code",
   "execution_count": 24,
   "metadata": {},
   "outputs": [
    {
     "data": {
      "text/plain": [
       "[(0, 6), (1, 0)]"
      ]
     },
     "execution_count": 24,
     "metadata": {},
     "output_type": "execute_result"
    }
   ],
   "source": [
    "mcsrl.starts"
   ]
  },
  {
   "cell_type": "code",
   "execution_count": null,
   "metadata": {},
   "outputs": [],
   "source": []
  },
  {
   "cell_type": "code",
   "execution_count": null,
   "metadata": {},
   "outputs": [],
   "source": []
  }
 ],
 "metadata": {
  "kernelspec": {
   "display_name": "Python 3",
   "language": "python",
   "name": "python3"
  },
  "language_info": {
   "codemirror_mode": {
    "name": "ipython",
    "version": 3
   },
   "file_extension": ".py",
   "mimetype": "text/x-python",
   "name": "python",
   "nbconvert_exporter": "python",
   "pygments_lexer": "ipython3",
   "version": "3.6.9"
  }
 },
 "nbformat": 4,
 "nbformat_minor": 4
}
