{
 "cells": [
  {
   "cell_type": "markdown",
   "metadata": {},
   "source": [
    "# Examples of MDPs"
   ]
  },
  {
   "cell_type": "markdown",
   "metadata": {},
   "source": [
    "### Structure"
   ]
  },
  {
   "cell_type": "markdown",
   "metadata": {},
   "source": [
    "$\\texttt{structure[i,j]}$ stores the type of the cell $\\texttt{(i,j)}$. \n",
    "If $\\texttt{structure[i,j]}$ is $\\texttt{'E'}$. it means the cell is empty and the agent is free to move in any direction. If it is $\\texttt{'B'}$. then the cell is blocked, the agent cannot go there.\n",
    "If it is one of $\\texttt{'D'}$.,$\\texttt{'U'}$.,$\\texttt{'R'}$. and $\\texttt{'L'}$., the agent is free to enter the cell in any direction, but it cannot leave the cell in the opposite direction of the label.\n",
    "    For example, if the label is $\\texttt{'D'}$., then the agent cannot go up as if there is an obstacle there.\n",
    "If it is $\\texttt{'T'}$., then the cell is a trap cell, which means if the agent cannot leave the cell once it reaches it."
   ]
  },
  {
   "cell_type": "code",
   "execution_count": 49,
   "metadata": {},
   "outputs": [
    {
     "name": "stdout",
     "output_type": "stream",
     "text": [
      "The autoreload extension is already loaded. To reload it, use:\n",
      "  %reload_ext autoreload\n"
     ]
    },
    {
     "data": {
      "image/png": "[encoded data removed]",
      "text/plain": [
       "<Figure size 720x720 with 1 Axes>"
      ]
     },
     "metadata": {
      "needs_background": "light"
     },
     "output_type": "display_data"
    }
   ],
   "source": [
    "%matplotlib inline\n",
    "%load_ext autoreload\n",
    "%autoreload 2\n",
    "from csrl.mdp import GridMDP\n",
    "import numpy as np \n",
    "\n",
    "shape = n_cols, n_rows = (2,7)\n",
    "\n",
    "structure = np.array([\n",
    "['E','E','E','E','E','E','E'],\n",
    "['E','E','E','E','E','E','E']\n",
    "])\n",
    "\n",
    "label = np.empty(shape,dtype=object)\n",
    "label.fill(())\n",
    "label2 = np.empty(shape,dtype=object)\n",
    "label2.fill(())\n",
    "label[0,0] = ('a',)\n",
    "label2[1,6] = ('b',)\n",
    "comb_labels = np.empty(shape, dtype=object)\n",
    "comb_labels.fill(())\n",
    "comb_labels[0,0] = ('a',)\n",
    "comb_labels[1,6] = ('b',)\n",
    "\n",
    "\n",
    "    \n",
    "grid_mdp = GridMDP(shape=shape,structure=structure,label=label,figsize=10, p=1.0)\n",
    "grid_mdp.plot()"
   ]
  },
  {
   "cell_type": "code",
   "execution_count": 110,
   "metadata": {},
   "outputs": [
    {
     "data": {
      "image/png": "[encoded data removed]",
      "text/plain": [
       "<Figure size 720x720 with 1 Axes>"
      ]
     },
     "metadata": {
      "needs_background": "light"
     },
     "output_type": "display_data"
    }
   ],
   "source": [
    "grid_mdp2 = GridMDP(shape=shape,structure=structure,label=label2,figsize=10,p=1.0)\n",
    "grid_mdp2.plot()"
   ]
  },
  {
   "cell_type": "code",
   "execution_count": 111,
   "metadata": {},
   "outputs": [
    {
     "data": {
      "image/png": "[encoded data removed]",
      "text/plain": [
       "<Figure size 720x720 with 1 Axes>"
      ]
     },
     "metadata": {
      "needs_background": "light"
     },
     "output_type": "display_data"
    }
   ],
   "source": [
    "comb_mdp = GridMDP(shape=shape,structure=structure,label=comb_labels,figsize=10, p=1)\n",
    "comb_mdp.plot()"
   ]
  },
  {
   "cell_type": "code",
   "execution_count": 112,
   "metadata": {},
   "outputs": [
    {
     "name": "stdout",
     "output_type": "stream",
     "text": [
      "Number of Omega-automaton states (including the trap state): 3\n",
      "Number of Omega-automaton states (including the trap state): 3\n"
     ]
    }
   ],
   "source": [
    "from csrl.oa import OmegaAutomaton\n",
    "\n",
    "# LTL Specification\n",
    "ltl1 = 'FG a'\n",
    "ltl2 = 'FG b' # LTL seems to have to contain all labels for MDP\n",
    "\n",
    "# Translate the LTL formula to an LDBA\n",
    "oa1 = OmegaAutomaton(ltl1)\n",
    "oa2 = OmegaAutomaton(ltl2)\n",
    "\n",
    "print('Number of Omega-automaton states (including the trap state):',oa1.shape[1])\n",
    "print('Number of Omega-automaton states (including the trap state):',oa2.shape[1])\n"
   ]
  },
  {
   "cell_type": "code",
   "execution_count": 113,
   "metadata": {},
   "outputs": [],
   "source": [
    "from csrl import ControlSynthesis\n",
    "import numpy as np \n",
    "\n",
    "# Construct product MDPs\n",
    "csrl1 = ControlSynthesis(grid_mdp,oa1)\n",
    "\n",
    "csrl2 = ControlSynthesis(grid_mdp2,oa2) "
   ]
  },
  {
   "cell_type": "code",
   "execution_count": 114,
   "metadata": {},
   "outputs": [],
   "source": [
    "starts=[(0, 6), (1, 0)]"
   ]
  },
  {
   "cell_type": "code",
   "execution_count": 115,
   "metadata": {},
   "outputs": [],
   "source": [
    "from multi import MultiControlSynthesis\n",
    "\n",
    "# \n",
    "mcsrl = MultiControlSynthesis(np.array([csrl1,csrl2], dtype=object), mdp=comb_mdp, starts=starts)"
   ]
  },
  {
   "cell_type": "code",
   "execution_count": 116,
   "metadata": {},
   "outputs": [],
   "source": [
    "mcsrl.ind_qlearning(T = 100, K=1000)"
   ]
  },
  {
   "cell_type": "code",
   "execution_count": 117,
   "metadata": {},
   "outputs": [],
   "source": [
    "Q1=csrl1.q_learning(start=(0,6), T=100, K=3000)"
   ]
  },
  {
   "cell_type": "code",
   "execution_count": 118,
   "metadata": {},
   "outputs": [],
   "source": [
    "Q2=csrl2.q_learning(start=(1,0), T=100, K=3000)"
   ]
  },
  {
   "cell_type": "code",
   "execution_count": 119,
   "metadata": {},
   "outputs": [
    {
     "data": {
      "image/png": "[encoded data removed]",
      "text/plain": [
       "<Figure size 720x720 with 1 Axes>"
      ]
     },
     "metadata": {
      "needs_background": "light"
     },
     "output_type": "display_data"
    }
   ],
   "source": [
    "value2=np.max(Q2,axis=4)\n",
    "# csrl.plot(value,iq=(0,0),save='safe_absorbing_states_values.pdf')\n",
    "csrl2.plot(value2,iq=(0,0))"
   ]
  },
  {
   "cell_type": "code",
   "execution_count": 120,
   "metadata": {},
   "outputs": [
    {
     "data": {
      "image/png": "[encoded data removed]",
      "text/plain": [
       "<Figure size 720x720 with 1 Axes>"
      ]
     },
     "metadata": {
      "needs_background": "light"
     },
     "output_type": "display_data"
    }
   ],
   "source": [
    "value=np.max(Q1,axis=4)\n",
    "# csrl.plot(value,iq=(0,0),save='safe_absorbing_states_values.pdf')\n",
    "csrl1.plot(value,iq=(0,0))"
   ]
  },
  {
   "cell_type": "code",
   "execution_count": 121,
   "metadata": {},
   "outputs": [
    {
     "name": "stdout",
     "output_type": "stream",
     "text": [
      "[[[[2 2 2 1 1 1 1]\n",
      "   [2 2 2 2 2 2 5]]\n",
      "\n",
      "  [[0 0 0 0 0 0 0]\n",
      "   [0 0 0 0 0 0 1]]\n",
      "\n",
      "  [[0 0 0 0 0 0 0]\n",
      "   [0 0 0 0 0 0 0]]]]\n"
     ]
    },
    {
     "data": {
      "application/vnd.jupyter.widget-view+json": {
       "model_id": "c297067c11134d2f9edd4dca621baa48",
       "version_major": 2,
       "version_minor": 0
      },
      "text/plain": [
       "interactive(children=(IntSlider(value=0, description='i', max=0), IntSlider(value=0, description='q', max=2), …"
      ]
     },
     "metadata": {},
     "output_type": "display_data"
    },
    {
     "data": {
      "image/png": "[encoded data removed]",
      "text/plain": [
       "<Figure size 720x720 with 1 Axes>"
      ]
     },
     "metadata": {
      "needs_background": "light"
     },
     "output_type": "display_data"
    }
   ],
   "source": [
    "policy2=np.argmax(Q2,axis=4)\n",
    "print(policy2)\n",
    "# csrl.plot(value,policy,iq=(0,0),save='safe_absorbing_states_policy.pdf')\n",
    "csrl2.plot(value2,policy2)"
   ]
  },
  {
   "cell_type": "code",
   "execution_count": 122,
   "metadata": {
    "scrolled": true
   },
   "outputs": [
    {
     "name": "stdout",
     "output_type": "stream",
     "text": [
      "[[[[5 3 1 2 1 3 3]\n",
      "   [0 3 3 3 3 0 0]]\n",
      "\n",
      "  [[0 0 0 0 0 0 0]\n",
      "   [0 0 0 0 0 0 0]]\n",
      "\n",
      "  [[0 0 0 0 0 0 0]\n",
      "   [0 0 0 0 0 0 0]]]]\n"
     ]
    },
    {
     "data": {
      "application/vnd.jupyter.widget-view+json": {
       "model_id": "acf3397d8e8c40e895e09de1d358de24",
       "version_major": 2,
       "version_minor": 0
      },
      "text/plain": [
       "interactive(children=(IntSlider(value=0, description='i', max=0), IntSlider(value=0, description='q', max=2), …"
      ]
     },
     "metadata": {},
     "output_type": "display_data"
    },
    {
     "data": {
      "image/png": "[encoded data removed]",
      "text/plain": [
       "<Figure size 720x720 with 1 Axes>"
      ]
     },
     "metadata": {
      "needs_background": "light"
     },
     "output_type": "display_data"
    }
   ],
   "source": [
    "policy=np.argmax(Q1,axis=4)\n",
    "print(policy)\n",
    "# csrl.plot(value,policy,iq=(0,0),save='safe_absorbing_states_policy.pdf')\n",
    "csrl1.plot(value,policy)"
   ]
  },
  {
   "cell_type": "code",
   "execution_count": 123,
   "metadata": {
    "scrolled": true
   },
   "outputs": [
    {
     "name": "stdout",
     "output_type": "stream",
     "text": [
      "20\n",
      "e [[(0, 0, 0, 6), (0, 0, 1, 0)]]\n",
      "0 :  (0, 6) \t (1, 0)\n",
      "1 :  (0, 5) \t (1, 1)\n",
      "2 :  (0, 4) \t (1, 2)\n",
      "3 :  (1, 4) \t (1, 3)\n",
      "4 :  (1, 3) \t (1, 4)\n",
      "5 :  (1, 2) \t (1, 5)\n",
      "6 :  (1, 1) \t (1, 6)\n",
      "7 :  (1, 0) \t (1, 6)\n",
      "8 :  (0, 0) \t (1, 6)\n",
      "9 :  (0, 0) \t (1, 6)\n",
      "10 :  (0, 0) \t (1, 6)\n",
      "11 :  (0, 0) \t (1, 6)\n",
      "12 :  (0, 0) \t (1, 6)\n",
      "13 :  (0, 0) \t (1, 6)\n",
      "14 :  (0, 0) \t (1, 6)\n",
      "15 :  (0, 0) \t (1, 6)\n",
      "16 :  (0, 0) \t (1, 6)\n",
      "17 :  (0, 0) \t (1, 6)\n",
      "18 :  (0, 0) \t (1, 6)\n",
      "19 :  (0, 0) \t (1, 6)\n"
     ]
    },
    {
     "data": {
      "text/plain": [
       "[[(0, 0, 0, 6), (0, 0, 1, 0)],\n",
       " [(0, 0, 0, 5), (0, 0, 1, 1)],\n",
       " [(0, 0, 0, 4), (0, 0, 1, 2)],\n",
       " [(0, 0, 1, 4), (0, 0, 1, 3)],\n",
       " [(0, 0, 1, 3), (0, 0, 1, 4)],\n",
       " [(0, 0, 1, 2), (0, 0, 1, 5)],\n",
       " [(0, 0, 1, 1), (0, 0, 1, 6)],\n",
       " [(0, 0, 1, 0), (0, 1, 1, 6)],\n",
       " [(0, 0, 0, 0), (0, 1, 1, 6)],\n",
       " [(0, 1, 0, 0), (0, 1, 1, 6)],\n",
       " [(0, 1, 0, 0), (0, 1, 1, 6)],\n",
       " [(0, 1, 0, 0), (0, 1, 1, 6)],\n",
       " [(0, 1, 0, 0), (0, 1, 1, 6)],\n",
       " [(0, 1, 0, 0), (0, 1, 1, 6)],\n",
       " [(0, 1, 0, 0), (0, 1, 1, 6)],\n",
       " [(0, 1, 0, 0), (0, 1, 1, 6)],\n",
       " [(0, 1, 0, 0), (0, 1, 1, 6)],\n",
       " [(0, 1, 0, 0), (0, 1, 1, 6)],\n",
       " [(0, 1, 0, 0), (0, 1, 1, 6)],\n",
       " [(0, 1, 0, 0), (0, 1, 1, 6)],\n",
       " [(0, 1, 0, 0), (0, 1, 1, 6)]]"
      ]
     },
     "execution_count": 123,
     "metadata": {},
     "output_type": "execute_result"
    }
   ],
   "source": [
    "policies = [policy, policy2]\n",
    "agents = [csrl1, csrl2]\n",
    "mcsrl.simulate( policies, agents, T= 20, mdp2 =comb_mdp, animation=\"comb_test\")"
   ]
  },
  {
   "cell_type": "code",
   "execution_count": 30,
   "metadata": {},
   "outputs": [
    {
     "data": {
      "text/plain": [
       "(2,)"
      ]
     },
     "execution_count": 30,
     "metadata": {},
     "output_type": "execute_result"
    }
   ],
   "source": [
    "controls = np.array([csrl1,csrl2], dtype=object)\n",
    "controls.shape "
   ]
  },
  {
   "cell_type": "code",
   "execution_count": 28,
   "metadata": {},
   "outputs": [
    {
     "data": {
      "text/plain": [
       "array([<csrl.ControlSynthesis object at 0x0000020D68D536A0>, 0],\n",
       "      dtype=object)"
      ]
     },
     "execution_count": 28,
     "metadata": {},
     "output_type": "execute_result"
    }
   ],
   "source": [
    "c = np.zeros(2, dtype = object)\n",
    "c[0] = csrl1\n",
    "c"
   ]
  },
  {
   "cell_type": "code",
   "execution_count": null,
   "metadata": {},
   "outputs": [],
   "source": [
    "state = [[0, 0, 0, 0], [0, 0, 0, 2]]\n",
    "mcsrl.Q[0][state[0]].shape"
   ]
  },
  {
   "cell_type": "code",
   "execution_count": 24,
   "metadata": {},
   "outputs": [
    {
     "data": {
      "text/plain": [
       "[(0, 6), (1, 0)]"
      ]
     },
     "execution_count": 24,
     "metadata": {},
     "output_type": "execute_result"
    }
   ],
   "source": [
    "mcsrl.starts"
   ]
  },
  {
   "cell_type": "code",
   "execution_count": null,
   "metadata": {},
   "outputs": [],
   "source": []
  },
  {
   "cell_type": "code",
   "execution_count": null,
   "metadata": {},
   "outputs": [],
   "source": []
  }
 ],
 "metadata": {
  "kernelspec": {
   "display_name": "Python 3 (ipykernel)",
   "language": "python",
   "name": "python3"
  },
  "language_info": {
   "codemirror_mode": {
    "name": "ipython",
    "version": 3
   },
   "file_extension": ".py",
   "mimetype": "text/x-python",
   "name": "python",
   "nbconvert_exporter": "python",
   "pygments_lexer": "ipython3",
   "version": "3.8.8"
  }
 },
 "nbformat": 4,
 "nbformat_minor": 4
}
