{
 "cells": [
  {
   "cell_type": "code",
   "execution_count": 21,
   "id": "1018f374-b620-4c3c-b1b0-9385b0732ced",
   "metadata": {},
   "outputs": [
    {
     "name": "stdout",
     "output_type": "stream",
     "text": [
      "The autoreload extension is already loaded. To reload it, use:\n",
      "  %reload_ext autoreload\n"
     ]
    }
   ],
   "source": [
    "%matplotlib inline\n",
    "%load_ext autoreload\n",
    "%autoreload 2\n",
    "from csrl.mdp import GridMDP\n",
    "import numpy as np \n",
    "from copy import deepcopy\n",
    "from logger import Trace\n",
    "import pandas as pd\n",
    "import matplotlib.pyplot as plt"
   ]
  },
  {
   "cell_type": "code",
   "execution_count": 22,
   "id": "e60a05e6-5785-41d0-87a2-8e1f3905328c",
   "metadata": {
    "jupyter": {
     "source_hidden": true
    },
    "tags": []
   },
   "outputs": [],
   "source": [
    "\n",
    "def process_df(map_name, cols, map_col, data_cols, extra, df, window=10, save=False):\n",
    "    \n",
    "    col_index = 0\n",
    "    \n",
    "    num_iterations = df[cols[col_index]].nunique()\n",
    "    num_episodes = df[cols[col_index+1]].nunique()\n",
    "    iterations = df[cols[col_index]].unique()\n",
    "    episodes = df[cols[col_index+1]].unique()\n",
    "    \n",
    "    print(f'episodes :{num_episodes} {episodes}, iterations:{num_iterations}')\n",
    "    \n",
    "    sum_df = pd.DataFrame(columns= extra)\n",
    "    \n",
    "    row = {}\n",
    "    \n",
    "    for i in iterations:\n",
    "        row[cols[col_index]] = i \n",
    "        for e in episodes:\n",
    "            row[cols[col_index+1]] = e\n",
    "            for col in data_cols:\n",
    "                row[col] = df.loc[(df[cols[col_index]] == i) & (df[cols[col_index+1]] == e), col].sum()\n",
    "                \n",
    "            sum_df = sum_df.append(row, ignore_index=True)\n",
    "                                                                 \n",
    "                                                                 \n",
    "    print(sum_df)\n",
    "    \n",
    "    sum_df['mean_rew'] = sum_df[data_cols].mean(axis=1)\n",
    "    sum_df['mean_std'] = sum_df[data_cols].std(axis=1)\n",
    "    # .rolling(window=window).mean()\n",
    "    \n",
    "    print(sum_df)\n",
    "    print(sum_df.describe())\n",
    "    \n",
    "    print('--- Smoothing...')\n",
    "    \n",
    "    smooth_df =sum_df.rolling(window=window).mean()\n",
    "    print(smooth_df)\n",
    "    print(smooth_df.describe())\n",
    "    \n",
    "    new_file = 'graph_data/'\n",
    "    # sum_df.to_csv(new_file, encoding='utf-8')\n",
    "    if save:\n",
    "        print('---- Saving :' + map_name)\n",
    "        smooth_df.to_csv(new_file+map_name+'.csv', encoding='utf-8')\n",
    "    else:\n",
    "        return sum_df"
   ]
  },
  {
   "cell_type": "code",
   "execution_count": 23,
   "id": "05d1a4ae-113c-40a2-9c8d-8c2f96fb8d9d",
   "metadata": {},
   "outputs": [],
   "source": [
    "def smoothing(map_name, map_col, data_cols, extra, df, window=10, save=False):\n",
    "    \n",
    "    col_index = 0\n",
    "    \n",
    "    \n",
    "    num_iterations = 1\n",
    "    num_episodes = df.shape[0]\n",
    "    \n",
    "    print(f'episodes :{num_episodes}, iterations:{num_iterations}')                                                             \n",
    "                                                                 \n",
    "    \n",
    "    df['mean_rew'] = df[data_cols].mean(axis=1)\n",
    "    df['std'] = df[data_cols].std(axis=1)\n",
    "    max_val = np.max(df[data_cols].max())\n",
    "    min_val = np.min(df[data_cols].min())\n",
    "    df['norm_mean'] = (df['mean_rew'] - min_val)/ (max_val - min_val)\n",
    "    # .rolling(window=window).mean()\n",
    "    \n",
    "    print(df)\n",
    "    print(df.describe())\n",
    "    \n",
    "    print('--- Smoothing...')\n",
    "    \n",
    "    smooth_df = df.copy()\n",
    "    smooth_df['mean_smooth_rew'] =df['norm_mean'].rolling(window=window).mean()\n",
    "    smooth_df['std_smooth_rew'] =df['norm_mean'].rolling(window=window).std()\n",
    "    \n",
    "    print(smooth_df)\n",
    "    print(smooth_df.describe())\n",
    "    \n",
    "    new_file = 'graph_data/'\n",
    "    # sum_df.to_csv(new_file, encoding='utf-8')\n",
    "    if save:\n",
    "        print('---- Saving :' + map_name)\n",
    "        smooth_df.to_csv(new_file+map_name+'.csv', encoding='utf-8')\n",
    "    else:\n",
    "        return smooth_df"
   ]
  },
  {
   "cell_type": "code",
   "execution_count": 24,
   "id": "edd3b056-a763-4b17-a739-4862ad14ac72",
   "metadata": {},
   "outputs": [],
   "source": [
    "n_agents = 2\n",
    "window=1000"
   ]
  },
  {
   "cell_type": "markdown",
   "id": "a8d5f216-49e5-40e6-995e-46d473ebff27",
   "metadata": {},
   "source": [
    "### Load trace from file"
   ]
  },
  {
   "cell_type": "code",
   "execution_count": 25,
   "id": "be384ce5-d74a-4183-9788-fd47d99d03fa",
   "metadata": {},
   "outputs": [],
   "source": [
    "map_name= 'benchmark1'\n",
    "file= 'shared_oa_bench2_returns_df.csv'\n",
    "array_file = 'shared_oa_bench2_returns.csv'"
   ]
  },
  {
   "cell_type": "code",
   "execution_count": 26,
   "id": "637ccfca-fc9d-4377-a24e-4185a1edf6d8",
   "metadata": {
    "tags": []
   },
   "outputs": [],
   "source": [
    "trace = Trace(n_agents, file)"
   ]
  },
  {
   "cell_type": "code",
   "execution_count": 27,
   "id": "96fa1f06-3305-490d-a0b0-7911d7f20cca",
   "metadata": {},
   "outputs": [],
   "source": [
    "# cols =  trace.columns\n",
    "data_cols = [f'reward_{i}' for i in range(n_agents)]\n",
    "map_col = 'map'\n",
    "extra =[]# [f'std_dev_{i}' for i in range(n_agents)]\n",
    "extra.append('mean_rew' )\n",
    "extra.append('mean_std')\n"
   ]
  },
  {
   "cell_type": "code",
   "execution_count": 28,
   "id": "622cea59-001d-4aa9-94e7-2d41b489689f",
   "metadata": {},
   "outputs": [],
   "source": [
    "arr = np.loadtxt(array_file, delimiter=\",\")"
   ]
  },
  {
   "cell_type": "code",
   "execution_count": 29,
   "id": "b9648346-4dd0-435e-8716-d6ea048521bf",
   "metadata": {},
   "outputs": [
    {
     "data": {
      "text/html": [
       "<div>\n",
       "<style scoped>\n",
       "    .dataframe tbody tr th:only-of-type {\n",
       "        vertical-align: middle;\n",
       "    }\n",
       "\n",
       "    .dataframe tbody tr th {\n",
       "        vertical-align: top;\n",
       "    }\n",
       "\n",
       "    .dataframe thead th {\n",
       "        text-align: right;\n",
       "    }\n",
       "</style>\n",
       "<table border=\"1\" class=\"dataframe\">\n",
       "  <thead>\n",
       "    <tr style=\"text-align: right;\">\n",
       "      <th></th>\n",
       "      <th>reward_0</th>\n",
       "      <th>reward_1</th>\n",
       "    </tr>\n",
       "  </thead>\n",
       "  <tbody>\n",
       "    <tr>\n",
       "      <th>0</th>\n",
       "      <td>0.0</td>\n",
       "      <td>0.0</td>\n",
       "    </tr>\n",
       "    <tr>\n",
       "      <th>1</th>\n",
       "      <td>0.0</td>\n",
       "      <td>0.0</td>\n",
       "    </tr>\n",
       "    <tr>\n",
       "      <th>2</th>\n",
       "      <td>0.0</td>\n",
       "      <td>0.0</td>\n",
       "    </tr>\n",
       "    <tr>\n",
       "      <th>3</th>\n",
       "      <td>0.0</td>\n",
       "      <td>0.0</td>\n",
       "    </tr>\n",
       "    <tr>\n",
       "      <th>4</th>\n",
       "      <td>0.0</td>\n",
       "      <td>0.0</td>\n",
       "    </tr>\n",
       "  </tbody>\n",
       "</table>\n",
       "</div>"
      ],
      "text/plain": [
       "   reward_0  reward_1\n",
       "0       0.0       0.0\n",
       "1       0.0       0.0\n",
       "2       0.0       0.0\n",
       "3       0.0       0.0\n",
       "4       0.0       0.0"
      ]
     },
     "execution_count": 29,
     "metadata": {},
     "output_type": "execute_result"
    }
   ],
   "source": [
    "df = pd.DataFrame(data = arr,\n",
    "                  columns = data_cols)\n",
    "df.head()"
   ]
  },
  {
   "cell_type": "code",
   "execution_count": 30,
   "id": "717e0612-8577-4352-bac1-40337db3e89a",
   "metadata": {},
   "outputs": [
    {
     "name": "stdout",
     "output_type": "stream",
     "text": [
      "episodes :150000, iterations:1\n",
      "        reward_0  reward_1  mean_rew  std  norm_mean\n",
      "0           0.00      0.00      0.00  0.0   0.000000\n",
      "1           0.00      0.00      0.00  0.0   0.000000\n",
      "2           0.00      0.00      0.00  0.0   0.000000\n",
      "3           0.00      0.00      0.00  0.0   0.000000\n",
      "4           0.00      0.00      0.00  0.0   0.000000\n",
      "...          ...       ...       ...  ...        ...\n",
      "149995      1.85      1.85      1.85  0.0   0.984043\n",
      "149996      1.79      1.79      1.79  0.0   0.952128\n",
      "149997      1.82      1.82      1.82  0.0   0.968085\n",
      "149998      1.51      1.51      1.51  0.0   0.803191\n",
      "149999      1.87      1.87      1.87  0.0   0.994681\n",
      "\n",
      "[150000 rows x 5 columns]\n",
      "            reward_0       reward_1       mean_rew       std      norm_mean\n",
      "count  150000.000000  150000.000000  150000.000000  150000.0  150000.000000\n",
      "mean        0.972162       0.972162       0.972162       0.0       0.517108\n",
      "std         0.800751       0.800751       0.800751       0.0       0.425932\n",
      "min         0.000000       0.000000       0.000000       0.0       0.000000\n",
      "25%         0.000000       0.000000       0.000000       0.0       0.000000\n",
      "50%         1.270000       1.270000       1.270000       0.0       0.675532\n",
      "75%         1.780000       1.780000       1.780000       0.0       0.946809\n",
      "max         1.880000       1.880000       1.880000       0.0       1.000000\n",
      "--- Smoothing...\n",
      "        reward_0  reward_1  mean_rew  std  norm_mean  mean_smooth_rew  \\\n",
      "0           0.00      0.00      0.00  0.0   0.000000              NaN   \n",
      "1           0.00      0.00      0.00  0.0   0.000000              NaN   \n",
      "2           0.00      0.00      0.00  0.0   0.000000              NaN   \n",
      "3           0.00      0.00      0.00  0.0   0.000000              NaN   \n",
      "4           0.00      0.00      0.00  0.0   0.000000              NaN   \n",
      "...          ...       ...       ...  ...        ...              ...   \n",
      "149995      1.85      1.85      1.85  0.0   0.984043         0.855665   \n",
      "149996      1.79      1.79      1.79  0.0   0.952128         0.855628   \n",
      "149997      1.82      1.82      1.82  0.0   0.968085         0.855617   \n",
      "149998      1.51      1.51      1.51  0.0   0.803191         0.855447   \n",
      "149999      1.87      1.87      1.87  0.0   0.994681         0.855521   \n",
      "\n",
      "        std_smooth_rew  \n",
      "0                  NaN  \n",
      "1                  NaN  \n",
      "2                  NaN  \n",
      "3                  NaN  \n",
      "4                  NaN  \n",
      "...                ...  \n",
      "149995        0.222564  \n",
      "149996        0.222545  \n",
      "149997        0.222539  \n",
      "149998        0.222514  \n",
      "149999        0.222548  \n",
      "\n",
      "[150000 rows x 7 columns]\n",
      "            reward_0       reward_1       mean_rew       std      norm_mean  \\\n",
      "count  150000.000000  150000.000000  150000.000000  150000.0  150000.000000   \n",
      "mean        0.972162       0.972162       0.972162       0.0       0.517108   \n",
      "std         0.800751       0.800751       0.800751       0.0       0.425932   \n",
      "min         0.000000       0.000000       0.000000       0.0       0.000000   \n",
      "25%         0.000000       0.000000       0.000000       0.0       0.000000   \n",
      "50%         1.270000       1.270000       1.270000       0.0       0.675532   \n",
      "75%         1.780000       1.780000       1.780000       0.0       0.946809   \n",
      "max         1.880000       1.880000       1.880000       0.0       1.000000   \n",
      "\n",
      "       mean_smooth_rew  std_smooth_rew  \n",
      "count    149001.000000    1.490010e+05  \n",
      "mean          0.517695    2.145725e-01  \n",
      "std           0.356545    8.983341e-02  \n",
      "min           0.000000    1.067295e-09  \n",
      "25%           0.099606    1.824047e-01  \n",
      "50%           0.722080    2.328028e-01  \n",
      "75%           0.844904    2.537714e-01  \n",
      "max           0.870441    4.010363e-01  \n"
     ]
    }
   ],
   "source": [
    "sum_df=smoothing(map_name, map_col, data_cols, extra, df, window=window)"
   ]
  },
  {
   "cell_type": "code",
   "execution_count": 31,
   "id": "5ac52611-157c-441a-b9ba-7d4c45201dce",
   "metadata": {},
   "outputs": [
    {
     "data": {
      "text/plain": [
       "(150000, 7)"
      ]
     },
     "execution_count": 31,
     "metadata": {},
     "output_type": "execute_result"
    }
   ],
   "source": [
    "sum_df.shape\n"
   ]
  },
  {
   "cell_type": "markdown",
   "id": "c634949e-7602-483b-bef4-c70e1dc952cd",
   "metadata": {
    "tags": []
   },
   "source": [
    "## Load baseline"
   ]
  },
  {
   "cell_type": "code",
   "execution_count": 32,
   "id": "c9cc1593-cc7d-4612-b1f8-b189f162f906",
   "metadata": {},
   "outputs": [],
   "source": [
    "array_file_base = 'shared_oa_bench2_returns_base.csv'\n",
    "arrb = np.loadtxt(array_file_base, delimiter=\",\")"
   ]
  },
  {
   "cell_type": "code",
   "execution_count": 33,
   "id": "bb2c60d6-e940-44cb-9001-ad1b50d93937",
   "metadata": {},
   "outputs": [
    {
     "data": {
      "text/html": [
       "<div>\n",
       "<style scoped>\n",
       "    .dataframe tbody tr th:only-of-type {\n",
       "        vertical-align: middle;\n",
       "    }\n",
       "\n",
       "    .dataframe tbody tr th {\n",
       "        vertical-align: top;\n",
       "    }\n",
       "\n",
       "    .dataframe thead th {\n",
       "        text-align: right;\n",
       "    }\n",
       "</style>\n",
       "<table border=\"1\" class=\"dataframe\">\n",
       "  <thead>\n",
       "    <tr style=\"text-align: right;\">\n",
       "      <th></th>\n",
       "      <th>reward_0</th>\n",
       "      <th>reward_1</th>\n",
       "    </tr>\n",
       "  </thead>\n",
       "  <tbody>\n",
       "    <tr>\n",
       "      <th>0</th>\n",
       "      <td>0.0</td>\n",
       "      <td>4.0</td>\n",
       "    </tr>\n",
       "    <tr>\n",
       "      <th>1</th>\n",
       "      <td>10.0</td>\n",
       "      <td>14.0</td>\n",
       "    </tr>\n",
       "    <tr>\n",
       "      <th>2</th>\n",
       "      <td>0.0</td>\n",
       "      <td>0.0</td>\n",
       "    </tr>\n",
       "    <tr>\n",
       "      <th>3</th>\n",
       "      <td>0.0</td>\n",
       "      <td>0.0</td>\n",
       "    </tr>\n",
       "    <tr>\n",
       "      <th>4</th>\n",
       "      <td>0.0</td>\n",
       "      <td>14.0</td>\n",
       "    </tr>\n",
       "  </tbody>\n",
       "</table>\n",
       "</div>"
      ],
      "text/plain": [
       "   reward_0  reward_1\n",
       "0       0.0       4.0\n",
       "1      10.0      14.0\n",
       "2       0.0       0.0\n",
       "3       0.0       0.0\n",
       "4       0.0      14.0"
      ]
     },
     "execution_count": 33,
     "metadata": {},
     "output_type": "execute_result"
    }
   ],
   "source": [
    "df_b = pd.DataFrame(data = arrb,\n",
    "                  columns = data_cols)\n",
    "df_b.head()"
   ]
  },
  {
   "cell_type": "code",
   "execution_count": 34,
   "id": "67afbe31-ba86-4964-9796-a3058441d0b4",
   "metadata": {},
   "outputs": [
    {
     "data": {
      "text/plain": [
       "14.0"
      ]
     },
     "execution_count": 34,
     "metadata": {},
     "output_type": "execute_result"
    }
   ],
   "source": [
    "np.max(df_b[data_cols].max())"
   ]
  },
  {
   "cell_type": "code",
   "execution_count": 35,
   "id": "77a3f5b1-a244-49ca-9868-5d8c95cdefba",
   "metadata": {},
   "outputs": [
    {
     "name": "stdout",
     "output_type": "stream",
     "text": [
      "episodes :150000, iterations:1\n",
      "        reward_0  reward_1  mean_rew       std  norm_mean\n",
      "0            0.0       4.0       2.0  2.828427   0.142857\n",
      "1           10.0      14.0      12.0  2.828427   0.857143\n",
      "2            0.0       0.0       0.0  0.000000   0.000000\n",
      "3            0.0       0.0       0.0  0.000000   0.000000\n",
      "4            0.0      14.0       7.0  9.899495   0.500000\n",
      "...          ...       ...       ...       ...        ...\n",
      "149995      10.0       4.0       7.0  4.242641   0.500000\n",
      "149996      10.0      14.0      12.0  2.828427   0.857143\n",
      "149997      10.0      14.0      12.0  2.828427   0.857143\n",
      "149998      10.0      14.0      12.0  2.828427   0.857143\n",
      "149999      10.0      14.0      12.0  2.828427   0.857143\n",
      "\n",
      "[150000 rows x 5 columns]\n",
      "            reward_0       reward_1       mean_rew            std  \\\n",
      "count  150000.000000  150000.000000  150000.000000  150000.000000   \n",
      "mean        8.785720      10.181627       9.483673       3.626902   \n",
      "std         3.338419       4.618970       2.752497       2.268751   \n",
      "min         0.000000       0.000000       0.000000       0.000000   \n",
      "25%        10.000000       4.000000       7.000000       2.828427   \n",
      "50%        10.000000      12.000000      11.000000       2.828427   \n",
      "75%        10.000000      14.000000      12.000000       4.242641   \n",
      "max        12.000000      14.000000      13.000000       9.899495   \n",
      "\n",
      "           norm_mean  \n",
      "count  150000.000000  \n",
      "mean        0.677405  \n",
      "std         0.196607  \n",
      "min         0.000000  \n",
      "25%         0.500000  \n",
      "50%         0.785714  \n",
      "75%         0.857143  \n",
      "max         0.928571  \n",
      "--- Smoothing...\n",
      "        reward_0  reward_1  mean_rew       std  norm_mean  mean_smooth_rew  \\\n",
      "0            0.0       4.0       2.0  2.828427   0.142857              NaN   \n",
      "1           10.0      14.0      12.0  2.828427   0.857143              NaN   \n",
      "2            0.0       0.0       0.0  0.000000   0.000000              NaN   \n",
      "3            0.0       0.0       0.0  0.000000   0.000000              NaN   \n",
      "4            0.0      14.0       7.0  9.899495   0.500000              NaN   \n",
      "...          ...       ...       ...       ...        ...              ...   \n",
      "149995      10.0       4.0       7.0  4.242641   0.500000         0.710786   \n",
      "149996      10.0      14.0      12.0  2.828427   0.857143         0.710786   \n",
      "149997      10.0      14.0      12.0  2.828427   0.857143         0.710786   \n",
      "149998      10.0      14.0      12.0  2.828427   0.857143         0.710786   \n",
      "149999      10.0      14.0      12.0  2.828427   0.857143         0.710786   \n",
      "\n",
      "        std_smooth_rew  \n",
      "0                  NaN  \n",
      "1                  NaN  \n",
      "2                  NaN  \n",
      "3                  NaN  \n",
      "4                  NaN  \n",
      "...                ...  \n",
      "149995        0.180631  \n",
      "149996        0.180631  \n",
      "149997        0.180631  \n",
      "149998        0.180631  \n",
      "149999        0.180631  \n",
      "\n",
      "[150000 rows x 7 columns]\n",
      "            reward_0       reward_1       mean_rew            std  \\\n",
      "count  150000.000000  150000.000000  150000.000000  150000.000000   \n",
      "mean        8.785720      10.181627       9.483673       3.626902   \n",
      "std         3.338419       4.618970       2.752497       2.268751   \n",
      "min         0.000000       0.000000       0.000000       0.000000   \n",
      "25%        10.000000       4.000000       7.000000       2.828427   \n",
      "50%        10.000000      12.000000      11.000000       2.828427   \n",
      "75%        10.000000      14.000000      12.000000       4.242641   \n",
      "max        12.000000      14.000000      13.000000       9.899495   \n",
      "\n",
      "           norm_mean  mean_smooth_rew  std_smooth_rew  \n",
      "count  150000.000000    149001.000000   149001.000000  \n",
      "mean        0.677405         0.677941        0.180193  \n",
      "std         0.196607         0.077350        0.010113  \n",
      "min         0.000000         0.478357        0.144370  \n",
      "25%         0.500000         0.612857        0.173966  \n",
      "50%         0.785714         0.715500        0.180620  \n",
      "75%         0.857143         0.733643        0.186744  \n",
      "max         0.928571         0.771929        0.206234  \n"
     ]
    }
   ],
   "source": [
    "sum_df_b=smoothing(map_name, map_col, data_cols, extra, df_b, window=1000)"
   ]
  },
  {
   "cell_type": "markdown",
   "id": "cb15f850-cfcf-4c42-b9cf-300f3c9ba8d6",
   "metadata": {},
   "source": [
    "## Plotting"
   ]
  },
  {
   "cell_type": "code",
   "execution_count": 36,
   "id": "9b1cb2bf-d212-4bb6-a773-55fac04387fa",
   "metadata": {},
   "outputs": [],
   "source": [
    "import tikzplotlib\n",
    "import matplotlib\n",
    "plt.style.use(\"seaborn-talk\")\n",
    "# matplotlib.use(\"pgf\")\n",
    "matplotlib.rcParams.update({\n",
    "    'font.family': 'serif',\n",
    "    'text.usetex': True\n",
    "})\n"
   ]
  },
  {
   "cell_type": "code",
   "execution_count": 37,
   "id": "8ed5cf69-32e0-46f4-87ba-327641bf6092",
   "metadata": {},
   "outputs": [
    {
     "data": {
      "image/png": "[encoded data removed]",
      "text/plain": [
       "<Figure size 748.8x514.8 with 1 Axes>"
      ]
     },
     "metadata": {
      "needs_background": "light"
     },
     "output_type": "display_data"
    }
   ],
   "source": [
    "graphsize = 35\n",
    "fig, axs = plt.subplots(1, 1)\n",
    "\n",
    "sum_df.plot(kind='line', y='mean_smooth_rew', ax=axs, label='LTL shaping', linewidth=1.5, fontsize=graphsize-10)\n",
    "axs.fill_between(np.arange(0,sum_df.shape[0]), sum_df['mean_smooth_rew']-sum_df['std_smooth_rew'], sum_df['mean_smooth_rew']+sum_df['std_smooth_rew'],\n",
    "                       alpha= 0.3, linewidth=0)\n",
    "sum_df_b.plot(kind='line', y='mean_smooth_rew', ax=axs, label='Ind QL', linewidth=1.5, fontsize=graphsize-10)\n",
    "axs.fill_between(np.arange(0,sum_df_b.shape[0]), sum_df_b['mean_smooth_rew']-sum_df_b['std_smooth_rew'], sum_df_b['mean_smooth_rew']+sum_df_b['std_smooth_rew'],\n",
    "                       alpha= 0.3, linewidth=0)\n",
    "\n",
    "# axs[1, 1].plot(x, -y, 'tab:red')\n",
    "# axs.set_title('Benchmark 1', fontsize=25)\n",
    "axs.legend(loc='upper left', fontsize=graphsize-10)\n",
    "axs.ticklabel_format(axis='both')\n",
    "\n",
    "# axs.set(xlabel='Episodes', ylabel='')\n",
    "axs.set_xlabel('Episodes', fontsize=graphsize)\n",
    "axs.set_ylabel('Mean normalized returns', fontsize=graphsize)\n",
    "axs.set_ylim([0, 1.2])\n",
    "axs.set_xlim([0, sum_df.shape[0]])\n",
    "axs.grid(b=True, which='major', color='#666666', linestyle='-', linewidth=0.25)\n",
    "\n",
    "plt.tight_layout()\n",
    "plt.show()"
   ]
  },
  {
   "cell_type": "code",
   "execution_count": 73,
   "id": "574c68fe-512e-4a91-ace9-496c13a07021",
   "metadata": {},
   "outputs": [],
   "source": [
    "tikzplotlib.clean_figure(fig=fig, target_resolution=300)\n"
   ]
  },
  {
   "cell_type": "code",
   "execution_count": 39,
   "id": "f0f4bd35-39ee-455c-b622-0e4116a100f7",
   "metadata": {},
   "outputs": [],
   "source": [
    "map_name='benchmark3'"
   ]
  },
  {
   "cell_type": "code",
   "execution_count": 75,
   "id": "6d591d33-ff6c-4dcf-9cc5-8a5c810fcbde",
   "metadata": {},
   "outputs": [],
   "source": [
    "tikzplotlib.save(\"graph_data/learning_curve_\"+map_name+\".tex\", figure=fig)"
   ]
  },
  {
   "cell_type": "code",
   "execution_count": 40,
   "id": "f05ffb8b-08fc-4ac3-9d52-0d8fc4d8c356",
   "metadata": {},
   "outputs": [],
   "source": [
    "fig.savefig(\"graph_data/\"+map_name+\".png\", transparent=True, dpi=600)"
   ]
  },
  {
   "cell_type": "code",
   "execution_count": null,
   "id": "06056846-a600-4752-a0b1-66fe8719af4b",
   "metadata": {},
   "outputs": [],
   "source": []
  }
 ],
 "metadata": {
  "kernelspec": {
   "display_name": "Python 3",
   "language": "python",
   "name": "python3"
  },
  "language_info": {
   "codemirror_mode": {
    "name": "ipython",
    "version": 3
   },
   "file_extension": ".py",
   "mimetype": "text/x-python",
   "name": "python",
   "nbconvert_exporter": "python",
   "pygments_lexer": "ipython3",
   "version": "3.6.9"
  }
 },
 "nbformat": 4,
 "nbformat_minor": 5
}
