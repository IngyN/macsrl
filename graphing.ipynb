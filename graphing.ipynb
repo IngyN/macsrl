{
 "cells": [
  {
   "cell_type": "code",
   "execution_count": 1,
   "id": "1018f374-b620-4c3c-b1b0-9385b0732ced",
   "metadata": {},
   "outputs": [],
   "source": [
    "%matplotlib inline\n",
    "%load_ext autoreload\n",
    "%autoreload 2\n",
    "from csrl.mdp import GridMDP\n",
    "import numpy as np \n",
    "from copy import deepcopy\n",
    "from logger import Trace\n",
    "import pandas as pd\n",
    "import matplotlib.pyplot as plt"
   ]
  },
  {
   "cell_type": "code",
   "execution_count": 3,
   "id": "05d1a4ae-113c-40a2-9c8d-8c2f96fb8d9d",
   "metadata": {},
   "outputs": [],
   "source": [
    "def smoothing(map_name, map_col, data_cols, extra, df, window=10, save=False):\n",
    "    \n",
    "    col_index = 0\n",
    "    \n",
    "    \n",
    "    num_iterations = 1\n",
    "    num_episodes = df.shape[0]\n",
    "    \n",
    "    print(f'episodes :{num_episodes}, iterations:{num_iterations}')                                                             \n",
    "                                                                 \n",
    "    \n",
    "    df['mean_rew'] = df[data_cols].mean(axis=1)\n",
    "    df['std'] = df[data_cols].std(axis=1)\n",
    "    max_val = np.max(df[data_cols].max())\n",
    "    min_val = np.min(df[data_cols].min())\n",
    "    df['norm_mean'] = (df['mean_rew'] - min_val)/ (max_val - min_val)\n",
    "    # .rolling(window=window).mean()\n",
    "    \n",
    "    print(df)\n",
    "    print(df.describe())\n",
    "    \n",
    "    print('--- Smoothing...')\n",
    "    \n",
    "    smooth_df = df.copy()\n",
    "    smooth_df['mean_smooth_rew'] =df['norm_mean'].rolling(window=window).mean()\n",
    "    smooth_df['std_smooth_rew'] =df['norm_mean'].rolling(window=window).std()\n",
    "    \n",
    "    print(smooth_df)\n",
    "    print(smooth_df.describe())\n",
    "    \n",
    "    new_file = 'graph_data/'\n",
    "    # sum_df.to_csv(new_file, encoding='utf-8')\n",
    "    if save:\n",
    "        print('---- Saving :' + map_name)\n",
    "        smooth_df.to_csv(new_file+map_name+'.csv', encoding='utf-8')\n",
    "    else:\n",
    "        return smooth_df"
   ]
  },
  {
   "cell_type": "code",
   "execution_count": 4,
   "id": "edd3b056-a763-4b17-a739-4862ad14ac72",
   "metadata": {},
   "outputs": [],
   "source": [
    "n_agents = 2\n",
    "window=1000"
   ]
  },
  {
   "cell_type": "markdown",
   "id": "a8d5f216-49e5-40e6-995e-46d473ebff27",
   "metadata": {},
   "source": [
    "### Load trace from file"
   ]
  },
  {
   "cell_type": "code",
   "execution_count": 5,
   "id": "be384ce5-d74a-4183-9788-fd47d99d03fa",
   "metadata": {},
   "outputs": [],
   "source": [
    "map_name= 'benchmark1'\n",
    "file= 'shared_oa_ex2_returns_df.csv'\n",
    "array_file = 'shared_oa_ex2_returns.csv'"
   ]
  },
  {
   "cell_type": "code",
   "execution_count": 6,
   "id": "637ccfca-fc9d-4377-a24e-4185a1edf6d8",
   "metadata": {
    "tags": []
   },
   "outputs": [],
   "source": [
    "trace = Trace(n_agents, file)"
   ]
  },
  {
   "cell_type": "code",
   "execution_count": 7,
   "id": "96fa1f06-3305-490d-a0b0-7911d7f20cca",
   "metadata": {},
   "outputs": [],
   "source": [
    "# cols =  trace.columns\n",
    "data_cols = [f'reward_{i}' for i in range(n_agents)]\n",
    "map_col = 'map'\n",
    "extra =[]# [f'std_dev_{i}' for i in range(n_agents)]\n",
    "extra.append('mean_rew' )\n",
    "extra.append('mean_std')\n"
   ]
  },
  {
   "cell_type": "code",
   "execution_count": 8,
   "id": "622cea59-001d-4aa9-94e7-2d41b489689f",
   "metadata": {},
   "outputs": [],
   "source": [
    "arr = np.loadtxt(array_file, delimiter=\",\")"
   ]
  },
  {
   "cell_type": "code",
   "execution_count": 9,
   "id": "b9648346-4dd0-435e-8716-d6ea048521bf",
   "metadata": {},
   "outputs": [
    {
     "data": {
      "text/html": [
       "<div>\n",
       "<style scoped>\n",
       "    .dataframe tbody tr th:only-of-type {\n",
       "        vertical-align: middle;\n",
       "    }\n",
       "\n",
       "    .dataframe tbody tr th {\n",
       "        vertical-align: top;\n",
       "    }\n",
       "\n",
       "    .dataframe thead th {\n",
       "        text-align: right;\n",
       "    }\n",
       "</style>\n",
       "<table border=\"1\" class=\"dataframe\">\n",
       "  <thead>\n",
       "    <tr style=\"text-align: right;\">\n",
       "      <th></th>\n",
       "      <th>reward_0</th>\n",
       "      <th>reward_1</th>\n",
       "    </tr>\n",
       "  </thead>\n",
       "  <tbody>\n",
       "    <tr>\n",
       "      <th>0</th>\n",
       "      <td>0.0</td>\n",
       "      <td>0.0</td>\n",
       "    </tr>\n",
       "    <tr>\n",
       "      <th>1</th>\n",
       "      <td>0.0</td>\n",
       "      <td>0.0</td>\n",
       "    </tr>\n",
       "    <tr>\n",
       "      <th>2</th>\n",
       "      <td>0.0</td>\n",
       "      <td>0.0</td>\n",
       "    </tr>\n",
       "    <tr>\n",
       "      <th>3</th>\n",
       "      <td>0.0</td>\n",
       "      <td>0.0</td>\n",
       "    </tr>\n",
       "    <tr>\n",
       "      <th>4</th>\n",
       "      <td>0.0</td>\n",
       "      <td>0.0</td>\n",
       "    </tr>\n",
       "  </tbody>\n",
       "</table>\n",
       "</div>"
      ],
      "text/plain": [
       "   reward_0  reward_1\n",
       "0       0.0       0.0\n",
       "1       0.0       0.0\n",
       "2       0.0       0.0\n",
       "3       0.0       0.0\n",
       "4       0.0       0.0"
      ]
     },
     "execution_count": 9,
     "metadata": {},
     "output_type": "execute_result"
    }
   ],
   "source": [
    "df = pd.DataFrame(data = arr,\n",
    "                  columns = data_cols)\n",
    "df.head()"
   ]
  },
  {
   "cell_type": "code",
   "execution_count": 10,
   "id": "717e0612-8577-4352-bac1-40337db3e89a",
   "metadata": {
    "collapsed": true,
    "jupyter": {
     "outputs_hidden": true
    },
    "tags": []
   },
   "outputs": [
    {
     "name": "stdout",
     "output_type": "stream",
     "text": [
      "episodes :75000, iterations:1\n",
      "       reward_0  reward_1  mean_rew  std  norm_mean\n",
      "0          0.00      0.00      0.00  0.0        0.0\n",
      "1          0.00      0.00      0.00  0.0        0.0\n",
      "2          0.00      0.00      0.00  0.0        0.0\n",
      "3          0.00      0.00      0.00  0.0        0.0\n",
      "4          0.00      0.00      0.00  0.0        0.0\n",
      "...         ...       ...       ...  ...        ...\n",
      "74995      0.01      0.01      0.01  0.0        1.0\n",
      "74996      0.01      0.01      0.01  0.0        1.0\n",
      "74997      0.01      0.01      0.01  0.0        1.0\n",
      "74998      0.01      0.01      0.01  0.0        1.0\n",
      "74999      0.01      0.01      0.01  0.0        1.0\n",
      "\n",
      "[75000 rows x 5 columns]\n",
      "           reward_0      reward_1      mean_rew      std     norm_mean\n",
      "count  75000.000000  75000.000000  75000.000000  75000.0  75000.000000\n",
      "mean       0.004204      0.004204      0.004204      0.0      0.420427\n",
      "std        0.004936      0.004936      0.004936      0.0      0.493631\n",
      "min        0.000000      0.000000      0.000000      0.0      0.000000\n",
      "25%        0.000000      0.000000      0.000000      0.0      0.000000\n",
      "50%        0.000000      0.000000      0.000000      0.0      0.000000\n",
      "75%        0.010000      0.010000      0.010000      0.0      1.000000\n",
      "max        0.010000      0.010000      0.010000      0.0      1.000000\n",
      "--- Smoothing...\n",
      "       reward_0  reward_1  mean_rew  std  norm_mean  mean_smooth_rew  \\\n",
      "0          0.00      0.00      0.00  0.0        0.0              NaN   \n",
      "1          0.00      0.00      0.00  0.0        0.0              NaN   \n",
      "2          0.00      0.00      0.00  0.0        0.0              NaN   \n",
      "3          0.00      0.00      0.00  0.0        0.0              NaN   \n",
      "4          0.00      0.00      0.00  0.0        0.0              NaN   \n",
      "...         ...       ...       ...  ...        ...              ...   \n",
      "74995      0.01      0.01      0.01  0.0        1.0            0.952   \n",
      "74996      0.01      0.01      0.01  0.0        1.0            0.952   \n",
      "74997      0.01      0.01      0.01  0.0        1.0            0.952   \n",
      "74998      0.01      0.01      0.01  0.0        1.0            0.952   \n",
      "74999      0.01      0.01      0.01  0.0        1.0            0.953   \n",
      "\n",
      "       std_smooth_rew  \n",
      "0                 NaN  \n",
      "1                 NaN  \n",
      "2                 NaN  \n",
      "3                 NaN  \n",
      "4                 NaN  \n",
      "...               ...  \n",
      "74995        0.213873  \n",
      "74996        0.213873  \n",
      "74997        0.213873  \n",
      "74998        0.213873  \n",
      "74999        0.211745  \n",
      "\n",
      "[75000 rows x 7 columns]\n",
      "           reward_0      reward_1      mean_rew      std     norm_mean  \\\n",
      "count  75000.000000  75000.000000  75000.000000  75000.0  75000.000000   \n",
      "mean       0.004204      0.004204      0.004204      0.0      0.420427   \n",
      "std        0.004936      0.004936      0.004936      0.0      0.493631   \n",
      "min        0.000000      0.000000      0.000000      0.0      0.000000   \n",
      "25%        0.000000      0.000000      0.000000      0.0      0.000000   \n",
      "50%        0.000000      0.000000      0.000000      0.0      0.000000   \n",
      "75%        0.010000      0.010000      0.010000      0.0      1.000000   \n",
      "max        0.010000      0.010000      0.010000      0.0      1.000000   \n",
      "\n",
      "       mean_smooth_rew  std_smooth_rew  \n",
      "count     74001.000000    74001.000000  \n",
      "mean          0.419496        0.280758  \n",
      "std           0.395160        0.092910  \n",
      "min           0.020000        0.140070  \n",
      "25%           0.058000        0.224146  \n",
      "50%           0.209000        0.250147  \n",
      "75%           0.931000        0.341895  \n",
      "max           0.956000        0.500250  \n"
     ]
    }
   ],
   "source": [
    "sum_df=smoothing(map_name, map_col, data_cols, extra, df, window=window)"
   ]
  },
  {
   "cell_type": "code",
   "execution_count": 11,
   "id": "5ac52611-157c-441a-b9ba-7d4c45201dce",
   "metadata": {},
   "outputs": [
    {
     "data": {
      "text/plain": [
       "(75000, 7)"
      ]
     },
     "execution_count": 11,
     "metadata": {},
     "output_type": "execute_result"
    }
   ],
   "source": [
    "sum_df.shape\n"
   ]
  },
  {
   "cell_type": "markdown",
   "id": "c634949e-7602-483b-bef4-c70e1dc952cd",
   "metadata": {
    "jp-MarkdownHeadingCollapsed": true,
    "tags": []
   },
   "source": [
    "## Load baseline"
   ]
  },
  {
   "cell_type": "code",
   "execution_count": 12,
   "id": "c9cc1593-cc7d-4612-b1f8-b189f162f906",
   "metadata": {},
   "outputs": [],
   "source": [
    "array_file_base = 'shared_oa_ex2_returns_base.csv'\n",
    "arrb = np.loadtxt(array_file_base, delimiter=\",\")"
   ]
  },
  {
   "cell_type": "code",
   "execution_count": 13,
   "id": "bb2c60d6-e940-44cb-9001-ad1b50d93937",
   "metadata": {},
   "outputs": [
    {
     "data": {
      "text/html": [
       "<div>\n",
       "<style scoped>\n",
       "    .dataframe tbody tr th:only-of-type {\n",
       "        vertical-align: middle;\n",
       "    }\n",
       "\n",
       "    .dataframe tbody tr th {\n",
       "        vertical-align: top;\n",
       "    }\n",
       "\n",
       "    .dataframe thead th {\n",
       "        text-align: right;\n",
       "    }\n",
       "</style>\n",
       "<table border=\"1\" class=\"dataframe\">\n",
       "  <thead>\n",
       "    <tr style=\"text-align: right;\">\n",
       "      <th></th>\n",
       "      <th>reward_0</th>\n",
       "      <th>reward_1</th>\n",
       "    </tr>\n",
       "  </thead>\n",
       "  <tbody>\n",
       "    <tr>\n",
       "      <th>0</th>\n",
       "      <td>10.0</td>\n",
       "      <td>12.0</td>\n",
       "    </tr>\n",
       "    <tr>\n",
       "      <th>1</th>\n",
       "      <td>10.0</td>\n",
       "      <td>12.0</td>\n",
       "    </tr>\n",
       "    <tr>\n",
       "      <th>2</th>\n",
       "      <td>12.0</td>\n",
       "      <td>12.0</td>\n",
       "    </tr>\n",
       "    <tr>\n",
       "      <th>3</th>\n",
       "      <td>12.0</td>\n",
       "      <td>14.0</td>\n",
       "    </tr>\n",
       "    <tr>\n",
       "      <th>4</th>\n",
       "      <td>10.0</td>\n",
       "      <td>12.0</td>\n",
       "    </tr>\n",
       "  </tbody>\n",
       "</table>\n",
       "</div>"
      ],
      "text/plain": [
       "   reward_0  reward_1\n",
       "0      10.0      12.0\n",
       "1      10.0      12.0\n",
       "2      12.0      12.0\n",
       "3      12.0      14.0\n",
       "4      10.0      12.0"
      ]
     },
     "execution_count": 13,
     "metadata": {},
     "output_type": "execute_result"
    }
   ],
   "source": [
    "df_b = pd.DataFrame(data = arrb,\n",
    "                  columns = data_cols)\n",
    "df_b.head()"
   ]
  },
  {
   "cell_type": "code",
   "execution_count": 14,
   "id": "67afbe31-ba86-4964-9796-a3058441d0b4",
   "metadata": {},
   "outputs": [
    {
     "data": {
      "text/plain": [
       "14.0"
      ]
     },
     "execution_count": 14,
     "metadata": {},
     "output_type": "execute_result"
    }
   ],
   "source": [
    "np.max(df_b[data_cols].max())"
   ]
  },
  {
   "cell_type": "code",
   "execution_count": 15,
   "id": "77a3f5b1-a244-49ca-9868-5d8c95cdefba",
   "metadata": {},
   "outputs": [
    {
     "name": "stdout",
     "output_type": "stream",
     "text": [
      "episodes :75000, iterations:1\n",
      "       reward_0  reward_1  mean_rew       std  norm_mean\n",
      "0          10.0      12.0      11.0  1.414214   0.785714\n",
      "1          10.0      12.0      11.0  1.414214   0.785714\n",
      "2          12.0      12.0      12.0  0.000000   0.857143\n",
      "3          12.0      14.0      13.0  1.414214   0.928571\n",
      "4          10.0      12.0      11.0  1.414214   0.785714\n",
      "...         ...       ...       ...       ...        ...\n",
      "74995      12.0      12.0      12.0  0.000000   0.857143\n",
      "74996      10.0      12.0      11.0  1.414214   0.785714\n",
      "74997      12.0      12.0      12.0  0.000000   0.857143\n",
      "74998      12.0      14.0      13.0  1.414214   0.928571\n",
      "74999      10.0      12.0      11.0  1.414214   0.785714\n",
      "\n",
      "[75000 rows x 5 columns]\n",
      "           reward_0      reward_1      mean_rew           std     norm_mean\n",
      "count  75000.000000  75000.000000  75000.000000  75000.000000  75000.000000\n",
      "mean      10.802240     11.624640     11.213440      1.080685      0.800960\n",
      "std        1.197265      2.155123      1.316384      1.335119      0.094027\n",
      "min        0.000000      2.000000      2.000000      0.000000      0.142857\n",
      "25%       10.000000     12.000000     11.000000      0.000000      0.785714\n",
      "50%       10.000000     12.000000     11.000000      1.414214      0.785714\n",
      "75%       12.000000     12.000000     12.000000      1.414214      0.857143\n",
      "max       12.000000     14.000000     13.000000      8.485281      0.928571\n",
      "--- Smoothing...\n",
      "       reward_0  reward_1  mean_rew       std  norm_mean  mean_smooth_rew  \\\n",
      "0          10.0      12.0      11.0  1.414214   0.785714              NaN   \n",
      "1          10.0      12.0      11.0  1.414214   0.785714              NaN   \n",
      "2          12.0      12.0      12.0  0.000000   0.857143              NaN   \n",
      "3          12.0      14.0      13.0  1.414214   0.928571              NaN   \n",
      "4          10.0      12.0      11.0  1.414214   0.785714              NaN   \n",
      "...         ...       ...       ...       ...        ...              ...   \n",
      "74995      12.0      12.0      12.0  0.000000   0.857143         0.809714   \n",
      "74996      10.0      12.0      11.0  1.414214   0.785714         0.809643   \n",
      "74997      12.0      12.0      12.0  0.000000   0.857143         0.809714   \n",
      "74998      12.0      14.0      13.0  1.414214   0.928571         0.809857   \n",
      "74999      10.0      12.0      11.0  1.414214   0.785714         0.809857   \n",
      "\n",
      "       std_smooth_rew  \n",
      "0                 NaN  \n",
      "1                 NaN  \n",
      "2                 NaN  \n",
      "3                 NaN  \n",
      "4                 NaN  \n",
      "...               ...  \n",
      "74995        0.093646  \n",
      "74996        0.093637  \n",
      "74997        0.093646  \n",
      "74998        0.093718  \n",
      "74999        0.093718  \n",
      "\n",
      "[75000 rows x 7 columns]\n",
      "           reward_0      reward_1      mean_rew           std     norm_mean  \\\n",
      "count  75000.000000  75000.000000  75000.000000  75000.000000  75000.000000   \n",
      "mean      10.802240     11.624640     11.213440      1.080685      0.800960   \n",
      "std        1.197265      2.155123      1.316384      1.335119      0.094027   \n",
      "min        0.000000      2.000000      2.000000      0.000000      0.142857   \n",
      "25%       10.000000     12.000000     11.000000      0.000000      0.785714   \n",
      "50%       10.000000     12.000000     11.000000      1.414214      0.785714   \n",
      "75%       12.000000     12.000000     12.000000      1.414214      0.857143   \n",
      "max       12.000000     14.000000     13.000000      8.485281      0.928571   \n",
      "\n",
      "       mean_smooth_rew  std_smooth_rew  \n",
      "count     74001.000000    74001.000000  \n",
      "mean          0.801065        0.092478  \n",
      "std           0.006934        0.013951  \n",
      "min           0.776929        0.065629  \n",
      "25%           0.797000        0.078226  \n",
      "50%           0.801000        0.094187  \n",
      "75%           0.805429        0.103476  \n",
      "max           0.820143        0.129346  \n"
     ]
    }
   ],
   "source": [
    "sum_df_b=smoothing(map_name, map_col, data_cols, extra, df_b, window=1000)"
   ]
  },
  {
   "cell_type": "markdown",
   "id": "32520fd1-cb62-4569-a4e6-4b2a5f35cdfa",
   "metadata": {
    "jp-MarkdownHeadingCollapsed": true,
    "tags": []
   },
   "source": [
    "## Load alternate"
   ]
  },
  {
   "cell_type": "code",
   "execution_count": 16,
   "id": "871df3a1-6d87-4a64-ad0e-b41a7a46e19c",
   "metadata": {},
   "outputs": [],
   "source": [
    "array_file_alt = 'shared_oa_ex2_alt_returns.csv'\n",
    "arr_alt = np.loadtxt(array_file_alt, delimiter=\",\")"
   ]
  },
  {
   "cell_type": "code",
   "execution_count": 17,
   "id": "e6c69cf5-7b36-4bdc-9796-c525ffd631a5",
   "metadata": {},
   "outputs": [
    {
     "data": {
      "text/html": [
       "<div>\n",
       "<style scoped>\n",
       "    .dataframe tbody tr th:only-of-type {\n",
       "        vertical-align: middle;\n",
       "    }\n",
       "\n",
       "    .dataframe tbody tr th {\n",
       "        vertical-align: top;\n",
       "    }\n",
       "\n",
       "    .dataframe thead th {\n",
       "        text-align: right;\n",
       "    }\n",
       "</style>\n",
       "<table border=\"1\" class=\"dataframe\">\n",
       "  <thead>\n",
       "    <tr style=\"text-align: right;\">\n",
       "      <th></th>\n",
       "      <th>reward_0</th>\n",
       "      <th>reward_1</th>\n",
       "    </tr>\n",
       "  </thead>\n",
       "  <tbody>\n",
       "    <tr>\n",
       "      <th>0</th>\n",
       "      <td>0.00</td>\n",
       "      <td>0.00</td>\n",
       "    </tr>\n",
       "    <tr>\n",
       "      <th>1</th>\n",
       "      <td>0.00</td>\n",
       "      <td>0.00</td>\n",
       "    </tr>\n",
       "    <tr>\n",
       "      <th>2</th>\n",
       "      <td>0.45</td>\n",
       "      <td>0.45</td>\n",
       "    </tr>\n",
       "    <tr>\n",
       "      <th>3</th>\n",
       "      <td>0.49</td>\n",
       "      <td>0.49</td>\n",
       "    </tr>\n",
       "    <tr>\n",
       "      <th>4</th>\n",
       "      <td>0.00</td>\n",
       "      <td>0.00</td>\n",
       "    </tr>\n",
       "  </tbody>\n",
       "</table>\n",
       "</div>"
      ],
      "text/plain": [
       "   reward_0  reward_1\n",
       "0      0.00      0.00\n",
       "1      0.00      0.00\n",
       "2      0.45      0.45\n",
       "3      0.49      0.49\n",
       "4      0.00      0.00"
      ]
     },
     "execution_count": 17,
     "metadata": {},
     "output_type": "execute_result"
    }
   ],
   "source": [
    "df_alt = pd.DataFrame(data = arr_alt,\n",
    "                  columns = data_cols)\n",
    "df_alt.head()"
   ]
  },
  {
   "cell_type": "code",
   "execution_count": 18,
   "id": "5472da5f-c457-408c-9f8a-d793acd7866f",
   "metadata": {},
   "outputs": [
    {
     "data": {
      "text/plain": [
       "0.6600000000000006"
      ]
     },
     "execution_count": 18,
     "metadata": {},
     "output_type": "execute_result"
    }
   ],
   "source": [
    "np.max(df_alt[data_cols].max())"
   ]
  },
  {
   "cell_type": "code",
   "execution_count": 19,
   "id": "f6da0be4-0ab0-4b2a-9403-49d7eaa3345a",
   "metadata": {},
   "outputs": [
    {
     "name": "stdout",
     "output_type": "stream",
     "text": [
      "episodes :75000, iterations:1\n",
      "       reward_0  reward_1  mean_rew  std  norm_mean\n",
      "0          0.00      0.00      0.00  0.0   0.000000\n",
      "1          0.00      0.00      0.00  0.0   0.000000\n",
      "2          0.45      0.45      0.45  0.0   0.681818\n",
      "3          0.49      0.49      0.49  0.0   0.742424\n",
      "4          0.00      0.00      0.00  0.0   0.000000\n",
      "...         ...       ...       ...  ...        ...\n",
      "74995      0.62      0.62      0.62  0.0   0.939394\n",
      "74996      0.60      0.60      0.60  0.0   0.909091\n",
      "74997      0.62      0.62      0.62  0.0   0.939394\n",
      "74998      0.66      0.66      0.66  0.0   1.000000\n",
      "74999      0.64      0.64      0.64  0.0   0.969697\n",
      "\n",
      "[75000 rows x 5 columns]\n",
      "           reward_0      reward_1      mean_rew      std     norm_mean\n",
      "count  75000.000000  75000.000000  75000.000000  75000.0  75000.000000\n",
      "mean       0.492188      0.492188      0.492188      0.0      0.745740\n",
      "std        0.231631      0.231631      0.231631      0.0      0.350956\n",
      "min        0.000000      0.000000      0.000000      0.0      0.000000\n",
      "25%        0.470000      0.470000      0.470000      0.0      0.712121\n",
      "50%        0.610000      0.610000      0.610000      0.0      0.924242\n",
      "75%        0.640000      0.640000      0.640000      0.0      0.969697\n",
      "max        0.660000      0.660000      0.660000      0.0      1.000000\n",
      "--- Smoothing...\n",
      "       reward_0  reward_1  mean_rew  std  norm_mean  mean_smooth_rew  \\\n",
      "0          0.00      0.00      0.00  0.0   0.000000              NaN   \n",
      "1          0.00      0.00      0.00  0.0   0.000000              NaN   \n",
      "2          0.45      0.45      0.45  0.0   0.681818              NaN   \n",
      "3          0.49      0.49      0.49  0.0   0.742424              NaN   \n",
      "4          0.00      0.00      0.00  0.0   0.000000              NaN   \n",
      "...         ...       ...       ...  ...        ...              ...   \n",
      "74995      0.62      0.62      0.62  0.0   0.939394         0.964576   \n",
      "74996      0.60      0.60      0.60  0.0   0.909091         0.964545   \n",
      "74997      0.62      0.62      0.62  0.0   0.939394         0.964515   \n",
      "74998      0.66      0.66      0.66  0.0   1.000000         0.964545   \n",
      "74999      0.64      0.64      0.64  0.0   0.969697         0.964530   \n",
      "\n",
      "       std_smooth_rew  \n",
      "0                 NaN  \n",
      "1                 NaN  \n",
      "2                 NaN  \n",
      "3                 NaN  \n",
      "4                 NaN  \n",
      "...               ...  \n",
      "74995        0.033692  \n",
      "74996        0.033728  \n",
      "74997        0.033737  \n",
      "74998        0.033755  \n",
      "74999        0.033750  \n",
      "\n",
      "[75000 rows x 7 columns]\n",
      "           reward_0      reward_1      mean_rew      std     norm_mean  \\\n",
      "count  75000.000000  75000.000000  75000.000000  75000.0  75000.000000   \n",
      "mean       0.492188      0.492188      0.492188      0.0      0.745740   \n",
      "std        0.231631      0.231631      0.231631      0.0      0.350956   \n",
      "min        0.000000      0.000000      0.000000      0.0      0.000000   \n",
      "25%        0.470000      0.470000      0.470000      0.0      0.712121   \n",
      "50%        0.610000      0.610000      0.610000      0.0      0.924242   \n",
      "75%        0.640000      0.640000      0.640000      0.0      0.969697   \n",
      "max        0.660000      0.660000      0.660000      0.0      1.000000   \n",
      "\n",
      "       mean_smooth_rew  std_smooth_rew  \n",
      "count     74001.000000    74001.000000  \n",
      "mean          0.747851        0.198304  \n",
      "std           0.251121        0.140137  \n",
      "min           0.216818        0.030977  \n",
      "25%           0.527000        0.045295  \n",
      "50%           0.874470        0.202796  \n",
      "75%           0.963818        0.345952  \n",
      "max           0.967742        0.383913  \n"
     ]
    }
   ],
   "source": [
    "sum_df_alt=smoothing(map_name, map_col, data_cols, extra, df_alt, window=1000)"
   ]
  },
  {
   "cell_type": "markdown",
   "id": "cb15f850-cfcf-4c42-b9cf-300f3c9ba8d6",
   "metadata": {
    "tags": []
   },
   "source": [
    "## Plotting"
   ]
  },
  {
   "cell_type": "code",
   "execution_count": 20,
   "id": "9b1cb2bf-d212-4bb6-a773-55fac04387fa",
   "metadata": {},
   "outputs": [],
   "source": [
    "import tikzplotlib\n",
    "import matplotlib\n",
    "plt.style.use(\"seaborn-talk\")\n",
    "# matplotlib.use(\"pgf\")\n",
    "matplotlib.rcParams.update({\n",
    "    'font.family': 'serif',\n",
    "    'text.usetex': True\n",
    "})\n"
   ]
  },
  {
   "cell_type": "code",
   "execution_count": 25,
   "id": "c80a1fdf-fa99-4c8a-836b-d39e1c0918a4",
   "metadata": {},
   "outputs": [],
   "source": [
    "alternate = True\n",
    "shaping = False"
   ]
  },
  {
   "cell_type": "code",
   "execution_count": 26,
   "id": "8ed5cf69-32e0-46f4-87ba-327641bf6092",
   "metadata": {},
   "outputs": [
    {
     "data": {
      "image/png": "[encoded data removed]",
      "text/plain": [
       "<Figure size 748.8x514.8 with 1 Axes>"
      ]
     },
     "metadata": {
      "needs_background": "light"
     },
     "output_type": "display_data"
    }
   ],
   "source": [
    "graphsize = 35\n",
    "fig, axs = plt.subplots(1, 1)\n",
    "\n",
    "if shaping:\n",
    "    sum_df.plot(kind='line', y='mean_smooth_rew', ax=axs, label=\"LTL shaping $\\phi_3$\", linewidth=1.5, fontsize=graphsize-10)\n",
    "    axs.fill_between(np.arange(0,sum_df.shape[0]), sum_df['mean_smooth_rew']-sum_df['std_smooth_rew'], sum_df['mean_smooth_rew']+sum_df['std_smooth_rew'],\n",
    "                           alpha= 0.3, linewidth=0)\n",
    "if alternate:\n",
    "    sum_df_alt.plot(kind='line', y='mean_smooth_rew', ax=axs, label=\"LTL shaping $\\phi_3'$\", linewidth=1.5, fontsize=graphsize-10, c='green')\n",
    "    axs.fill_between(np.arange(0,sum_df_alt.shape[0]), sum_df_alt['mean_smooth_rew']-sum_df_alt['std_smooth_rew'], sum_df_alt['mean_smooth_rew']+sum_df_alt['std_smooth_rew'],\n",
    "                           alpha= 0.3, linewidth=0, color='green')\n",
    "    \n",
    "sum_df_b.plot(kind='line', y='mean_smooth_rew', ax=axs, label='Ind QL', linewidth=1.5, fontsize=graphsize-10, c='orange')\n",
    "axs.fill_between(np.arange(0,sum_df_b.shape[0]), sum_df_b['mean_smooth_rew']-sum_df_b['std_smooth_rew'], sum_df_b['mean_smooth_rew']+sum_df_b['std_smooth_rew'],\n",
    "                       alpha= 0.3, linewidth=0, color='orange')\n",
    "\n",
    "\n",
    "# axs[1, 1].plot(x, -y, 'tab:red')\n",
    "# axs.set_title('Benchmark 1', fontsize=25)\n",
    "axs.legend(loc='upper left', fontsize=graphsize-10)\n",
    "axs.ticklabel_format(axis='both')\n",
    "\n",
    "# axs.set(xlabel='Episodes', ylabel='')\n",
    "axs.set_xlabel('Episodes', fontsize=graphsize)\n",
    "axs.set_ylabel('Mean normalized returns', fontsize=graphsize)\n",
    "axs.set_ylim([0, 1.2])\n",
    "axs.set_xlim([0, sum_df.shape[0]])\n",
    "axs.grid(b=True, which='major', color='#666666', linestyle='-', linewidth=0.25)\n",
    "\n",
    "plt.tight_layout()\n",
    "plt.show()"
   ]
  },
  {
   "cell_type": "code",
   "execution_count": 27,
   "id": "f0f4bd35-39ee-455c-b622-0e4116a100f7",
   "metadata": {},
   "outputs": [],
   "source": [
    "map_name='benchmark1_phi3_prime'"
   ]
  },
  {
   "cell_type": "code",
   "execution_count": 28,
   "id": "f05ffb8b-08fc-4ac3-9d52-0d8fc4d8c356",
   "metadata": {},
   "outputs": [],
   "source": [
    "fig.savefig(\"graph_data/\"+map_name+\".png\", transparent=True, dpi=600)"
   ]
  },
  {
   "cell_type": "code",
   "execution_count": 73,
   "id": "574c68fe-512e-4a91-ace9-496c13a07021",
   "metadata": {},
   "outputs": [],
   "source": [
    "tikzplotlib.clean_figure(fig=fig, target_resolution=300)\n"
   ]
  },
  {
   "cell_type": "code",
   "execution_count": 75,
   "id": "6d591d33-ff6c-4dcf-9cc5-8a5c810fcbde",
   "metadata": {},
   "outputs": [],
   "source": [
    "# Save a LateX graph file. Turned out to be too large even after cleaning\n",
    "\n",
    "tikzplotlib.save(\"graph_data/learning_curve_\"+map_name+\".tex\", figure=fig)"
   ]
  },
  {
   "cell_type": "code",
   "execution_count": null,
   "id": "5cda19f9-8b2e-4008-a0fa-4ea995a2eea6",
   "metadata": {},
   "outputs": [],
   "source": []
  }
 ],
 "metadata": {
  "kernelspec": {
   "display_name": "Python 3",
   "language": "python",
   "name": "python3"
  },
  "language_info": {
   "codemirror_mode": {
    "name": "ipython",
    "version": 3
   },
   "file_extension": ".py",
   "mimetype": "text/x-python",
   "name": "python",
   "nbconvert_exporter": "python",
   "pygments_lexer": "ipython3",
   "version": "3.6.9"
  }
 },
 "nbformat": 4,
 "nbformat_minor": 5
}
