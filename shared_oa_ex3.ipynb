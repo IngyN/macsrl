{
 "cells": [
  {
   "cell_type": "code",
   "execution_count": 73,
   "id": "uniform-upgrade",
   "metadata": {},
   "outputs": [
    {
     "name": "stdout",
     "output_type": "stream",
     "text": [
      "The autoreload extension is already loaded. To reload it, use:\n",
      "  %reload_ext autoreload\n"
     ]
    },
    {
     "data": {
      "image/png": "[encoded data removed]",
      "text/plain": [
       "<Figure size 720x720 with 1 Axes>"
      ]
     },
     "metadata": {
      "needs_background": "light"
     },
     "output_type": "display_data"
    }
   ],
   "source": [
    "%matplotlib inline\n",
    "%load_ext autoreload\n",
    "%autoreload 2\n",
    "from csrl.mdp import GridMDP\n",
    "import numpy as np \n",
    "from copy import deepcopy\n",
    "\n",
    "shape = n_rows, n_cols = (4,8)\n",
    "\n",
    "structure = np.array([\n",
    "['E','E','B','E','E','E','E','T'],\n",
    "['E','E','B','E','E','B','B','E'],\n",
    "['E','E','E','E','E','E','E','E'],\n",
    "['E','E','E','T','E','E','E','E'],\n",
    "['E','E','E','E','E','E','E','E']\n",
    "])\n",
    "\n",
    "label = np.empty(shape,dtype=object)\n",
    "label.fill(())\n",
    "label[3,0] = ('a',)\n",
    "label[1,4] = ('b',)\n",
    "label[0,1] = ('start1',)\n",
    "label[2,6] = ('start2',)\n",
    "label[0,7] = ('g2',)\n",
    "label[3,3] = ('g1',)\n",
    "\n",
    "rew_structure =  np.empty(shape,dtype=float)\n",
    "rew_structure.fill(0.0)\n",
    "rew_structure[3,0] = 2\n",
    "rew_structure[1,4] = 2\n",
    "rew_structure[0,7] = 10\n",
    "rew_structure[3,3] = 10\n",
    "\n",
    "    \n",
    "grid_mdp = GridMDP(shape=shape,structure=structure, reward=rew_structure, label=label,figsize=10, p=0.8)\n",
    "grid_mdp.plot()"
   ]
  },
  {
   "cell_type": "code",
   "execution_count": 12,
   "id": "modular-kidney",
   "metadata": {
    "tags": []
   },
   "outputs": [
    {
     "name": "stdout",
     "output_type": "stream",
     "text": [
      "Number of Omega-automaton states (including the trap state): 7\n"
     ]
    },
    {
     "data": {
      "text/html": [
       "<div><?xml version=\"1.0\" encoding=\"UTF-8\" standalone=\"no\"?>\n",
       "<!DOCTYPE svg PUBLIC \"-//W3C//DTD SVG 1.1//EN\"\n",
       " \"http://www.w3.org/Graphics/SVG/1.1/DTD/svg11.dtd\">\n",
       "<!-- Generated by graphviz version 2.40.1 (20161225.0304)\n",
       " -->\n",
       "<!-- Pages: 1 -->\n",
       "<svg width=\"722pt\" height=\"360pt\"\n",
       " viewBox=\"0.00 0.00 722.31 360.00\" xmlns=\"http://www.w3.org/2000/svg\" xmlns:xlink=\"http://www.w3.org/1999/xlink\">\n",
       "<g id=\"graph0\" class=\"graph\" transform=\"scale(0.9554 0.9554) rotate(0) translate(4 372.7936)\">\n",
       "<polygon fill=\"#ffffff\" stroke=\"transparent\" points=\"-4,4 -4,-372.7936 752,-372.7936 752,4 -4,4\"/>\n",
       "<text text-anchor=\"start\" x=\"353\" y=\"-354.5936\" font-family=\"Lato\" font-size=\"14.00\" fill=\"#000000\">Inf(</text>\n",
       "<text text-anchor=\"start\" x=\"375\" y=\"-354.5936\" font-family=\"Lato\" font-size=\"14.00\" fill=\"#1f78b4\">⓿</text>\n",
       "<text text-anchor=\"start\" x=\"391\" y=\"-354.5936\" font-family=\"Lato\" font-size=\"14.00\" fill=\"#000000\">)</text>\n",
       "<text text-anchor=\"start\" x=\"351\" y=\"-340.5936\" font-family=\"Lato\" font-size=\"14.00\" fill=\"#000000\">[Büchi]</text>\n",
       "<!-- I -->\n",
       "<!-- 0 -->\n",
       "<g id=\"node2\" class=\"node\">\n",
       "<title>0</title>\n",
       "<ellipse fill=\"#ffffaa\" stroke=\"#000000\" cx=\"56\" cy=\"-213.7936\" rx=\"18\" ry=\"18\"/>\n",
       "<text text-anchor=\"middle\" x=\"56\" y=\"-210.0936\" font-family=\"Lato\" font-size=\"14.00\" fill=\"#000000\">0</text>\n",
       "</g>\n",
       "<!-- I&#45;&gt;0 -->\n",
       "<g id=\"edge1\" class=\"edge\">\n",
       "<title>I&#45;&gt;0</title>\n",
       "<path fill=\"none\" stroke=\"#000000\" d=\"M1.1233,-213.7936C4.178,-213.7936 17.9448,-213.7936 30.9241,-213.7936\"/>\n",
       "<polygon fill=\"#000000\" stroke=\"#000000\" points=\"37.9807,-213.7936 30.9808,-216.9437 34.4807,-213.7937 30.9807,-213.7937 30.9807,-213.7937 30.9807,-213.7937 34.4807,-213.7937 30.9807,-210.6437 37.9807,-213.7936 37.9807,-213.7936\"/>\n",
       "</g>\n",
       "<!-- 0&#45;&gt;0 -->\n",
       "<g id=\"edge2\" class=\"edge\">\n",
       "<title>0&#45;&gt;0</title>\n",
       "<path fill=\"none\" stroke=\"#000000\" d=\"M49.6208,-230.831C48.3189,-240.6516 50.4453,-249.7936 56,-249.7936 60.166,-249.7936 62.4036,-244.6512 62.7128,-237.9369\"/>\n",
       "<polygon fill=\"#000000\" stroke=\"#000000\" points=\"62.3792,-230.831 65.8541,-237.6755 62.5434,-234.3271 62.7076,-237.8233 62.7076,-237.8233 62.7076,-237.8233 62.5434,-234.3271 59.561,-237.971 62.3792,-230.831 62.3792,-230.831\"/>\n",
       "<text text-anchor=\"start\" x=\"50.5\" y=\"-253.5936\" font-family=\"Lato\" font-size=\"14.00\" fill=\"#000000\">!a</text>\n",
       "</g>\n",
       "<!-- 1 -->\n",
       "<g id=\"node3\" class=\"node\">\n",
       "<title>1</title>\n",
       "<ellipse fill=\"#ffffaa\" stroke=\"#000000\" cx=\"201.5\" cy=\"-126.7936\" rx=\"18\" ry=\"18\"/>\n",
       "<text text-anchor=\"middle\" x=\"201.5\" y=\"-123.0936\" font-family=\"Lato\" font-size=\"14.00\" fill=\"#000000\">1</text>\n",
       "</g>\n",
       "<!-- 0&#45;&gt;1 -->\n",
       "<g id=\"edge3\" class=\"edge\">\n",
       "<title>0&#45;&gt;1</title>\n",
       "<path fill=\"none\" stroke=\"#000000\" d=\"M69.549,-201.8564C76.1057,-196.3505 84.2261,-189.9159 92,-184.7936 120.4891,-166.0219 155.7047,-148.2488 178.3787,-137.4415\"/>\n",
       "<polygon fill=\"#000000\" stroke=\"#000000\" points=\"184.9915,-134.3177 180.0077,-140.1559 181.8269,-135.8127 178.6622,-137.3076 178.6622,-137.3076 178.6622,-137.3076 181.8269,-135.8127 177.3167,-134.4594 184.9915,-134.3177 184.9915,-134.3177\"/>\n",
       "<text text-anchor=\"start\" x=\"92\" y=\"-188.5936\" font-family=\"Lato\" font-size=\"14.00\" fill=\"#000000\">a &amp; !b</text>\n",
       "</g>\n",
       "<!-- 2 -->\n",
       "<g id=\"node4\" class=\"node\">\n",
       "<title>2</title>\n",
       "<ellipse fill=\"#ffffaa\" stroke=\"#000000\" cx=\"447.5\" cy=\"-126.7936\" rx=\"18\" ry=\"18\"/>\n",
       "<text text-anchor=\"middle\" x=\"447.5\" y=\"-123.0936\" font-family=\"Lato\" font-size=\"14.00\" fill=\"#000000\">2</text>\n",
       "</g>\n",
       "<!-- 0&#45;&gt;2 -->\n",
       "<g id=\"edge4\" class=\"edge\">\n",
       "<title>0&#45;&gt;2</title>\n",
       "<path fill=\"none\" stroke=\"#000000\" d=\"M74.1083,-212.3842C109.4213,-209.4084 189.821,-201.5167 256,-186.7936 317.694,-173.0684 388.1128,-148.6667 423.9122,-135.6116\"/>\n",
       "<polygon fill=\"#000000\" stroke=\"#000000\" points=\"430.5977,-133.1584 425.1113,-138.527 427.3119,-134.3641 424.0262,-135.5698 424.0262,-135.5698 424.0262,-135.5698 427.3119,-134.3641 422.941,-132.6126 430.5977,-133.1584 430.5977,-133.1584\"/>\n",
       "<text text-anchor=\"start\" x=\"147\" y=\"-207.5936\" font-family=\"Lato\" font-size=\"14.00\" fill=\"#000000\">a &amp; b &amp; !g1 &amp; !g2</text>\n",
       "</g>\n",
       "<!-- 3 -->\n",
       "<g id=\"node5\" class=\"node\">\n",
       "<title>3</title>\n",
       "<ellipse fill=\"#ffffaa\" stroke=\"#000000\" cx=\"635\" cy=\"-68.7936\" rx=\"18\" ry=\"18\"/>\n",
       "<text text-anchor=\"middle\" x=\"635\" y=\"-65.0936\" font-family=\"Lato\" font-size=\"14.00\" fill=\"#000000\">3</text>\n",
       "</g>\n",
       "<!-- 0&#45;&gt;3 -->\n",
       "<g id=\"edge5\" class=\"edge\">\n",
       "<title>0&#45;&gt;3</title>\n",
       "<path fill=\"none\" stroke=\"#000000\" d=\"M65.4039,-197.8942C72.2995,-186.6371 82.1419,-171.3668 92,-158.7936 152.8597,-81.1722 178.329,-55.7944 274,-31.7936 411.0854,2.5967 459.4925,17.3681 592,-31.7936 601.8596,-35.4517 610.9754,-42.4955 618.2525,-49.4641\"/>\n",
       "<polygon fill=\"#000000\" stroke=\"#000000\" points=\"623.4407,-54.7211 616.2816,-51.9516 620.9822,-52.23 618.5236,-49.7389 618.5236,-49.7389 618.5236,-49.7389 620.9822,-52.23 620.7656,-47.5262 623.4407,-54.7211 623.4407,-54.7211\"/>\n",
       "<text text-anchor=\"start\" x=\"274\" y=\"-35.5936\" font-family=\"Lato\" font-size=\"14.00\" fill=\"#000000\">a &amp; b &amp; g1 &amp; !g2</text>\n",
       "</g>\n",
       "<!-- 4 -->\n",
       "<g id=\"node6\" class=\"node\">\n",
       "<title>4</title>\n",
       "<ellipse fill=\"#ffffaa\" stroke=\"#000000\" cx=\"635\" cy=\"-221.7936\" rx=\"18\" ry=\"18\"/>\n",
       "<text text-anchor=\"middle\" x=\"635\" y=\"-218.0936\" font-family=\"Lato\" font-size=\"14.00\" fill=\"#000000\">4</text>\n",
       "</g>\n",
       "<!-- 0&#45;&gt;4 -->\n",
       "<g id=\"edge6\" class=\"edge\">\n",
       "<title>0&#45;&gt;4</title>\n",
       "<path fill=\"none\" stroke=\"#000000\" d=\"M73.4203,-219.0265C79.2691,-220.5473 85.8653,-222.009 92,-222.7936 278.9302,-246.7014 327.5493,-225.9047 516,-226.7936 549.7774,-226.953 558.2788,-228.7476 592,-226.7936 597.8031,-226.4574 604.0247,-225.8679 609.8822,-225.2089\"/>\n",
       "<polygon fill=\"#000000\" stroke=\"#000000\" points=\"617.048,-224.3509 610.4722,-228.3109 613.5729,-224.767 610.0977,-225.1832 610.0977,-225.1832 610.0977,-225.1832 613.5729,-224.767 609.7231,-222.0556 617.048,-224.3509 617.048,-224.3509\"/>\n",
       "<text text-anchor=\"start\" x=\"274\" y=\"-237.5936\" font-family=\"Lato\" font-size=\"14.00\" fill=\"#000000\">a &amp; b &amp; !g1 &amp; g2</text>\n",
       "</g>\n",
       "<!-- 5 -->\n",
       "<g id=\"node7\" class=\"node\">\n",
       "<title>5</title>\n",
       "<ellipse fill=\"#ffffaa\" stroke=\"#000000\" cx=\"730\" cy=\"-155.7936\" rx=\"18\" ry=\"18\"/>\n",
       "<text text-anchor=\"middle\" x=\"730\" y=\"-152.0936\" font-family=\"Lato\" font-size=\"14.00\" fill=\"#000000\">5</text>\n",
       "</g>\n",
       "<!-- 0&#45;&gt;5 -->\n",
       "<g id=\"edge7\" class=\"edge\">\n",
       "<title>0&#45;&gt;5</title>\n",
       "<path fill=\"none\" stroke=\"#000000\" d=\"M68.0743,-227.6999C91.2293,-252.7311 144.6461,-302.7936 201.5,-302.7936 201.5,-302.7936 201.5,-302.7936 635,-302.7936 692.4493,-302.7936 716.8579,-222.6169 725.6947,-180.6886\"/>\n",
       "<polygon fill=\"#000000\" stroke=\"#000000\" points=\"727.0754,-173.8187 728.7843,-181.3022 726.3857,-177.2501 725.696,-180.6815 725.696,-180.6815 725.696,-180.6815 726.3857,-177.2501 722.6078,-180.0608 727.0754,-173.8187 727.0754,-173.8187\"/>\n",
       "<text text-anchor=\"start\" x=\"397\" y=\"-321.5936\" font-family=\"Lato\" font-size=\"14.00\" fill=\"#000000\">a &amp; b &amp; g1 &amp; g2</text>\n",
       "<text text-anchor=\"start\" x=\"439.5\" y=\"-306.5936\" font-family=\"Lato\" font-size=\"14.00\" fill=\"#1f78b4\">⓿</text>\n",
       "</g>\n",
       "<!-- 1&#45;&gt;1 -->\n",
       "<g id=\"edge8\" class=\"edge\">\n",
       "<title>1&#45;&gt;1</title>\n",
       "<path fill=\"none\" stroke=\"#000000\" d=\"M187.855,-138.9654C180.7798,-150.3952 185.3281,-162.7936 201.5,-162.7936 214.6396,-162.7936 220.1059,-154.6087 217.8989,-145.4087\"/>\n",
       "<polygon fill=\"#000000\" stroke=\"#000000\" points=\"215.145,-138.9654 220.7927,-144.1641 216.5206,-142.1838 217.8961,-145.4021 217.8961,-145.4021 217.8961,-145.4021 216.5206,-142.1838 214.9996,-146.6402 215.145,-138.9654 215.145,-138.9654\"/>\n",
       "<text text-anchor=\"start\" x=\"195\" y=\"-166.5936\" font-family=\"Lato\" font-size=\"14.00\" fill=\"#000000\">!b</text>\n",
       "</g>\n",
       "<!-- 1&#45;&gt;2 -->\n",
       "<g id=\"edge9\" class=\"edge\">\n",
       "<title>1&#45;&gt;2</title>\n",
       "<path fill=\"none\" stroke=\"#000000\" d=\"M219.589,-126.7936C262.8606,-126.7936 372.4381,-126.7936 422.2094,-126.7936\"/>\n",
       "<polygon fill=\"#000000\" stroke=\"#000000\" points=\"429.3845,-126.7936 422.3846,-129.9437 425.8845,-126.7937 422.3845,-126.7937 422.3845,-126.7937 422.3845,-126.7937 425.8845,-126.7937 422.3845,-123.6437 429.3845,-126.7936 429.3845,-126.7936\"/>\n",
       "<text text-anchor=\"start\" x=\"284.5\" y=\"-130.5936\" font-family=\"Lato\" font-size=\"14.00\" fill=\"#000000\">b &amp; !g1 &amp; !g2</text>\n",
       "</g>\n",
       "<!-- 1&#45;&gt;3 -->\n",
       "<g id=\"edge10\" class=\"edge\">\n",
       "<title>1&#45;&gt;3</title>\n",
       "<path fill=\"none\" stroke=\"#000000\" d=\"M219.1372,-122.1058C253.2256,-113.2466 330.649,-94.1014 397,-84.7936 474.149,-73.9711 566.4298,-70.4144 609.9449,-69.2891\"/>\n",
       "<polygon fill=\"#000000\" stroke=\"#000000\" points=\"616.9951,-69.1173 610.074,-72.437 613.4961,-69.2027 609.9972,-69.288 609.9972,-69.288 609.9972,-69.288 613.4961,-69.2027 609.9204,-66.1389 616.9951,-69.1173 616.9951,-69.1173\"/>\n",
       "<text text-anchor=\"start\" x=\"407.5\" y=\"-88.5936\" font-family=\"Lato\" font-size=\"14.00\" fill=\"#000000\">b &amp; g1 &amp; !g2</text>\n",
       "</g>\n",
       "<!-- 1&#45;&gt;4 -->\n",
       "<g id=\"edge11\" class=\"edge\">\n",
       "<title>1&#45;&gt;4</title>\n",
       "<path fill=\"none\" stroke=\"#000000\" d=\"M218.524,-132.9795C252.1841,-144.9945 329.812,-171.6353 397,-186.7936 473.6387,-204.0842 566.1592,-214.8627 609.8373,-219.3631\"/>\n",
       "<polygon fill=\"#000000\" stroke=\"#000000\" points=\"616.9148,-220.0812 609.6326,-222.5085 613.4327,-219.7279 609.9506,-219.3745 609.9506,-219.3745 609.9506,-219.3745 613.4327,-219.7279 610.2686,-216.2406 616.9148,-220.0812 616.9148,-220.0812\"/>\n",
       "<text text-anchor=\"start\" x=\"407.5\" y=\"-208.5936\" font-family=\"Lato\" font-size=\"14.00\" fill=\"#000000\">b &amp; !g1 &amp; g2</text>\n",
       "</g>\n",
       "<!-- 1&#45;&gt;5 -->\n",
       "<g id=\"edge12\" class=\"edge\">\n",
       "<title>1&#45;&gt;5</title>\n",
       "<path fill=\"none\" stroke=\"#000000\" d=\"M216.325,-116.2379C230.4888,-106.6423 252.7658,-92.7968 274,-84.7936 407.7498,-34.3832 449.1619,-31.5493 592,-36.7936 622.2834,-37.9055 633.9601,-26.2939 660,-41.7936 693.3424,-61.6401 712.9789,-104.1361 722.5979,-131.2657\"/>\n",
       "<polygon fill=\"#000000\" stroke=\"#000000\" points=\"724.9393,-138.1435 719.7015,-132.5322 723.8114,-134.8303 722.6834,-131.517 722.6834,-131.517 722.6834,-131.517 723.8114,-134.8303 725.6654,-130.5018 724.9393,-138.1435 724.9393,-138.1435\"/>\n",
       "<text text-anchor=\"start\" x=\"516\" y=\"-55.5936\" font-family=\"Lato\" font-size=\"14.00\" fill=\"#000000\">b &amp; g1 &amp; g2</text>\n",
       "<text text-anchor=\"start\" x=\"546\" y=\"-40.5936\" font-family=\"Lato\" font-size=\"14.00\" fill=\"#1f78b4\">⓿</text>\n",
       "</g>\n",
       "<!-- 2&#45;&gt;2 -->\n",
       "<g id=\"edge13\" class=\"edge\">\n",
       "<title>2&#45;&gt;2</title>\n",
       "<path fill=\"none\" stroke=\"#000000\" d=\"M432.5938,-137.4811C422.6563,-149.2936 427.625,-162.7936 447.5,-162.7936 463.959,-162.7936 470.1954,-153.5355 466.2092,-143.6444\"/>\n",
       "<polygon fill=\"#000000\" stroke=\"#000000\" points=\"462.4063,-137.4811 468.7629,-141.7842 464.2442,-140.4598 466.0821,-143.4384 466.0821,-143.4384 466.0821,-143.4384 464.2442,-140.4598 463.4014,-145.0925 462.4063,-137.4811 462.4063,-137.4811\"/>\n",
       "<text text-anchor=\"start\" x=\"418.5\" y=\"-166.5936\" font-family=\"Lato\" font-size=\"14.00\" fill=\"#000000\">!g1 &amp; !g2</text>\n",
       "</g>\n",
       "<!-- 2&#45;&gt;3 -->\n",
       "<g id=\"edge14\" class=\"edge\">\n",
       "<title>2&#45;&gt;3</title>\n",
       "<path fill=\"none\" stroke=\"#000000\" d=\"M465.1121,-122.9551C492.592,-116.7625 547.168,-103.6443 592,-87.7936 598.555,-85.4761 605.5089,-82.597 611.8704,-79.7868\"/>\n",
       "<polygon fill=\"#000000\" stroke=\"#000000\" points=\"618.4939,-76.7942 613.4118,-82.547 615.3044,-78.2353 612.1148,-79.6764 612.1148,-79.6764 612.1148,-79.6764 615.3044,-78.2353 610.8178,-76.8058 618.4939,-76.7942 618.4939,-76.7942\"/>\n",
       "<text text-anchor=\"start\" x=\"527\" y=\"-114.5936\" font-family=\"Lato\" font-size=\"14.00\" fill=\"#000000\">g1 &amp; !g2</text>\n",
       "</g>\n",
       "<!-- 2&#45;&gt;4 -->\n",
       "<g id=\"edge15\" class=\"edge\">\n",
       "<title>2&#45;&gt;4</title>\n",
       "<path fill=\"none\" stroke=\"#000000\" d=\"M462.8395,-136.2413C476.441,-144.333 497.0337,-155.8962 516,-163.7936 548.5792,-177.3594 560.8375,-170.2307 592,-186.7936 600.8051,-191.4736 609.5254,-198.0973 616.7876,-204.3252\"/>\n",
       "<polygon fill=\"#000000\" stroke=\"#000000\" points=\"622.0341,-208.9718 614.7053,-206.6888 619.414,-206.6513 616.7938,-204.3307 616.7938,-204.3307 616.7938,-204.3307 619.414,-206.6513 618.8823,-201.9726 622.0341,-208.9718 622.0341,-208.9718\"/>\n",
       "<text text-anchor=\"start\" x=\"527\" y=\"-190.5936\" font-family=\"Lato\" font-size=\"14.00\" fill=\"#000000\">!g1 &amp; g2</text>\n",
       "</g>\n",
       "<!-- 2&#45;&gt;5 -->\n",
       "<g id=\"edge16\" class=\"edge\">\n",
       "<title>2&#45;&gt;5</title>\n",
       "<path fill=\"none\" stroke=\"#000000\" d=\"M465.6014,-128.6518C514.4342,-133.6648 648.9566,-147.4741 704.9913,-153.2264\"/>\n",
       "<polygon fill=\"#000000\" stroke=\"#000000\" points=\"712.0494,-153.9509 704.7642,-156.3695 708.5677,-153.5935 705.086,-153.236 705.086,-153.236 705.086,-153.236 708.5677,-153.5935 705.4077,-150.1025 712.0494,-153.9509 712.0494,-153.9509\"/>\n",
       "<text text-anchor=\"start\" x=\"610\" y=\"-167.5936\" font-family=\"Lato\" font-size=\"14.00\" fill=\"#000000\">g1 &amp; g2</text>\n",
       "<text text-anchor=\"start\" x=\"627\" y=\"-152.5936\" font-family=\"Lato\" font-size=\"14.00\" fill=\"#1f78b4\">⓿</text>\n",
       "</g>\n",
       "<!-- 3&#45;&gt;3 -->\n",
       "<g id=\"edge17\" class=\"edge\">\n",
       "<title>3&#45;&gt;3</title>\n",
       "<path fill=\"none\" stroke=\"#000000\" d=\"M626.3666,-84.7097C624.1144,-94.944 626.9922,-104.7936 635,-104.7936 641.131,-104.7936 644.2548,-99.02 644.3716,-91.7205\"/>\n",
       "<polygon fill=\"#000000\" stroke=\"#000000\" points=\"643.6334,-84.7097 647.4992,-91.3413 644,-88.1904 644.3665,-91.6712 644.3665,-91.6712 644.3665,-91.6712 644,-88.1904 641.2338,-92.0011 643.6334,-84.7097 643.6334,-84.7097\"/>\n",
       "<text text-anchor=\"start\" x=\"625\" y=\"-108.5936\" font-family=\"Lato\" font-size=\"14.00\" fill=\"#000000\">!g2</text>\n",
       "</g>\n",
       "<!-- 3&#45;&gt;5 -->\n",
       "<g id=\"edge18\" class=\"edge\">\n",
       "<title>3&#45;&gt;5</title>\n",
       "<path fill=\"none\" stroke=\"#000000\" d=\"M650.3646,-78.414C662.7801,-86.5473 680.3699,-98.9053 694,-111.7936 701.5435,-118.9266 708.9658,-127.6264 715.0929,-135.4011\"/>\n",
       "<polygon fill=\"#000000\" stroke=\"#000000\" points=\"719.5064,-141.1249 712.7374,-137.505 717.3692,-138.3532 715.232,-135.5815 715.232,-135.5815 715.232,-135.5815 717.3692,-138.3532 717.7265,-133.658 719.5064,-141.1249 719.5064,-141.1249\"/>\n",
       "<text text-anchor=\"start\" x=\"678\" y=\"-130.5936\" font-family=\"Lato\" font-size=\"14.00\" fill=\"#000000\">g2</text>\n",
       "<text text-anchor=\"start\" x=\"678\" y=\"-115.5936\" font-family=\"Lato\" font-size=\"14.00\" fill=\"#1f78b4\">⓿</text>\n",
       "</g>\n",
       "<!-- 4&#45;&gt;4 -->\n",
       "<g id=\"edge19\" class=\"edge\">\n",
       "<title>4&#45;&gt;4</title>\n",
       "<path fill=\"none\" stroke=\"#000000\" d=\"M626.3666,-237.7097C624.1144,-247.944 626.9922,-257.7936 635,-257.7936 641.131,-257.7936 644.2548,-252.02 644.3716,-244.7205\"/>\n",
       "<polygon fill=\"#000000\" stroke=\"#000000\" points=\"643.6334,-237.7097 647.4992,-244.3413 644,-241.1904 644.3665,-244.6712 644.3665,-244.6712 644.3665,-244.6712 644,-241.1904 641.2338,-245.0011 643.6334,-237.7097 643.6334,-237.7097\"/>\n",
       "<text text-anchor=\"start\" x=\"625\" y=\"-261.5936\" font-family=\"Lato\" font-size=\"14.00\" fill=\"#000000\">!g1</text>\n",
       "</g>\n",
       "<!-- 4&#45;&gt;5 -->\n",
       "<g id=\"edge20\" class=\"edge\">\n",
       "<title>4&#45;&gt;5</title>\n",
       "<path fill=\"none\" stroke=\"#000000\" d=\"M649.8438,-211.4811C665.7847,-200.4064 691.2362,-182.7243 709.1757,-170.261\"/>\n",
       "<polygon fill=\"#000000\" stroke=\"#000000\" points=\"714.947,-166.2515 710.9954,-172.8325 712.0726,-168.2485 709.1981,-170.2455 709.1981,-170.2455 709.1981,-170.2455 712.0726,-168.2485 707.4009,-167.6585 714.947,-166.2515 714.947,-166.2515\"/>\n",
       "<text text-anchor=\"start\" x=\"678\" y=\"-208.5936\" font-family=\"Lato\" font-size=\"14.00\" fill=\"#000000\">g1</text>\n",
       "<text text-anchor=\"start\" x=\"678\" y=\"-193.5936\" font-family=\"Lato\" font-size=\"14.00\" fill=\"#1f78b4\">⓿</text>\n",
       "</g>\n",
       "<!-- 5&#45;&gt;5 -->\n",
       "<g id=\"edge21\" class=\"edge\">\n",
       "<title>5&#45;&gt;5</title>\n",
       "<path fill=\"none\" stroke=\"#000000\" d=\"M722.3321,-172.0839C720.4831,-182.1828 723.0391,-191.7936 730,-191.7936 735.2207,-191.7936 737.9636,-186.3875 738.2287,-179.424\"/>\n",
       "<polygon fill=\"#000000\" stroke=\"#000000\" points=\"737.6679,-172.0839 741.3421,-178.8236 737.9346,-175.5737 738.2013,-179.0636 738.2013,-179.0636 738.2013,-179.0636 737.9346,-175.5737 735.0604,-179.3036 737.6679,-172.0839 737.6679,-172.0839\"/>\n",
       "<text text-anchor=\"start\" x=\"725.5\" y=\"-210.5936\" font-family=\"Lato\" font-size=\"14.00\" fill=\"#000000\">1</text>\n",
       "<text text-anchor=\"start\" x=\"722\" y=\"-195.5936\" font-family=\"Lato\" font-size=\"14.00\" fill=\"#1f78b4\">⓿</text>\n",
       "</g>\n",
       "</g>\n",
       "</svg>\n",
       "</div>"
      ],
      "text/plain": [
       "<csrl.oa.OmegaAutomaton at 0x7f755b674320>"
      ]
     },
     "metadata": {},
     "output_type": "display_data"
    }
   ],
   "source": [
    "from csrl.oa import OmegaAutomaton\n",
    "\n",
    "# LTL Specification\n",
    "ltl = 'F(a & F(b & ( F( g1 | XF g1) &  F( g2 | XF g2)) ))'\n",
    "# (!d U b) & F(b & a) & F(b U a) & (FG d)\n",
    "#  '((Fa & !c) U (a&b))& ((Fb & !d) U (a&b)) & (FG c) & (FG d)'\n",
    "# '((!c & !d) U F(a & b)) & (FG c) & (FG d)'\n",
    "\n",
    "# Translate the LTL formula to an LDBA\n",
    "oa1 = OmegaAutomaton(ltl, extra_aps=grid_mdp.all_labels)\n",
    "\n",
    "print('Number of Omega-automaton states (including the trap state):',oa1.shape[1])\n",
    "display(oa1)"
   ]
  },
  {
   "cell_type": "code",
   "execution_count": 13,
   "id": "relative-philosophy",
   "metadata": {},
   "outputs": [],
   "source": [
    "from csrl import ControlSynthesis\n",
    "import numpy as np \n",
    "\n",
    "# Construct product MDPs\n",
    "csrl1 = ControlSynthesis(grid_mdp,oa1)\n",
    "\n",
    "csrl2 = ControlSynthesis(grid_mdp,oa1) "
   ]
  },
  {
   "cell_type": "code",
   "execution_count": 14,
   "id": "brief-middle",
   "metadata": {},
   "outputs": [
    {
     "data": {
      "text/plain": [
       "(2, 1, 7, 4, 8, 11)"
      ]
     },
     "execution_count": 14,
     "metadata": {},
     "output_type": "execute_result"
    }
   ],
   "source": [
    "from multi import MultiControlSynthesis\n",
    "\n",
    "mcsrl = MultiControlSynthesis([csrl1, csrl2], oa = oa1, starts=[(0, 1), (2, 6)], mdp=grid_mdp, sharedoa=True)\n",
    "mcsrl.shape"
   ]
  },
  {
   "cell_type": "code",
   "execution_count": 33,
   "id": "2cafc89f-d1fb-40d2-852d-4acf39d353f5",
   "metadata": {
    "collapsed": true,
    "jupyter": {
     "outputs_hidden": true
    },
    "tags": []
   },
   "outputs": [
    {
     "data": {
      "text/plain": [
       "[{(): [None],\n",
       "  ('a',): [None],\n",
       "  ('b',): [None],\n",
       "  ('g1',): [None],\n",
       "  ('g2',): [None],\n",
       "  ('start1',): [None],\n",
       "  ('start2',): [None],\n",
       "  ('a', 'b'): [None],\n",
       "  ('a', 'g1'): [None],\n",
       "  ('a', 'g2'): [None],\n",
       "  ('a', 'start1'): [None],\n",
       "  ('a', 'start2'): [None],\n",
       "  ('b', 'g1'): [None],\n",
       "  ('b', 'g2'): [None],\n",
       "  ('b', 'start1'): [None],\n",
       "  ('b', 'start2'): [None],\n",
       "  ('g1', 'g2'): [None],\n",
       "  ('g1', 'start1'): [None],\n",
       "  ('g1', 'start2'): [None],\n",
       "  ('g2', 'start1'): [None],\n",
       "  ('g2', 'start2'): [None],\n",
       "  ('start1', 'start2'): [None],\n",
       "  ('a', 'b', 'g1'): [None],\n",
       "  ('a', 'b', 'g2'): [None],\n",
       "  ('a', 'b', 'start1'): [None],\n",
       "  ('a', 'b', 'start2'): [None],\n",
       "  ('a', 'g1', 'g2'): [None],\n",
       "  ('a', 'g1', 'start1'): [None],\n",
       "  ('a', 'g1', 'start2'): [None],\n",
       "  ('a', 'g2', 'start1'): [None],\n",
       "  ('a', 'g2', 'start2'): [None],\n",
       "  ('a', 'start1', 'start2'): [None],\n",
       "  ('b', 'g1', 'g2'): [None],\n",
       "  ('b', 'g1', 'start1'): [None],\n",
       "  ('b', 'g1', 'start2'): [None],\n",
       "  ('b', 'g2', 'start1'): [None],\n",
       "  ('b', 'g2', 'start2'): [None],\n",
       "  ('b', 'start1', 'start2'): [None],\n",
       "  ('g1', 'g2', 'start1'): [None],\n",
       "  ('g1', 'g2', 'start2'): [None],\n",
       "  ('g1', 'start1', 'start2'): [None],\n",
       "  ('g2', 'start1', 'start2'): [None],\n",
       "  ('a', 'b', 'g1', 'g2'): [True],\n",
       "  ('a', 'b', 'g1', 'start1'): [None],\n",
       "  ('a', 'b', 'g1', 'start2'): [None],\n",
       "  ('a', 'b', 'g2', 'start1'): [None],\n",
       "  ('a', 'b', 'g2', 'start2'): [None],\n",
       "  ('a', 'b', 'start1', 'start2'): [None],\n",
       "  ('a', 'g1', 'g2', 'start1'): [None],\n",
       "  ('a', 'g1', 'g2', 'start2'): [None],\n",
       "  ('a', 'g1', 'start1', 'start2'): [None],\n",
       "  ('a', 'g2', 'start1', 'start2'): [None],\n",
       "  ('b', 'g1', 'g2', 'start1'): [None],\n",
       "  ('b', 'g1', 'g2', 'start2'): [None],\n",
       "  ('b', 'g1', 'start1', 'start2'): [None],\n",
       "  ('b', 'g2', 'start1', 'start2'): [None],\n",
       "  ('g1', 'g2', 'start1', 'start2'): [None],\n",
       "  ('a', 'b', 'g1', 'g2', 'start1'): [True],\n",
       "  ('a', 'b', 'g1', 'g2', 'start2'): [True],\n",
       "  ('a', 'b', 'g1', 'start1', 'start2'): [None],\n",
       "  ('a', 'b', 'g2', 'start1', 'start2'): [None],\n",
       "  ('a', 'g1', 'g2', 'start1', 'start2'): [None],\n",
       "  ('b', 'g1', 'g2', 'start1', 'start2'): [None],\n",
       "  ('a', 'b', 'g1', 'g2', 'start1', 'start2'): [True]},\n",
       " {(): [None],\n",
       "  ('a',): [None],\n",
       "  ('b',): [None],\n",
       "  ('g1',): [None],\n",
       "  ('g2',): [None],\n",
       "  ('start1',): [None],\n",
       "  ('start2',): [None],\n",
       "  ('a', 'b'): [None],\n",
       "  ('a', 'g1'): [None],\n",
       "  ('a', 'g2'): [None],\n",
       "  ('a', 'start1'): [None],\n",
       "  ('a', 'start2'): [None],\n",
       "  ('b', 'g1'): [None],\n",
       "  ('b', 'g2'): [None],\n",
       "  ('b', 'start1'): [None],\n",
       "  ('b', 'start2'): [None],\n",
       "  ('g1', 'g2'): [None],\n",
       "  ('g1', 'start1'): [None],\n",
       "  ('g1', 'start2'): [None],\n",
       "  ('g2', 'start1'): [None],\n",
       "  ('g2', 'start2'): [None],\n",
       "  ('start1', 'start2'): [None],\n",
       "  ('a', 'b', 'g1'): [None],\n",
       "  ('a', 'b', 'g2'): [None],\n",
       "  ('a', 'b', 'start1'): [None],\n",
       "  ('a', 'b', 'start2'): [None],\n",
       "  ('a', 'g1', 'g2'): [None],\n",
       "  ('a', 'g1', 'start1'): [None],\n",
       "  ('a', 'g1', 'start2'): [None],\n",
       "  ('a', 'g2', 'start1'): [None],\n",
       "  ('a', 'g2', 'start2'): [None],\n",
       "  ('a', 'start1', 'start2'): [None],\n",
       "  ('b', 'g1', 'g2'): [True],\n",
       "  ('b', 'g1', 'start1'): [None],\n",
       "  ('b', 'g1', 'start2'): [None],\n",
       "  ('b', 'g2', 'start1'): [None],\n",
       "  ('b', 'g2', 'start2'): [None],\n",
       "  ('b', 'start1', 'start2'): [None],\n",
       "  ('g1', 'g2', 'start1'): [None],\n",
       "  ('g1', 'g2', 'start2'): [None],\n",
       "  ('g1', 'start1', 'start2'): [None],\n",
       "  ('g2', 'start1', 'start2'): [None],\n",
       "  ('a', 'b', 'g1', 'g2'): [True],\n",
       "  ('a', 'b', 'g1', 'start1'): [None],\n",
       "  ('a', 'b', 'g1', 'start2'): [None],\n",
       "  ('a', 'b', 'g2', 'start1'): [None],\n",
       "  ('a', 'b', 'g2', 'start2'): [None],\n",
       "  ('a', 'b', 'start1', 'start2'): [None],\n",
       "  ('a', 'g1', 'g2', 'start1'): [None],\n",
       "  ('a', 'g1', 'g2', 'start2'): [None],\n",
       "  ('a', 'g1', 'start1', 'start2'): [None],\n",
       "  ('a', 'g2', 'start1', 'start2'): [None],\n",
       "  ('b', 'g1', 'g2', 'start1'): [True],\n",
       "  ('b', 'g1', 'g2', 'start2'): [True],\n",
       "  ('b', 'g1', 'start1', 'start2'): [None],\n",
       "  ('b', 'g2', 'start1', 'start2'): [None],\n",
       "  ('g1', 'g2', 'start1', 'start2'): [None],\n",
       "  ('a', 'b', 'g1', 'g2', 'start1'): [True],\n",
       "  ('a', 'b', 'g1', 'g2', 'start2'): [True],\n",
       "  ('a', 'b', 'g1', 'start1', 'start2'): [None],\n",
       "  ('a', 'b', 'g2', 'start1', 'start2'): [None],\n",
       "  ('a', 'g1', 'g2', 'start1', 'start2'): [None],\n",
       "  ('b', 'g1', 'g2', 'start1', 'start2'): [True],\n",
       "  ('a', 'b', 'g1', 'g2', 'start1', 'start2'): [True]},\n",
       " {(): [None],\n",
       "  ('a',): [None],\n",
       "  ('b',): [None],\n",
       "  ('g1',): [None],\n",
       "  ('g2',): [None],\n",
       "  ('start1',): [None],\n",
       "  ('start2',): [None],\n",
       "  ('a', 'b'): [None],\n",
       "  ('a', 'g1'): [None],\n",
       "  ('a', 'g2'): [None],\n",
       "  ('a', 'start1'): [None],\n",
       "  ('a', 'start2'): [None],\n",
       "  ('b', 'g1'): [None],\n",
       "  ('b', 'g2'): [None],\n",
       "  ('b', 'start1'): [None],\n",
       "  ('b', 'start2'): [None],\n",
       "  ('g1', 'g2'): [True],\n",
       "  ('g1', 'start1'): [None],\n",
       "  ('g1', 'start2'): [None],\n",
       "  ('g2', 'start1'): [None],\n",
       "  ('g2', 'start2'): [None],\n",
       "  ('start1', 'start2'): [None],\n",
       "  ('a', 'b', 'g1'): [None],\n",
       "  ('a', 'b', 'g2'): [None],\n",
       "  ('a', 'b', 'start1'): [None],\n",
       "  ('a', 'b', 'start2'): [None],\n",
       "  ('a', 'g1', 'g2'): [True],\n",
       "  ('a', 'g1', 'start1'): [None],\n",
       "  ('a', 'g1', 'start2'): [None],\n",
       "  ('a', 'g2', 'start1'): [None],\n",
       "  ('a', 'g2', 'start2'): [None],\n",
       "  ('a', 'start1', 'start2'): [None],\n",
       "  ('b', 'g1', 'g2'): [True],\n",
       "  ('b', 'g1', 'start1'): [None],\n",
       "  ('b', 'g1', 'start2'): [None],\n",
       "  ('b', 'g2', 'start1'): [None],\n",
       "  ('b', 'g2', 'start2'): [None],\n",
       "  ('b', 'start1', 'start2'): [None],\n",
       "  ('g1', 'g2', 'start1'): [True],\n",
       "  ('g1', 'g2', 'start2'): [True],\n",
       "  ('g1', 'start1', 'start2'): [None],\n",
       "  ('g2', 'start1', 'start2'): [None],\n",
       "  ('a', 'b', 'g1', 'g2'): [True],\n",
       "  ('a', 'b', 'g1', 'start1'): [None],\n",
       "  ('a', 'b', 'g1', 'start2'): [None],\n",
       "  ('a', 'b', 'g2', 'start1'): [None],\n",
       "  ('a', 'b', 'g2', 'start2'): [None],\n",
       "  ('a', 'b', 'start1', 'start2'): [None],\n",
       "  ('a', 'g1', 'g2', 'start1'): [True],\n",
       "  ('a', 'g1', 'g2', 'start2'): [True],\n",
       "  ('a', 'g1', 'start1', 'start2'): [None],\n",
       "  ('a', 'g2', 'start1', 'start2'): [None],\n",
       "  ('b', 'g1', 'g2', 'start1'): [True],\n",
       "  ('b', 'g1', 'g2', 'start2'): [True],\n",
       "  ('b', 'g1', 'start1', 'start2'): [None],\n",
       "  ('b', 'g2', 'start1', 'start2'): [None],\n",
       "  ('g1', 'g2', 'start1', 'start2'): [True],\n",
       "  ('a', 'b', 'g1', 'g2', 'start1'): [True],\n",
       "  ('a', 'b', 'g1', 'g2', 'start2'): [True],\n",
       "  ('a', 'b', 'g1', 'start1', 'start2'): [None],\n",
       "  ('a', 'b', 'g2', 'start1', 'start2'): [None],\n",
       "  ('a', 'g1', 'g2', 'start1', 'start2'): [True],\n",
       "  ('b', 'g1', 'g2', 'start1', 'start2'): [True],\n",
       "  ('a', 'b', 'g1', 'g2', 'start1', 'start2'): [True]},\n",
       " {(): [None],\n",
       "  ('a',): [None],\n",
       "  ('b',): [None],\n",
       "  ('g1',): [None],\n",
       "  ('g2',): [True],\n",
       "  ('start1',): [None],\n",
       "  ('start2',): [None],\n",
       "  ('a', 'b'): [None],\n",
       "  ('a', 'g1'): [None],\n",
       "  ('a', 'g2'): [True],\n",
       "  ('a', 'start1'): [None],\n",
       "  ('a', 'start2'): [None],\n",
       "  ('b', 'g1'): [None],\n",
       "  ('b', 'g2'): [True],\n",
       "  ('b', 'start1'): [None],\n",
       "  ('b', 'start2'): [None],\n",
       "  ('g1', 'g2'): [True],\n",
       "  ('g1', 'start1'): [None],\n",
       "  ('g1', 'start2'): [None],\n",
       "  ('g2', 'start1'): [True],\n",
       "  ('g2', 'start2'): [True],\n",
       "  ('start1', 'start2'): [None],\n",
       "  ('a', 'b', 'g1'): [None],\n",
       "  ('a', 'b', 'g2'): [True],\n",
       "  ('a', 'b', 'start1'): [None],\n",
       "  ('a', 'b', 'start2'): [None],\n",
       "  ('a', 'g1', 'g2'): [True],\n",
       "  ('a', 'g1', 'start1'): [None],\n",
       "  ('a', 'g1', 'start2'): [None],\n",
       "  ('a', 'g2', 'start1'): [True],\n",
       "  ('a', 'g2', 'start2'): [True],\n",
       "  ('a', 'start1', 'start2'): [None],\n",
       "  ('b', 'g1', 'g2'): [True],\n",
       "  ('b', 'g1', 'start1'): [None],\n",
       "  ('b', 'g1', 'start2'): [None],\n",
       "  ('b', 'g2', 'start1'): [True],\n",
       "  ('b', 'g2', 'start2'): [True],\n",
       "  ('b', 'start1', 'start2'): [None],\n",
       "  ('g1', 'g2', 'start1'): [True],\n",
       "  ('g1', 'g2', 'start2'): [True],\n",
       "  ('g1', 'start1', 'start2'): [None],\n",
       "  ('g2', 'start1', 'start2'): [True],\n",
       "  ('a', 'b', 'g1', 'g2'): [True],\n",
       "  ('a', 'b', 'g1', 'start1'): [None],\n",
       "  ('a', 'b', 'g1', 'start2'): [None],\n",
       "  ('a', 'b', 'g2', 'start1'): [True],\n",
       "  ('a', 'b', 'g2', 'start2'): [True],\n",
       "  ('a', 'b', 'start1', 'start2'): [None],\n",
       "  ('a', 'g1', 'g2', 'start1'): [True],\n",
       "  ('a', 'g1', 'g2', 'start2'): [True],\n",
       "  ('a', 'g1', 'start1', 'start2'): [None],\n",
       "  ('a', 'g2', 'start1', 'start2'): [True],\n",
       "  ('b', 'g1', 'g2', 'start1'): [True],\n",
       "  ('b', 'g1', 'g2', 'start2'): [True],\n",
       "  ('b', 'g1', 'start1', 'start2'): [None],\n",
       "  ('b', 'g2', 'start1', 'start2'): [True],\n",
       "  ('g1', 'g2', 'start1', 'start2'): [True],\n",
       "  ('a', 'b', 'g1', 'g2', 'start1'): [True],\n",
       "  ('a', 'b', 'g1', 'g2', 'start2'): [True],\n",
       "  ('a', 'b', 'g1', 'start1', 'start2'): [None],\n",
       "  ('a', 'b', 'g2', 'start1', 'start2'): [True],\n",
       "  ('a', 'g1', 'g2', 'start1', 'start2'): [True],\n",
       "  ('b', 'g1', 'g2', 'start1', 'start2'): [True],\n",
       "  ('a', 'b', 'g1', 'g2', 'start1', 'start2'): [True]},\n",
       " {(): [None],\n",
       "  ('a',): [None],\n",
       "  ('b',): [None],\n",
       "  ('g1',): [True],\n",
       "  ('g2',): [None],\n",
       "  ('start1',): [None],\n",
       "  ('start2',): [None],\n",
       "  ('a', 'b'): [None],\n",
       "  ('a', 'g1'): [True],\n",
       "  ('a', 'g2'): [None],\n",
       "  ('a', 'start1'): [None],\n",
       "  ('a', 'start2'): [None],\n",
       "  ('b', 'g1'): [True],\n",
       "  ('b', 'g2'): [None],\n",
       "  ('b', 'start1'): [None],\n",
       "  ('b', 'start2'): [None],\n",
       "  ('g1', 'g2'): [True],\n",
       "  ('g1', 'start1'): [True],\n",
       "  ('g1', 'start2'): [True],\n",
       "  ('g2', 'start1'): [None],\n",
       "  ('g2', 'start2'): [None],\n",
       "  ('start1', 'start2'): [None],\n",
       "  ('a', 'b', 'g1'): [True],\n",
       "  ('a', 'b', 'g2'): [None],\n",
       "  ('a', 'b', 'start1'): [None],\n",
       "  ('a', 'b', 'start2'): [None],\n",
       "  ('a', 'g1', 'g2'): [True],\n",
       "  ('a', 'g1', 'start1'): [True],\n",
       "  ('a', 'g1', 'start2'): [True],\n",
       "  ('a', 'g2', 'start1'): [None],\n",
       "  ('a', 'g2', 'start2'): [None],\n",
       "  ('a', 'start1', 'start2'): [None],\n",
       "  ('b', 'g1', 'g2'): [True],\n",
       "  ('b', 'g1', 'start1'): [True],\n",
       "  ('b', 'g1', 'start2'): [True],\n",
       "  ('b', 'g2', 'start1'): [None],\n",
       "  ('b', 'g2', 'start2'): [None],\n",
       "  ('b', 'start1', 'start2'): [None],\n",
       "  ('g1', 'g2', 'start1'): [True],\n",
       "  ('g1', 'g2', 'start2'): [True],\n",
       "  ('g1', 'start1', 'start2'): [True],\n",
       "  ('g2', 'start1', 'start2'): [None],\n",
       "  ('a', 'b', 'g1', 'g2'): [True],\n",
       "  ('a', 'b', 'g1', 'start1'): [True],\n",
       "  ('a', 'b', 'g1', 'start2'): [True],\n",
       "  ('a', 'b', 'g2', 'start1'): [None],\n",
       "  ('a', 'b', 'g2', 'start2'): [None],\n",
       "  ('a', 'b', 'start1', 'start2'): [None],\n",
       "  ('a', 'g1', 'g2', 'start1'): [True],\n",
       "  ('a', 'g1', 'g2', 'start2'): [True],\n",
       "  ('a', 'g1', 'start1', 'start2'): [True],\n",
       "  ('a', 'g2', 'start1', 'start2'): [None],\n",
       "  ('b', 'g1', 'g2', 'start1'): [True],\n",
       "  ('b', 'g1', 'g2', 'start2'): [True],\n",
       "  ('b', 'g1', 'start1', 'start2'): [True],\n",
       "  ('b', 'g2', 'start1', 'start2'): [None],\n",
       "  ('g1', 'g2', 'start1', 'start2'): [True],\n",
       "  ('a', 'b', 'g1', 'g2', 'start1'): [True],\n",
       "  ('a', 'b', 'g1', 'g2', 'start2'): [True],\n",
       "  ('a', 'b', 'g1', 'start1', 'start2'): [True],\n",
       "  ('a', 'b', 'g2', 'start1', 'start2'): [None],\n",
       "  ('a', 'g1', 'g2', 'start1', 'start2'): [True],\n",
       "  ('b', 'g1', 'g2', 'start1', 'start2'): [True],\n",
       "  ('a', 'b', 'g1', 'g2', 'start1', 'start2'): [True]},\n",
       " {(): [True],\n",
       "  ('a',): [True],\n",
       "  ('b',): [True],\n",
       "  ('g1',): [True],\n",
       "  ('g2',): [True],\n",
       "  ('start1',): [True],\n",
       "  ('start2',): [True],\n",
       "  ('a', 'b'): [True],\n",
       "  ('a', 'g1'): [True],\n",
       "  ('a', 'g2'): [True],\n",
       "  ('a', 'start1'): [True],\n",
       "  ('a', 'start2'): [True],\n",
       "  ('b', 'g1'): [True],\n",
       "  ('b', 'g2'): [True],\n",
       "  ('b', 'start1'): [True],\n",
       "  ('b', 'start2'): [True],\n",
       "  ('g1', 'g2'): [True],\n",
       "  ('g1', 'start1'): [True],\n",
       "  ('g1', 'start2'): [True],\n",
       "  ('g2', 'start1'): [True],\n",
       "  ('g2', 'start2'): [True],\n",
       "  ('start1', 'start2'): [True],\n",
       "  ('a', 'b', 'g1'): [True],\n",
       "  ('a', 'b', 'g2'): [True],\n",
       "  ('a', 'b', 'start1'): [True],\n",
       "  ('a', 'b', 'start2'): [True],\n",
       "  ('a', 'g1', 'g2'): [True],\n",
       "  ('a', 'g1', 'start1'): [True],\n",
       "  ('a', 'g1', 'start2'): [True],\n",
       "  ('a', 'g2', 'start1'): [True],\n",
       "  ('a', 'g2', 'start2'): [True],\n",
       "  ('a', 'start1', 'start2'): [True],\n",
       "  ('b', 'g1', 'g2'): [True],\n",
       "  ('b', 'g1', 'start1'): [True],\n",
       "  ('b', 'g1', 'start2'): [True],\n",
       "  ('b', 'g2', 'start1'): [True],\n",
       "  ('b', 'g2', 'start2'): [True],\n",
       "  ('b', 'start1', 'start2'): [True],\n",
       "  ('g1', 'g2', 'start1'): [True],\n",
       "  ('g1', 'g2', 'start2'): [True],\n",
       "  ('g1', 'start1', 'start2'): [True],\n",
       "  ('g2', 'start1', 'start2'): [True],\n",
       "  ('a', 'b', 'g1', 'g2'): [True],\n",
       "  ('a', 'b', 'g1', 'start1'): [True],\n",
       "  ('a', 'b', 'g1', 'start2'): [True],\n",
       "  ('a', 'b', 'g2', 'start1'): [True],\n",
       "  ('a', 'b', 'g2', 'start2'): [True],\n",
       "  ('a', 'b', 'start1', 'start2'): [True],\n",
       "  ('a', 'g1', 'g2', 'start1'): [True],\n",
       "  ('a', 'g1', 'g2', 'start2'): [True],\n",
       "  ('a', 'g1', 'start1', 'start2'): [True],\n",
       "  ('a', 'g2', 'start1', 'start2'): [True],\n",
       "  ('b', 'g1', 'g2', 'start1'): [True],\n",
       "  ('b', 'g1', 'g2', 'start2'): [True],\n",
       "  ('b', 'g1', 'start1', 'start2'): [True],\n",
       "  ('b', 'g2', 'start1', 'start2'): [True],\n",
       "  ('g1', 'g2', 'start1', 'start2'): [True],\n",
       "  ('a', 'b', 'g1', 'g2', 'start1'): [True],\n",
       "  ('a', 'b', 'g1', 'g2', 'start2'): [True],\n",
       "  ('a', 'b', 'g1', 'start1', 'start2'): [True],\n",
       "  ('a', 'b', 'g2', 'start1', 'start2'): [True],\n",
       "  ('a', 'g1', 'g2', 'start1', 'start2'): [True],\n",
       "  ('b', 'g1', 'g2', 'start1', 'start2'): [True],\n",
       "  ('a', 'b', 'g1', 'g2', 'start1', 'start2'): [True]},\n",
       " {(): [None],\n",
       "  ('a',): [None],\n",
       "  ('b',): [None],\n",
       "  ('g1',): [None],\n",
       "  ('g2',): [None],\n",
       "  ('start1',): [None],\n",
       "  ('start2',): [None],\n",
       "  ('a', 'b'): [None],\n",
       "  ('a', 'g1'): [None],\n",
       "  ('a', 'g2'): [None],\n",
       "  ('a', 'start1'): [None],\n",
       "  ('a', 'start2'): [None],\n",
       "  ('b', 'g1'): [None],\n",
       "  ('b', 'g2'): [None],\n",
       "  ('b', 'start1'): [None],\n",
       "  ('b', 'start2'): [None],\n",
       "  ('g1', 'g2'): [None],\n",
       "  ('g1', 'start1'): [None],\n",
       "  ('g1', 'start2'): [None],\n",
       "  ('g2', 'start1'): [None],\n",
       "  ('g2', 'start2'): [None],\n",
       "  ('start1', 'start2'): [None],\n",
       "  ('a', 'b', 'g1'): [None],\n",
       "  ('a', 'b', 'g2'): [None],\n",
       "  ('a', 'b', 'start1'): [None],\n",
       "  ('a', 'b', 'start2'): [None],\n",
       "  ('a', 'g1', 'g2'): [None],\n",
       "  ('a', 'g1', 'start1'): [None],\n",
       "  ('a', 'g1', 'start2'): [None],\n",
       "  ('a', 'g2', 'start1'): [None],\n",
       "  ('a', 'g2', 'start2'): [None],\n",
       "  ('a', 'start1', 'start2'): [None],\n",
       "  ('b', 'g1', 'g2'): [None],\n",
       "  ('b', 'g1', 'start1'): [None],\n",
       "  ('b', 'g1', 'start2'): [None],\n",
       "  ('b', 'g2', 'start1'): [None],\n",
       "  ('b', 'g2', 'start2'): [None],\n",
       "  ('b', 'start1', 'start2'): [None],\n",
       "  ('g1', 'g2', 'start1'): [None],\n",
       "  ('g1', 'g2', 'start2'): [None],\n",
       "  ('g1', 'start1', 'start2'): [None],\n",
       "  ('g2', 'start1', 'start2'): [None],\n",
       "  ('a', 'b', 'g1', 'g2'): [None],\n",
       "  ('a', 'b', 'g1', 'start1'): [None],\n",
       "  ('a', 'b', 'g1', 'start2'): [None],\n",
       "  ('a', 'b', 'g2', 'start1'): [None],\n",
       "  ('a', 'b', 'g2', 'start2'): [None],\n",
       "  ('a', 'b', 'start1', 'start2'): [None],\n",
       "  ('a', 'g1', 'g2', 'start1'): [None],\n",
       "  ('a', 'g1', 'g2', 'start2'): [None],\n",
       "  ('a', 'g1', 'start1', 'start2'): [None],\n",
       "  ('a', 'g2', 'start1', 'start2'): [None],\n",
       "  ('b', 'g1', 'g2', 'start1'): [None],\n",
       "  ('b', 'g1', 'g2', 'start2'): [None],\n",
       "  ('b', 'g1', 'start1', 'start2'): [None],\n",
       "  ('b', 'g2', 'start1', 'start2'): [None],\n",
       "  ('g1', 'g2', 'start1', 'start2'): [None],\n",
       "  ('a', 'b', 'g1', 'g2', 'start1'): [None],\n",
       "  ('a', 'b', 'g1', 'g2', 'start2'): [None],\n",
       "  ('a', 'b', 'g1', 'start1', 'start2'): [None],\n",
       "  ('a', 'b', 'g2', 'start1', 'start2'): [None],\n",
       "  ('a', 'g1', 'g2', 'start1', 'start2'): [None],\n",
       "  ('b', 'g1', 'g2', 'start1', 'start2'): [None],\n",
       "  ('a', 'b', 'g1', 'g2', 'start1', 'start2'): [None]}]"
      ]
     },
     "execution_count": 33,
     "metadata": {},
     "output_type": "execute_result"
    }
   ],
   "source": [
    "oa1.acc"
   ]
  },
  {
   "cell_type": "code",
   "execution_count": 89,
   "id": "b60aee9e-8a11-49f8-8a40-84eb0da122d5",
   "metadata": {
    "collapsed": true,
    "jupyter": {
     "outputs_hidden": true
    },
    "tags": []
   },
   "outputs": [
    {
     "data": {
      "text/plain": [
       "array([[list([0, 1, 2, 3, 6]), list([0, 1, 2, 3, 6]),\n",
       "        list([0, 1, 2, 3, 6]), list([0, 1, 2, 3, 6])],\n",
       "       [list([0, 1, 2, 3, 6]), list([0, 1, 2, 3, 6]),\n",
       "        list([0, 1, 2, 3, 6]), list([0, 1, 2, 3, 6])],\n",
       "       [list([0, 1, 2, 3, 6]), list([0, 1, 2, 3, 6]),\n",
       "        list([0, 1, 2, 3, 6]), list([0, 1, 2, 3, 6])],\n",
       "       [list([0, 1, 2, 3, 6]), list([0, 1, 2, 3, 6]),\n",
       "        list([0, 1, 2, 3, 6]), list([0, 1, 2, 3, 6])]], dtype=object)"
      ]
     },
     "execution_count": 89,
     "metadata": {},
     "output_type": "execute_result"
    }
   ],
   "source": [
    "csrl1.A[0][1]"
   ]
  },
  {
   "cell_type": "markdown",
   "id": "49ad18f9-74ac-4b87-a102-b5fe8c8970f6",
   "metadata": {
    "tags": []
   },
   "source": [
    "# Baseline code"
   ]
  },
  {
   "cell_type": "code",
   "execution_count": 60,
   "id": "3e249617-9c99-48b1-b079-72c77f88b5bb",
   "metadata": {
    "tags": []
   },
   "outputs": [
    {
     "name": "stdout",
     "output_type": "stream",
     "text": [
      "(2, 4, 8, 4)\n",
      "(2, 4, 8, 4)\n"
     ]
    }
   ],
   "source": [
    "qval_base, ep_returns_base = mcsrl.combined_qlearning_noshaping(T=200, K=150000)"
   ]
  },
  {
   "cell_type": "code",
   "execution_count": 30,
   "id": "f0f8b64d-2762-433d-96eb-91742bd09358",
   "metadata": {},
   "outputs": [],
   "source": [
    "policies_b = [np.argmax(qval_base[0],axis=2), np.argmax(qval_base[1],axis=2)]\n",
    "values_b = [np.max(qval_base[0],axis=2), np.max(qval_base[1],axis=2)]"
   ]
  },
  {
   "cell_type": "code",
   "execution_count": 31,
   "id": "d5909b1b-90ab-404e-8f39-5bb0066a39a2",
   "metadata": {},
   "outputs": [],
   "source": [
    "import matplotlib.pyplot as plt\n",
    "from scipy.signal import savgol_filter"
   ]
  },
  {
   "cell_type": "code",
   "execution_count": 32,
   "id": "eff8e1b9-2b88-43e2-b0f2-1e0e215044e6",
   "metadata": {},
   "outputs": [
    {
     "data": {
      "text/plain": [
       "array([ 2., 10., 10., ..., 12., 12., 10.])"
      ]
     },
     "execution_count": 32,
     "metadata": {},
     "output_type": "execute_result"
    }
   ],
   "source": [
    "ep_returns_base[:,0]"
   ]
  },
  {
   "cell_type": "markdown",
   "id": "5a1c439c-881f-41b2-8ee5-4e2ab3e005da",
   "metadata": {},
   "source": [
    "## smooth output"
   ]
  },
  {
   "cell_type": "code",
   "execution_count": 33,
   "id": "81fd97c6-1293-4b21-ab6d-14e3a0d7f161",
   "metadata": {
    "tags": []
   },
   "outputs": [
    {
     "data": {
      "image/png": "[encoded data removed]",
      "text/plain": [
       "<Figure size 1008x720 with 1 Axes>"
      ]
     },
     "metadata": {
      "needs_background": "light"
     },
     "output_type": "display_data"
    }
   ],
   "source": [
    "plt.figure(figsize=(14, 10))\n",
    "plt.plot( ep_returns_base[:,0], color='c', label='agent 0', alpha=0.2)\n",
    "yhat = savgol_filter(ep_returns_base[:,0], 101, 3) # window size 101, polynomial order 3\n",
    "yhat2 = savgol_filter(ep_returns_base[:,1], 101, 3)\n",
    "plt.plot(yhat, color='b', label='smooth')\n",
    "plt.plot(yhat2, color='r', label='smooth')\n",
    "# plt.plot(yhat2, color='g', label='smooth2')\n",
    "# plt.plot(np.arange(0, ep_returns.shape[0]), ep_returns[:,1], color='g',  label='agent 1')\n",
    "\n",
    "# Naming the x-axis, y-axis and the whole graph\n",
    "plt.xlabel(\"Episodes\")\n",
    "plt.ylabel(\"Acc Return\")\n",
    "plt.title(\"return per episode baseline\")\n",
    "\n",
    "np.savetxt('shared_oa_ex3_returns_base.csv', ep_returns_base, delimiter=',')"
   ]
  },
  {
   "cell_type": "code",
   "execution_count": 47,
   "id": "ff48f8c8-7368-4c24-b44e-f78d1eb114e6",
   "metadata": {},
   "outputs": [
    {
     "data": {
      "text/plain": [
       "array([[1, 1, 0, 1, 2, 2, 3, 0],\n",
       "       [3, 0, 0, 2, 1, 0, 0, 1],\n",
       "       [1, 2, 2, 2, 3, 1, 3, 2],\n",
       "       [2, 2, 1, 1, 1, 2, 2, 2]])"
      ]
     },
     "execution_count": 47,
     "metadata": {},
     "output_type": "execute_result"
    }
   ],
   "source": [
    "policies_b[0]"
   ]
  },
  {
   "cell_type": "code",
   "execution_count": 53,
   "id": "2639da78-8535-4755-ba8b-f707bf081306",
   "metadata": {
    "collapsed": true,
    "jupyter": {
     "outputs_hidden": true
    },
    "tags": []
   },
   "outputs": [
    {
     "name": "stdout",
     "output_type": "stream",
     "text": [
      "30\n",
      "e [[(0, 1), (2, 6)]]\n",
      "0 :  (1,) \t (6,)\n",
      "1 :  (1,) \t (6,)\n",
      "2 :  (1,) \t (6,)\n",
      "3 :  (1,) \t (6,)\n",
      "4 :  (0,) \t (6,)\n",
      "5 :  (0,) \t (7,)\n",
      "6 :  (0,) \t (6,)\n",
      "7 :  (0,) \t (6,)\n",
      "8 :  (0,) \t (6,)\n",
      "9 :  (0,) \t (6,)\n",
      "10 :  (0,) \t (6,)\n",
      "11 :  (0,) \t (6,)\n",
      "12 :  (0,) \t (6,)\n",
      "13 :  (0,) \t (6,)\n",
      "14 :  (0,) \t (6,)\n",
      "15 :  (0,) \t (6,)\n",
      "16 :  (0,) \t (6,)\n",
      "17 :  (0,) \t (6,)\n",
      "18 :  (0,) \t (6,)\n",
      "19 :  (0,) \t (7,)\n",
      "20 :  (0,) \t (6,)\n",
      "21 :  (0,) \t (6,)\n",
      "22 :  (1,) \t (6,)\n",
      "23 :  (2,) \t (6,)\n",
      "24 :  (2,) \t (6,)\n",
      "25 :  (3,) \t (6,)\n",
      "26 :  (3,) \t (6,)\n",
      "27 :  (3,) \t (5,)\n",
      "28 :  (3,) \t (5,)\n",
      "29 :  (3,) \t (5,)\n"
     ]
    }
   ],
   "source": [
    "ep_base = mcsrl.simulate(agents = mcsrl.agent_control, policy =policies_b, T= 30, mdp2 =grid_mdp, qlearning=False,animation=\"sharedoa3_base\")"
   ]
  },
  {
   "cell_type": "markdown",
   "id": "b8cd636b-e850-4bee-9d2c-6d5abe3d306e",
   "metadata": {
    "tags": []
   },
   "source": [
    "# not shared state -> shared oa -> works but high number of episodes required. -> episodes > 30k "
   ]
  },
  {
   "cell_type": "code",
   "execution_count": 34,
   "id": "348f775c-1f29-4e3f-85e3-9fa9bf923a6a",
   "metadata": {},
   "outputs": [],
   "source": [
    "qval, ep_returns = mcsrl.combined_qlearning(T=200, K=70000)"
   ]
  },
  {
   "cell_type": "code",
   "execution_count": 35,
   "id": "9b478688-e7ce-4755-b376-0f256f052fb6",
   "metadata": {},
   "outputs": [],
   "source": [
    "policies = [np.argmax(qval[0],axis=4), np.argmax(qval[1],axis=4)]\n",
    "values = [np.max(qval[0],axis=4), np.max(qval[1],axis=4)]"
   ]
  },
  {
   "cell_type": "code",
   "execution_count": 36,
   "id": "1a0b6e40-ebda-4a50-b360-8d200e6da50d",
   "metadata": {},
   "outputs": [
    {
     "data": {
      "image/png": "[encoded data removed]",
      "text/plain": [
       "<Figure size 720x720 with 1 Axes>"
      ]
     },
     "metadata": {
      "needs_background": "light"
     },
     "output_type": "display_data"
    }
   ],
   "source": [
    "grid_mdp.plot()"
   ]
  },
  {
   "cell_type": "code",
   "execution_count": 24,
   "id": "13dda702-953e-4b6d-b023-b49c516dbcc8",
   "metadata": {},
   "outputs": [
    {
     "data": {
      "text/html": [
       "<div><?xml version=\"1.0\" encoding=\"UTF-8\" standalone=\"no\"?>\n",
       "<!DOCTYPE svg PUBLIC \"-//W3C//DTD SVG 1.1//EN\"\n",
       " \"http://www.w3.org/Graphics/SVG/1.1/DTD/svg11.dtd\">\n",
       "<!-- Generated by graphviz version 2.40.1 (20161225.0304)\n",
       " -->\n",
       "<!-- Pages: 1 -->\n",
       "<svg width=\"722pt\" height=\"360pt\"\n",
       " viewBox=\"0.00 0.00 722.31 360.00\" xmlns=\"http://www.w3.org/2000/svg\" xmlns:xlink=\"http://www.w3.org/1999/xlink\">\n",
       "<g id=\"graph0\" class=\"graph\" transform=\"scale(0.9554 0.9554) rotate(0) translate(4 372.7936)\">\n",
       "<polygon fill=\"#ffffff\" stroke=\"transparent\" points=\"-4,4 -4,-372.7936 752,-372.7936 752,4 -4,4\"/>\n",
       "<text text-anchor=\"start\" x=\"353\" y=\"-354.5936\" font-family=\"Lato\" font-size=\"14.00\" fill=\"#000000\">Inf(</text>\n",
       "<text text-anchor=\"start\" x=\"375\" y=\"-354.5936\" font-family=\"Lato\" font-size=\"14.00\" fill=\"#1f78b4\">⓿</text>\n",
       "<text text-anchor=\"start\" x=\"391\" y=\"-354.5936\" font-family=\"Lato\" font-size=\"14.00\" fill=\"#000000\">)</text>\n",
       "<text text-anchor=\"start\" x=\"351\" y=\"-340.5936\" font-family=\"Lato\" font-size=\"14.00\" fill=\"#000000\">[Büchi]</text>\n",
       "<!-- I -->\n",
       "<!-- 0 -->\n",
       "<g id=\"node2\" class=\"node\">\n",
       "<title>0</title>\n",
       "<ellipse fill=\"#ffffaa\" stroke=\"#000000\" cx=\"56\" cy=\"-213.7936\" rx=\"18\" ry=\"18\"/>\n",
       "<text text-anchor=\"middle\" x=\"56\" y=\"-210.0936\" font-family=\"Lato\" font-size=\"14.00\" fill=\"#000000\">0</text>\n",
       "</g>\n",
       "<!-- I&#45;&gt;0 -->\n",
       "<g id=\"edge1\" class=\"edge\">\n",
       "<title>I&#45;&gt;0</title>\n",
       "<path fill=\"none\" stroke=\"#000000\" d=\"M1.1233,-213.7936C4.178,-213.7936 17.9448,-213.7936 30.9241,-213.7936\"/>\n",
       "<polygon fill=\"#000000\" stroke=\"#000000\" points=\"37.9807,-213.7936 30.9808,-216.9437 34.4807,-213.7937 30.9807,-213.7937 30.9807,-213.7937 30.9807,-213.7937 34.4807,-213.7937 30.9807,-210.6437 37.9807,-213.7936 37.9807,-213.7936\"/>\n",
       "</g>\n",
       "<!-- 0&#45;&gt;0 -->\n",
       "<g id=\"edge2\" class=\"edge\">\n",
       "<title>0&#45;&gt;0</title>\n",
       "<path fill=\"none\" stroke=\"#000000\" d=\"M49.6208,-230.831C48.3189,-240.6516 50.4453,-249.7936 56,-249.7936 60.166,-249.7936 62.4036,-244.6512 62.7128,-237.9369\"/>\n",
       "<polygon fill=\"#000000\" stroke=\"#000000\" points=\"62.3792,-230.831 65.8541,-237.6755 62.5434,-234.3271 62.7076,-237.8233 62.7076,-237.8233 62.7076,-237.8233 62.5434,-234.3271 59.561,-237.971 62.3792,-230.831 62.3792,-230.831\"/>\n",
       "<text text-anchor=\"start\" x=\"50.5\" y=\"-253.5936\" font-family=\"Lato\" font-size=\"14.00\" fill=\"#000000\">!a</text>\n",
       "</g>\n",
       "<!-- 1 -->\n",
       "<g id=\"node3\" class=\"node\">\n",
       "<title>1</title>\n",
       "<ellipse fill=\"#ffffaa\" stroke=\"#000000\" cx=\"201.5\" cy=\"-126.7936\" rx=\"18\" ry=\"18\"/>\n",
       "<text text-anchor=\"middle\" x=\"201.5\" y=\"-123.0936\" font-family=\"Lato\" font-size=\"14.00\" fill=\"#000000\">1</text>\n",
       "</g>\n",
       "<!-- 0&#45;&gt;1 -->\n",
       "<g id=\"edge3\" class=\"edge\">\n",
       "<title>0&#45;&gt;1</title>\n",
       "<path fill=\"none\" stroke=\"#000000\" d=\"M69.549,-201.8564C76.1057,-196.3505 84.2261,-189.9159 92,-184.7936 120.4891,-166.0219 155.7047,-148.2488 178.3787,-137.4415\"/>\n",
       "<polygon fill=\"#000000\" stroke=\"#000000\" points=\"184.9915,-134.3177 180.0077,-140.1559 181.8269,-135.8127 178.6622,-137.3076 178.6622,-137.3076 178.6622,-137.3076 181.8269,-135.8127 177.3167,-134.4594 184.9915,-134.3177 184.9915,-134.3177\"/>\n",
       "<text text-anchor=\"start\" x=\"92\" y=\"-188.5936\" font-family=\"Lato\" font-size=\"14.00\" fill=\"#000000\">a &amp; !b</text>\n",
       "</g>\n",
       "<!-- 2 -->\n",
       "<g id=\"node4\" class=\"node\">\n",
       "<title>2</title>\n",
       "<ellipse fill=\"#ffffaa\" stroke=\"#000000\" cx=\"447.5\" cy=\"-126.7936\" rx=\"18\" ry=\"18\"/>\n",
       "<text text-anchor=\"middle\" x=\"447.5\" y=\"-123.0936\" font-family=\"Lato\" font-size=\"14.00\" fill=\"#000000\">2</text>\n",
       "</g>\n",
       "<!-- 0&#45;&gt;2 -->\n",
       "<g id=\"edge4\" class=\"edge\">\n",
       "<title>0&#45;&gt;2</title>\n",
       "<path fill=\"none\" stroke=\"#000000\" d=\"M74.1083,-212.3842C109.4213,-209.4084 189.821,-201.5167 256,-186.7936 317.694,-173.0684 388.1128,-148.6667 423.9122,-135.6116\"/>\n",
       "<polygon fill=\"#000000\" stroke=\"#000000\" points=\"430.5977,-133.1584 425.1113,-138.527 427.3119,-134.3641 424.0262,-135.5698 424.0262,-135.5698 424.0262,-135.5698 427.3119,-134.3641 422.941,-132.6126 430.5977,-133.1584 430.5977,-133.1584\"/>\n",
       "<text text-anchor=\"start\" x=\"147\" y=\"-207.5936\" font-family=\"Lato\" font-size=\"14.00\" fill=\"#000000\">a &amp; b &amp; !g1 &amp; !g2</text>\n",
       "</g>\n",
       "<!-- 3 -->\n",
       "<g id=\"node5\" class=\"node\">\n",
       "<title>3</title>\n",
       "<ellipse fill=\"#ffffaa\" stroke=\"#000000\" cx=\"635\" cy=\"-68.7936\" rx=\"18\" ry=\"18\"/>\n",
       "<text text-anchor=\"middle\" x=\"635\" y=\"-65.0936\" font-family=\"Lato\" font-size=\"14.00\" fill=\"#000000\">3</text>\n",
       "</g>\n",
       "<!-- 0&#45;&gt;3 -->\n",
       "<g id=\"edge5\" class=\"edge\">\n",
       "<title>0&#45;&gt;3</title>\n",
       "<path fill=\"none\" stroke=\"#000000\" d=\"M65.4039,-197.8942C72.2995,-186.6371 82.1419,-171.3668 92,-158.7936 152.8597,-81.1722 178.329,-55.7944 274,-31.7936 411.0854,2.5967 459.4925,17.3681 592,-31.7936 601.8596,-35.4517 610.9754,-42.4955 618.2525,-49.4641\"/>\n",
       "<polygon fill=\"#000000\" stroke=\"#000000\" points=\"623.4407,-54.7211 616.2816,-51.9516 620.9822,-52.23 618.5236,-49.7389 618.5236,-49.7389 618.5236,-49.7389 620.9822,-52.23 620.7656,-47.5262 623.4407,-54.7211 623.4407,-54.7211\"/>\n",
       "<text text-anchor=\"start\" x=\"274\" y=\"-35.5936\" font-family=\"Lato\" font-size=\"14.00\" fill=\"#000000\">a &amp; b &amp; g1 &amp; !g2</text>\n",
       "</g>\n",
       "<!-- 4 -->\n",
       "<g id=\"node6\" class=\"node\">\n",
       "<title>4</title>\n",
       "<ellipse fill=\"#ffffaa\" stroke=\"#000000\" cx=\"635\" cy=\"-221.7936\" rx=\"18\" ry=\"18\"/>\n",
       "<text text-anchor=\"middle\" x=\"635\" y=\"-218.0936\" font-family=\"Lato\" font-size=\"14.00\" fill=\"#000000\">4</text>\n",
       "</g>\n",
       "<!-- 0&#45;&gt;4 -->\n",
       "<g id=\"edge6\" class=\"edge\">\n",
       "<title>0&#45;&gt;4</title>\n",
       "<path fill=\"none\" stroke=\"#000000\" d=\"M73.4203,-219.0265C79.2691,-220.5473 85.8653,-222.009 92,-222.7936 278.9302,-246.7014 327.5493,-225.9047 516,-226.7936 549.7774,-226.953 558.2788,-228.7476 592,-226.7936 597.8031,-226.4574 604.0247,-225.8679 609.8822,-225.2089\"/>\n",
       "<polygon fill=\"#000000\" stroke=\"#000000\" points=\"617.048,-224.3509 610.4722,-228.3109 613.5729,-224.767 610.0977,-225.1832 610.0977,-225.1832 610.0977,-225.1832 613.5729,-224.767 609.7231,-222.0556 617.048,-224.3509 617.048,-224.3509\"/>\n",
       "<text text-anchor=\"start\" x=\"274\" y=\"-237.5936\" font-family=\"Lato\" font-size=\"14.00\" fill=\"#000000\">a &amp; b &amp; !g1 &amp; g2</text>\n",
       "</g>\n",
       "<!-- 5 -->\n",
       "<g id=\"node7\" class=\"node\">\n",
       "<title>5</title>\n",
       "<ellipse fill=\"#ffffaa\" stroke=\"#000000\" cx=\"730\" cy=\"-155.7936\" rx=\"18\" ry=\"18\"/>\n",
       "<text text-anchor=\"middle\" x=\"730\" y=\"-152.0936\" font-family=\"Lato\" font-size=\"14.00\" fill=\"#000000\">5</text>\n",
       "</g>\n",
       "<!-- 0&#45;&gt;5 -->\n",
       "<g id=\"edge7\" class=\"edge\">\n",
       "<title>0&#45;&gt;5</title>\n",
       "<path fill=\"none\" stroke=\"#000000\" d=\"M68.0743,-227.6999C91.2293,-252.7311 144.6461,-302.7936 201.5,-302.7936 201.5,-302.7936 201.5,-302.7936 635,-302.7936 692.4493,-302.7936 716.8579,-222.6169 725.6947,-180.6886\"/>\n",
       "<polygon fill=\"#000000\" stroke=\"#000000\" points=\"727.0754,-173.8187 728.7843,-181.3022 726.3857,-177.2501 725.696,-180.6815 725.696,-180.6815 725.696,-180.6815 726.3857,-177.2501 722.6078,-180.0608 727.0754,-173.8187 727.0754,-173.8187\"/>\n",
       "<text text-anchor=\"start\" x=\"397\" y=\"-321.5936\" font-family=\"Lato\" font-size=\"14.00\" fill=\"#000000\">a &amp; b &amp; g1 &amp; g2</text>\n",
       "<text text-anchor=\"start\" x=\"439.5\" y=\"-306.5936\" font-family=\"Lato\" font-size=\"14.00\" fill=\"#1f78b4\">⓿</text>\n",
       "</g>\n",
       "<!-- 1&#45;&gt;1 -->\n",
       "<g id=\"edge8\" class=\"edge\">\n",
       "<title>1&#45;&gt;1</title>\n",
       "<path fill=\"none\" stroke=\"#000000\" d=\"M187.855,-138.9654C180.7798,-150.3952 185.3281,-162.7936 201.5,-162.7936 214.6396,-162.7936 220.1059,-154.6087 217.8989,-145.4087\"/>\n",
       "<polygon fill=\"#000000\" stroke=\"#000000\" points=\"215.145,-138.9654 220.7927,-144.1641 216.5206,-142.1838 217.8961,-145.4021 217.8961,-145.4021 217.8961,-145.4021 216.5206,-142.1838 214.9996,-146.6402 215.145,-138.9654 215.145,-138.9654\"/>\n",
       "<text text-anchor=\"start\" x=\"195\" y=\"-166.5936\" font-family=\"Lato\" font-size=\"14.00\" fill=\"#000000\">!b</text>\n",
       "</g>\n",
       "<!-- 1&#45;&gt;2 -->\n",
       "<g id=\"edge9\" class=\"edge\">\n",
       "<title>1&#45;&gt;2</title>\n",
       "<path fill=\"none\" stroke=\"#000000\" d=\"M219.589,-126.7936C262.8606,-126.7936 372.4381,-126.7936 422.2094,-126.7936\"/>\n",
       "<polygon fill=\"#000000\" stroke=\"#000000\" points=\"429.3845,-126.7936 422.3846,-129.9437 425.8845,-126.7937 422.3845,-126.7937 422.3845,-126.7937 422.3845,-126.7937 425.8845,-126.7937 422.3845,-123.6437 429.3845,-126.7936 429.3845,-126.7936\"/>\n",
       "<text text-anchor=\"start\" x=\"284.5\" y=\"-130.5936\" font-family=\"Lato\" font-size=\"14.00\" fill=\"#000000\">b &amp; !g1 &amp; !g2</text>\n",
       "</g>\n",
       "<!-- 1&#45;&gt;3 -->\n",
       "<g id=\"edge10\" class=\"edge\">\n",
       "<title>1&#45;&gt;3</title>\n",
       "<path fill=\"none\" stroke=\"#000000\" d=\"M219.1372,-122.1058C253.2256,-113.2466 330.649,-94.1014 397,-84.7936 474.149,-73.9711 566.4298,-70.4144 609.9449,-69.2891\"/>\n",
       "<polygon fill=\"#000000\" stroke=\"#000000\" points=\"616.9951,-69.1173 610.074,-72.437 613.4961,-69.2027 609.9972,-69.288 609.9972,-69.288 609.9972,-69.288 613.4961,-69.2027 609.9204,-66.1389 616.9951,-69.1173 616.9951,-69.1173\"/>\n",
       "<text text-anchor=\"start\" x=\"407.5\" y=\"-88.5936\" font-family=\"Lato\" font-size=\"14.00\" fill=\"#000000\">b &amp; g1 &amp; !g2</text>\n",
       "</g>\n",
       "<!-- 1&#45;&gt;4 -->\n",
       "<g id=\"edge11\" class=\"edge\">\n",
       "<title>1&#45;&gt;4</title>\n",
       "<path fill=\"none\" stroke=\"#000000\" d=\"M218.524,-132.9795C252.1841,-144.9945 329.812,-171.6353 397,-186.7936 473.6387,-204.0842 566.1592,-214.8627 609.8373,-219.3631\"/>\n",
       "<polygon fill=\"#000000\" stroke=\"#000000\" points=\"616.9148,-220.0812 609.6326,-222.5085 613.4327,-219.7279 609.9506,-219.3745 609.9506,-219.3745 609.9506,-219.3745 613.4327,-219.7279 610.2686,-216.2406 616.9148,-220.0812 616.9148,-220.0812\"/>\n",
       "<text text-anchor=\"start\" x=\"407.5\" y=\"-208.5936\" font-family=\"Lato\" font-size=\"14.00\" fill=\"#000000\">b &amp; !g1 &amp; g2</text>\n",
       "</g>\n",
       "<!-- 1&#45;&gt;5 -->\n",
       "<g id=\"edge12\" class=\"edge\">\n",
       "<title>1&#45;&gt;5</title>\n",
       "<path fill=\"none\" stroke=\"#000000\" d=\"M216.325,-116.2379C230.4888,-106.6423 252.7658,-92.7968 274,-84.7936 407.7498,-34.3832 449.1619,-31.5493 592,-36.7936 622.2834,-37.9055 633.9601,-26.2939 660,-41.7936 693.3424,-61.6401 712.9789,-104.1361 722.5979,-131.2657\"/>\n",
       "<polygon fill=\"#000000\" stroke=\"#000000\" points=\"724.9393,-138.1435 719.7015,-132.5322 723.8114,-134.8303 722.6834,-131.517 722.6834,-131.517 722.6834,-131.517 723.8114,-134.8303 725.6654,-130.5018 724.9393,-138.1435 724.9393,-138.1435\"/>\n",
       "<text text-anchor=\"start\" x=\"516\" y=\"-55.5936\" font-family=\"Lato\" font-size=\"14.00\" fill=\"#000000\">b &amp; g1 &amp; g2</text>\n",
       "<text text-anchor=\"start\" x=\"546\" y=\"-40.5936\" font-family=\"Lato\" font-size=\"14.00\" fill=\"#1f78b4\">⓿</text>\n",
       "</g>\n",
       "<!-- 2&#45;&gt;2 -->\n",
       "<g id=\"edge13\" class=\"edge\">\n",
       "<title>2&#45;&gt;2</title>\n",
       "<path fill=\"none\" stroke=\"#000000\" d=\"M432.5938,-137.4811C422.6563,-149.2936 427.625,-162.7936 447.5,-162.7936 463.959,-162.7936 470.1954,-153.5355 466.2092,-143.6444\"/>\n",
       "<polygon fill=\"#000000\" stroke=\"#000000\" points=\"462.4063,-137.4811 468.7629,-141.7842 464.2442,-140.4598 466.0821,-143.4384 466.0821,-143.4384 466.0821,-143.4384 464.2442,-140.4598 463.4014,-145.0925 462.4063,-137.4811 462.4063,-137.4811\"/>\n",
       "<text text-anchor=\"start\" x=\"418.5\" y=\"-166.5936\" font-family=\"Lato\" font-size=\"14.00\" fill=\"#000000\">!g1 &amp; !g2</text>\n",
       "</g>\n",
       "<!-- 2&#45;&gt;3 -->\n",
       "<g id=\"edge14\" class=\"edge\">\n",
       "<title>2&#45;&gt;3</title>\n",
       "<path fill=\"none\" stroke=\"#000000\" d=\"M465.1121,-122.9551C492.592,-116.7625 547.168,-103.6443 592,-87.7936 598.555,-85.4761 605.5089,-82.597 611.8704,-79.7868\"/>\n",
       "<polygon fill=\"#000000\" stroke=\"#000000\" points=\"618.4939,-76.7942 613.4118,-82.547 615.3044,-78.2353 612.1148,-79.6764 612.1148,-79.6764 612.1148,-79.6764 615.3044,-78.2353 610.8178,-76.8058 618.4939,-76.7942 618.4939,-76.7942\"/>\n",
       "<text text-anchor=\"start\" x=\"527\" y=\"-114.5936\" font-family=\"Lato\" font-size=\"14.00\" fill=\"#000000\">g1 &amp; !g2</text>\n",
       "</g>\n",
       "<!-- 2&#45;&gt;4 -->\n",
       "<g id=\"edge15\" class=\"edge\">\n",
       "<title>2&#45;&gt;4</title>\n",
       "<path fill=\"none\" stroke=\"#000000\" d=\"M462.8395,-136.2413C476.441,-144.333 497.0337,-155.8962 516,-163.7936 548.5792,-177.3594 560.8375,-170.2307 592,-186.7936 600.8051,-191.4736 609.5254,-198.0973 616.7876,-204.3252\"/>\n",
       "<polygon fill=\"#000000\" stroke=\"#000000\" points=\"622.0341,-208.9718 614.7053,-206.6888 619.414,-206.6513 616.7938,-204.3307 616.7938,-204.3307 616.7938,-204.3307 619.414,-206.6513 618.8823,-201.9726 622.0341,-208.9718 622.0341,-208.9718\"/>\n",
       "<text text-anchor=\"start\" x=\"527\" y=\"-190.5936\" font-family=\"Lato\" font-size=\"14.00\" fill=\"#000000\">!g1 &amp; g2</text>\n",
       "</g>\n",
       "<!-- 2&#45;&gt;5 -->\n",
       "<g id=\"edge16\" class=\"edge\">\n",
       "<title>2&#45;&gt;5</title>\n",
       "<path fill=\"none\" stroke=\"#000000\" d=\"M465.6014,-128.6518C514.4342,-133.6648 648.9566,-147.4741 704.9913,-153.2264\"/>\n",
       "<polygon fill=\"#000000\" stroke=\"#000000\" points=\"712.0494,-153.9509 704.7642,-156.3695 708.5677,-153.5935 705.086,-153.236 705.086,-153.236 705.086,-153.236 708.5677,-153.5935 705.4077,-150.1025 712.0494,-153.9509 712.0494,-153.9509\"/>\n",
       "<text text-anchor=\"start\" x=\"610\" y=\"-167.5936\" font-family=\"Lato\" font-size=\"14.00\" fill=\"#000000\">g1 &amp; g2</text>\n",
       "<text text-anchor=\"start\" x=\"627\" y=\"-152.5936\" font-family=\"Lato\" font-size=\"14.00\" fill=\"#1f78b4\">⓿</text>\n",
       "</g>\n",
       "<!-- 3&#45;&gt;3 -->\n",
       "<g id=\"edge17\" class=\"edge\">\n",
       "<title>3&#45;&gt;3</title>\n",
       "<path fill=\"none\" stroke=\"#000000\" d=\"M626.3666,-84.7097C624.1144,-94.944 626.9922,-104.7936 635,-104.7936 641.131,-104.7936 644.2548,-99.02 644.3716,-91.7205\"/>\n",
       "<polygon fill=\"#000000\" stroke=\"#000000\" points=\"643.6334,-84.7097 647.4992,-91.3413 644,-88.1904 644.3665,-91.6712 644.3665,-91.6712 644.3665,-91.6712 644,-88.1904 641.2338,-92.0011 643.6334,-84.7097 643.6334,-84.7097\"/>\n",
       "<text text-anchor=\"start\" x=\"625\" y=\"-108.5936\" font-family=\"Lato\" font-size=\"14.00\" fill=\"#000000\">!g2</text>\n",
       "</g>\n",
       "<!-- 3&#45;&gt;5 -->\n",
       "<g id=\"edge18\" class=\"edge\">\n",
       "<title>3&#45;&gt;5</title>\n",
       "<path fill=\"none\" stroke=\"#000000\" d=\"M650.3646,-78.414C662.7801,-86.5473 680.3699,-98.9053 694,-111.7936 701.5435,-118.9266 708.9658,-127.6264 715.0929,-135.4011\"/>\n",
       "<polygon fill=\"#000000\" stroke=\"#000000\" points=\"719.5064,-141.1249 712.7374,-137.505 717.3692,-138.3532 715.232,-135.5815 715.232,-135.5815 715.232,-135.5815 717.3692,-138.3532 717.7265,-133.658 719.5064,-141.1249 719.5064,-141.1249\"/>\n",
       "<text text-anchor=\"start\" x=\"678\" y=\"-130.5936\" font-family=\"Lato\" font-size=\"14.00\" fill=\"#000000\">g2</text>\n",
       "<text text-anchor=\"start\" x=\"678\" y=\"-115.5936\" font-family=\"Lato\" font-size=\"14.00\" fill=\"#1f78b4\">⓿</text>\n",
       "</g>\n",
       "<!-- 4&#45;&gt;4 -->\n",
       "<g id=\"edge19\" class=\"edge\">\n",
       "<title>4&#45;&gt;4</title>\n",
       "<path fill=\"none\" stroke=\"#000000\" d=\"M626.3666,-237.7097C624.1144,-247.944 626.9922,-257.7936 635,-257.7936 641.131,-257.7936 644.2548,-252.02 644.3716,-244.7205\"/>\n",
       "<polygon fill=\"#000000\" stroke=\"#000000\" points=\"643.6334,-237.7097 647.4992,-244.3413 644,-241.1904 644.3665,-244.6712 644.3665,-244.6712 644.3665,-244.6712 644,-241.1904 641.2338,-245.0011 643.6334,-237.7097 643.6334,-237.7097\"/>\n",
       "<text text-anchor=\"start\" x=\"625\" y=\"-261.5936\" font-family=\"Lato\" font-size=\"14.00\" fill=\"#000000\">!g1</text>\n",
       "</g>\n",
       "<!-- 4&#45;&gt;5 -->\n",
       "<g id=\"edge20\" class=\"edge\">\n",
       "<title>4&#45;&gt;5</title>\n",
       "<path fill=\"none\" stroke=\"#000000\" d=\"M649.8438,-211.4811C665.7847,-200.4064 691.2362,-182.7243 709.1757,-170.261\"/>\n",
       "<polygon fill=\"#000000\" stroke=\"#000000\" points=\"714.947,-166.2515 710.9954,-172.8325 712.0726,-168.2485 709.1981,-170.2455 709.1981,-170.2455 709.1981,-170.2455 712.0726,-168.2485 707.4009,-167.6585 714.947,-166.2515 714.947,-166.2515\"/>\n",
       "<text text-anchor=\"start\" x=\"678\" y=\"-208.5936\" font-family=\"Lato\" font-size=\"14.00\" fill=\"#000000\">g1</text>\n",
       "<text text-anchor=\"start\" x=\"678\" y=\"-193.5936\" font-family=\"Lato\" font-size=\"14.00\" fill=\"#1f78b4\">⓿</text>\n",
       "</g>\n",
       "<!-- 5&#45;&gt;5 -->\n",
       "<g id=\"edge21\" class=\"edge\">\n",
       "<title>5&#45;&gt;5</title>\n",
       "<path fill=\"none\" stroke=\"#000000\" d=\"M722.3321,-172.0839C720.4831,-182.1828 723.0391,-191.7936 730,-191.7936 735.2207,-191.7936 737.9636,-186.3875 738.2287,-179.424\"/>\n",
       "<polygon fill=\"#000000\" stroke=\"#000000\" points=\"737.6679,-172.0839 741.3421,-178.8236 737.9346,-175.5737 738.2013,-179.0636 738.2013,-179.0636 738.2013,-179.0636 737.9346,-175.5737 735.0604,-179.3036 737.6679,-172.0839 737.6679,-172.0839\"/>\n",
       "<text text-anchor=\"start\" x=\"725.5\" y=\"-210.5936\" font-family=\"Lato\" font-size=\"14.00\" fill=\"#000000\">1</text>\n",
       "<text text-anchor=\"start\" x=\"722\" y=\"-195.5936\" font-family=\"Lato\" font-size=\"14.00\" fill=\"#1f78b4\">⓿</text>\n",
       "</g>\n",
       "</g>\n",
       "</svg>\n",
       "</div>"
      ],
      "text/plain": [
       "<csrl.oa.OmegaAutomaton at 0x7fe1e6a73470>"
      ]
     },
     "metadata": {},
     "output_type": "display_data"
    },
    {
     "data": {
      "application/vnd.jupyter.widget-view+json": {
       "model_id": "db9b4460a167408bbb7c8c8bf44957d5",
       "version_major": 2,
       "version_minor": 0
      },
      "text/plain": [
       "interactive(children=(IntSlider(value=0, description='i', max=0), IntSlider(value=0, description='q', max=6), …"
      ]
     },
     "metadata": {},
     "output_type": "display_data"
    }
   ],
   "source": [
    "#ltl1 = '(!a U b) & F d & FG c'\n",
    "display(oa1)\n",
    "mcsrl.plot(0, policies[0], values[0])"
   ]
  },
  {
   "cell_type": "code",
   "execution_count": 25,
   "id": "eb9d7ebd-fb17-4ab0-bec7-b87493c02984",
   "metadata": {},
   "outputs": [
    {
     "data": {
      "application/vnd.jupyter.widget-view+json": {
       "model_id": "7af79ac96460435e8d378c71a94128ee",
       "version_major": 2,
       "version_minor": 0
      },
      "text/plain": [
       "interactive(children=(IntSlider(value=0, description='i', max=0), IntSlider(value=0, description='q', max=6), …"
      ]
     },
     "metadata": {},
     "output_type": "display_data"
    }
   ],
   "source": [
    "mcsrl.plot(1, policies[1], values[1])"
   ]
  },
  {
   "cell_type": "code",
   "execution_count": 26,
   "id": "db0c2fd1-009c-4905-8847-73e909bdfc4c",
   "metadata": {},
   "outputs": [
    {
     "data": {
      "text/plain": [
       "(1, 7, 4, 8)"
      ]
     },
     "execution_count": 26,
     "metadata": {},
     "output_type": "execute_result"
    }
   ],
   "source": [
    "policies[0].shape"
   ]
  },
  {
   "cell_type": "code",
   "execution_count": 27,
   "id": "a2322a1a-3105-4075-afc6-f9bae1b2e1ad",
   "metadata": {
    "scrolled": true,
    "tags": []
   },
   "outputs": [
    {
     "name": "stdout",
     "output_type": "stream",
     "text": [
      "40\n",
      "e [[(0, 0, 0, 1), (0, 0, 2, 6)]]\n",
      "0 :  (0, 0, 1) \t (0, 2, 6)\n",
      "1 :  (0, 1, 1) \t (0, 2, 6)\n",
      "2 :  (0, 2, 1) \t (0, 2, 5)\n",
      "3 :  (0, 2, 0) \t (0, 2, 4)\n",
      "4 :  (2, 3, 0) \t (2, 1, 4)\n",
      "5 :  (2, 3, 1) \t (2, 0, 4)\n",
      "6 :  (2, 3, 2) \t (2, 0, 5)\n",
      "7 :  (3, 3, 3) \t (3, 0, 6)\n",
      "8 :  (5, 3, 3) \t (5, 0, 7)\n",
      "9 :  (5, 3, 3) \t (5, 0, 7)\n",
      "10 :  (5, 3, 3) \t (5, 0, 7)\n",
      "11 :  (5, 3, 3) \t (5, 0, 7)\n",
      "12 :  (5, 3, 3) \t (5, 0, 7)\n",
      "13 :  (5, 3, 3) \t (5, 0, 7)\n",
      "14 :  (5, 3, 3) \t (5, 0, 7)\n",
      "15 :  (5, 3, 3) \t (5, 0, 7)\n",
      "16 :  (5, 3, 3) \t (5, 0, 7)\n",
      "17 :  (5, 3, 3) \t (5, 0, 7)\n",
      "18 :  (5, 3, 3) \t (5, 0, 7)\n",
      "19 :  (5, 3, 3) \t (5, 0, 7)\n",
      "20 :  (5, 3, 3) \t (5, 0, 7)\n",
      "21 :  (5, 3, 3) \t (5, 0, 7)\n",
      "22 :  (5, 3, 3) \t (5, 0, 7)\n",
      "23 :  (5, 3, 3) \t (5, 0, 7)\n",
      "24 :  (5, 3, 3) \t (5, 0, 7)\n",
      "25 :  (5, 3, 3) \t (5, 0, 7)\n",
      "26 :  (5, 3, 3) \t (5, 0, 7)\n",
      "27 :  (5, 3, 3) \t (5, 0, 7)\n",
      "28 :  (5, 3, 3) \t (5, 0, 7)\n",
      "29 :  (5, 3, 3) \t (5, 0, 7)\n",
      "30 :  (5, 3, 3) \t (5, 0, 7)\n",
      "31 :  (5, 3, 3) \t (5, 0, 7)\n",
      "32 :  (5, 3, 3) \t (5, 0, 7)\n",
      "33 :  (5, 3, 3) \t (5, 0, 7)\n",
      "34 :  (5, 3, 3) \t (5, 0, 7)\n",
      "35 :  (5, 3, 3) \t (5, 0, 7)\n",
      "36 :  (5, 3, 3) \t (5, 0, 7)\n",
      "37 :  (5, 3, 3) \t (5, 0, 7)\n",
      "38 :  (5, 3, 3) \t (5, 0, 7)\n",
      "39 :  (5, 3, 3) \t (5, 0, 7)\n"
     ]
    }
   ],
   "source": [
    "ep = mcsrl.simulate(agents = mcsrl.agent_control, policy =policies, T= 30, mdp2 =grid_mdp, animation=\"sharedoa3\")"
   ]
  },
  {
   "cell_type": "code",
   "execution_count": 170,
   "id": "0f70a7c1-ea11-48e6-b632-8f79c0d3f146",
   "metadata": {},
   "outputs": [
    {
     "data": {
      "text/plain": [
       "array([[0, 0, 3, 3],\n",
       "       [0, 0, 2, 0],\n",
       "       [0, 0, 0, 3],\n",
       "       [0, 0, 0, 0]])"
      ]
     },
     "execution_count": 170,
     "metadata": {},
     "output_type": "execute_result"
    }
   ],
   "source": [
    "pol = np.argmax(qval[1],axis=4)\n",
    "pol [0][0]"
   ]
  },
  {
   "cell_type": "code",
   "execution_count": 24,
   "id": "deb6d4c6-ea77-4ac7-b54e-cffd8dd556bc",
   "metadata": {},
   "outputs": [],
   "source": [
    "import matplotlib.pyplot as plt\n",
    "from scipy.signal import savgol_filter"
   ]
  },
  {
   "cell_type": "code",
   "execution_count": 37,
   "id": "53a72fe8-00d3-4bb0-9c86-860a094bbf0e",
   "metadata": {},
   "outputs": [
    {
     "data": {
      "text/plain": [
       "array([0.  , 0.  , 0.  , ..., 1.87, 1.91, 1.88])"
      ]
     },
     "execution_count": 37,
     "metadata": {},
     "output_type": "execute_result"
    }
   ],
   "source": [
    "ep_returns[:,0]"
   ]
  },
  {
   "cell_type": "markdown",
   "id": "6ee027b0-e677-4dc3-a9ac-a670a358ba55",
   "metadata": {},
   "source": [
    "### smooth output"
   ]
  },
  {
   "cell_type": "code",
   "execution_count": 38,
   "id": "6fb09608-36a9-4397-9b6d-6897bee593c4",
   "metadata": {
    "tags": []
   },
   "outputs": [
    {
     "data": {
      "text/plain": [
       "Text(0.5, 1.0, 'return per episode')"
      ]
     },
     "execution_count": 38,
     "metadata": {},
     "output_type": "execute_result"
    },
    {
     "data": {
      "image/png": "[encoded data removed]",
      "text/plain": [
       "<Figure size 1008x720 with 1 Axes>"
      ]
     },
     "metadata": {
      "needs_background": "light"
     },
     "output_type": "display_data"
    }
   ],
   "source": [
    "plt.figure(figsize=(14, 10))\n",
    "plt.plot( ep_returns[:,0], color='c', label='agent 0', alpha=0.2)\n",
    "yhat = savgol_filter(ep_returns[:,0], 101, 3) # window size 101, polynomial order 3\n",
    "yhat2 = savgol_filter(ep_returns[:,1], 101, 3)\n",
    "plt.plot(yhat, color='b', label='smooth')\n",
    "# plt.plot(yhat2, color='g', label='smooth2')\n",
    "# plt.plot(np.arange(0, ep_returns.shape[0]), ep_returns[:,1], color='g',  label='agent 1')\n",
    "\n",
    "# Naming the x-axis, y-axis and the whole graph\n",
    "plt.xlabel(\"Episodes\")\n",
    "plt.ylabel(\"Acc Return\")\n",
    "plt.title(\"return per episode\")\n",
    "\n",
    "np.savetxt('shared_oa_ex3_returns.csv', ep_returns, delimiter=',')"
   ]
  },
  {
   "cell_type": "code",
   "execution_count": 3,
   "id": "ed948fc8-8bfd-4fda-84c0-126d80475934",
   "metadata": {
    "tags": []
   },
   "outputs": [
    {
     "data": {
      "text/plain": [
       "array([0, 1, 2, 3, 4, 5, 6, 7, 8, 9])"
      ]
     },
     "execution_count": 3,
     "metadata": {},
     "output_type": "execute_result"
    }
   ],
   "source": [
    "np.arange(0, 10)"
   ]
  },
  {
   "cell_type": "code",
   "execution_count": 88,
   "id": "b3dc3d98",
   "metadata": {
    "collapsed": true,
    "jupyter": {
     "outputs_hidden": true
    },
    "tags": []
   },
   "outputs": [
    {
     "name": "stdout",
     "output_type": "stream",
     "text": [
      "[[[[0.         0.         0.         0.         0.         0.\n",
      "    0.         0.        ]\n",
      "   [0.         0.         0.         0.         0.         0.\n",
      "    0.         0.        ]\n",
      "   [0.00782956 0.00782906 0.007829   0.00782912 0.         0.\n",
      "    0.         0.        ]\n",
      "   [0.00783695 0.00783694 0.00783694 0.00783693 0.         0.\n",
      "    0.         0.        ]]\n",
      "\n",
      "  [[0.         0.         0.         0.         0.         0.\n",
      "    0.         0.        ]\n",
      "   [0.         0.         0.         0.         0.         0.\n",
      "    0.         0.        ]\n",
      "   [0.00793691 0.00793678 0.007937   0.00793651 0.         0.\n",
      "    0.         0.        ]\n",
      "   [0.00783341 0.00783319 0.00783342 0.00783285 0.         0.\n",
      "    0.         0.        ]]\n",
      "\n",
      "  [[0.         0.         0.         0.         0.         0.\n",
      "    0.         0.        ]\n",
      "   [0.         0.         0.         0.         0.         0.\n",
      "    0.         0.        ]\n",
      "   [0.00771174 0.00357202 0.0052338  0.00335323 0.         0.\n",
      "    0.         0.        ]\n",
      "   [0.00508919 0.00440855 0.00400567 0.00769081 0.         0.\n",
      "    0.         0.        ]]\n",
      "\n",
      "  [[0.         0.         0.         0.         0.         0.\n",
      "    0.         0.        ]\n",
      "   [0.         0.         0.         0.         0.         0.\n",
      "    0.         0.        ]\n",
      "   [0.         0.         0.         0.         0.         0.\n",
      "    0.         0.        ]\n",
      "   [0.0043623  0.00381081 0.00697657 0.00151727 0.         0.\n",
      "    0.         0.        ]]]\n",
      "\n",
      "\n",
      " [[[0.         0.         0.         0.         0.         0.\n",
      "    0.         0.        ]\n",
      "   [0.         0.         0.         0.         0.         0.\n",
      "    0.         0.        ]\n",
      "   [0.00596175 0.00722436 0.006514   0.00634325 0.         0.\n",
      "    0.0055109  0.        ]\n",
      "   [0.00420917 0.00727778 0.00403892 0.00345214 0.         0.\n",
      "    0.00430424 0.        ]]\n",
      "\n",
      "  [[0.         0.         0.         0.         0.         0.\n",
      "    0.         0.        ]\n",
      "   [0.         0.         0.         0.         0.         0.\n",
      "    0.         0.        ]\n",
      "   [0.00722636 0.00723288 0.00722628 0.00723237 0.         0.\n",
      "    0.00723289 0.        ]\n",
      "   [0.00663238 0.00723025 0.00723132 0.00723584 0.         0.\n",
      "    0.0072307  0.        ]]\n",
      "\n",
      "  [[0.         0.         0.         0.         0.         0.\n",
      "    0.         0.        ]\n",
      "   [0.         0.         0.         0.         0.         0.\n",
      "    0.         0.        ]\n",
      "   [0.00722364 0.00722406 0.00722424 0.00722012 0.         0.\n",
      "    0.00722425 0.        ]\n",
      "   [0.00721708 0.00722029 0.00721747 0.00721788 0.         0.\n",
      "    0.00722029 0.        ]]\n",
      "\n",
      "  [[0.         0.         0.         0.         0.         0.\n",
      "    0.         0.        ]\n",
      "   [0.         0.         0.         0.         0.         0.\n",
      "    0.         0.        ]\n",
      "   [0.00721881 0.0072183  0.00722023 0.00721972 0.         0.\n",
      "    0.00721892 0.        ]\n",
      "   [0.00722436 0.00722437 0.00722437 0.00721806 0.         0.\n",
      "    0.00721973 0.        ]]]\n",
      "\n",
      "\n",
      " [[[0.         0.         0.         0.         0.         0.\n",
      "    0.         0.        ]\n",
      "   [0.         0.         0.         0.         0.         0.\n",
      "    0.         0.        ]\n",
      "   [0.         0.         0.         0.         0.         0.\n",
      "    0.         0.        ]\n",
      "   [0.         0.         0.         0.         0.         0.\n",
      "    0.         0.        ]]\n",
      "\n",
      "  [[0.         0.         0.         0.         0.         0.\n",
      "    0.         0.        ]\n",
      "   [0.         0.         0.         0.         0.         0.\n",
      "    0.         0.        ]\n",
      "   [0.         0.         0.         0.         0.         0.\n",
      "    0.         0.        ]\n",
      "   [0.         0.         0.         0.         0.         0.\n",
      "    0.         0.        ]]\n",
      "\n",
      "  [[0.         0.         0.         0.         0.         0.\n",
      "    0.         0.        ]\n",
      "   [0.         0.         0.         0.         0.         0.\n",
      "    0.         0.        ]\n",
      "   [0.         0.         0.         0.         0.         0.\n",
      "    0.         0.        ]\n",
      "   [0.         0.         0.         0.         0.         0.\n",
      "    0.         0.        ]]\n",
      "\n",
      "  [[0.         0.         0.         0.         0.         0.\n",
      "    0.         0.        ]\n",
      "   [0.         0.         0.         0.         0.         0.\n",
      "    0.         0.        ]\n",
      "   [0.02       0.02       0.02       0.02       0.         0.\n",
      "    0.         0.        ]\n",
      "   [0.         0.         0.         0.         0.         0.\n",
      "    0.         0.        ]]]\n",
      "\n",
      "\n",
      " [[[0.         0.         0.         0.         0.         0.\n",
      "    0.         0.        ]\n",
      "   [0.         0.         0.         0.         0.         0.\n",
      "    0.         0.        ]\n",
      "   [0.         0.         0.         0.         0.         0.\n",
      "    0.         0.        ]\n",
      "   [0.         0.         0.         0.         0.         0.\n",
      "    0.         0.        ]]\n",
      "\n",
      "  [[0.         0.         0.         0.         0.         0.\n",
      "    0.         0.        ]\n",
      "   [0.         0.         0.         0.         0.         0.\n",
      "    0.         0.        ]\n",
      "   [0.         0.         0.         0.         0.         0.\n",
      "    0.         0.        ]\n",
      "   [0.         0.         0.         0.         0.         0.\n",
      "    0.         0.        ]]\n",
      "\n",
      "  [[0.         0.         0.         0.         0.         0.\n",
      "    0.         0.        ]\n",
      "   [0.         0.         0.         0.         0.         0.\n",
      "    0.         0.        ]\n",
      "   [0.         0.         0.         0.         0.         0.\n",
      "    0.         0.        ]\n",
      "   [0.         0.         0.         0.         0.         0.\n",
      "    0.         0.        ]]\n",
      "\n",
      "  [[0.         0.         0.         0.         0.         0.\n",
      "    0.         0.        ]\n",
      "   [0.         0.         0.         0.         0.         0.\n",
      "    0.         0.        ]\n",
      "   [0.         0.         0.         0.         0.         0.\n",
      "    0.         0.        ]\n",
      "   [0.         0.         0.         0.         0.         0.\n",
      "    0.         0.        ]]]]\n"
     ]
    }
   ],
   "source": [
    "print((mcsrl.Q[1][0]))"
   ]
  },
  {
   "cell_type": "code",
   "execution_count": 116,
   "id": "7119f0bb",
   "metadata": {
    "collapsed": true,
    "jupyter": {
     "outputs_hidden": true
    },
    "tags": []
   },
   "outputs": [
    {
     "name": "stdout",
     "output_type": "stream",
     "text": [
      "[[  0.           0.           0.           0.           0.\n",
      "    0.           0.           0.           0.           0.        ]\n",
      " [  0.           0.           0.           0.           0.\n",
      "    0.           0.           0.           0.           0.        ]\n",
      " [126.87881441 126.87881498 126.87881509 126.87881467   0.\n",
      "    0.           0.           0.          33.21196389   0.        ]\n",
      " [126.87884028 126.87884155 126.87884157 126.8788405    0.\n",
      "    0.           0.           0.           0.           0.        ]]\n"
     ]
    }
   ],
   "source": [
    "p = np.max(qval[1], axis=4)\n",
    "print(qval[1][0][3][3])"
   ]
  },
  {
   "cell_type": "code",
   "execution_count": 83,
   "id": "5ae84617-fc66-4f96-8137-6ff6f04b1363",
   "metadata": {
    "collapsed": true,
    "jupyter": {
     "outputs_hidden": true
    },
    "tags": []
   },
   "outputs": [
    {
     "data": {
      "text/plain": [
       "array([[list([0, 1, 2, 3]), list([0, 1, 2, 3]), list([0, 1, 2, 3]),\n",
       "        list([0, 1, 2, 3])],\n",
       "       [list([0, 1, 2, 3]), list([0, 1, 2, 3]), list([0, 1, 2, 3]),\n",
       "        list([0, 1, 2, 3])],\n",
       "       [list([0, 1, 2, 3]), list([0, 1, 2, 3]), list([0, 1, 2, 3]),\n",
       "        list([0, 1, 2, 3])],\n",
       "       [list([0, 1, 2, 3]), list([0, 1, 2, 3]), list([0, 1, 2, 3]),\n",
       "        list([0, 1, 2, 3])]], dtype=object)"
      ]
     },
     "execution_count": 83,
     "metadata": {},
     "output_type": "execute_result"
    }
   ],
   "source": [
    "csrl2.A[0][3]"
   ]
  },
  {
   "cell_type": "code",
   "execution_count": 84,
   "id": "2b8ad5b6-7ce7-486f-83a0-ec5ee0a6f7ef",
   "metadata": {
    "collapsed": true,
    "jupyter": {
     "outputs_hidden": true
    },
    "tags": []
   },
   "outputs": [
    {
     "data": {
      "text/plain": [
       "array([[[[0., 0., 0., 0.],\n",
       "         [0., 0., 0., 0.],\n",
       "         [0., 0., 0., 0.],\n",
       "         [0., 0., 0., 0.]],\n",
       "\n",
       "        [[0., 0., 0., 0.],\n",
       "         [0., 0., 0., 0.],\n",
       "         [0., 0., 0., 0.],\n",
       "         [0., 0., 0., 0.]],\n",
       "\n",
       "        [[0., 0., 0., 0.],\n",
       "         [0., 0., 0., 0.],\n",
       "         [0., 0., 0., 0.],\n",
       "         [0., 0., 0., 0.]],\n",
       "\n",
       "        [[0., 0., 0., 0.],\n",
       "         [0., 0., 0., 0.],\n",
       "         [0., 0., 0., 0.],\n",
       "         [0., 0., 0., 0.]]]])"
      ]
     },
     "execution_count": 84,
     "metadata": {},
     "output_type": "execute_result"
    }
   ],
   "source": [
    "csrl2.reward"
   ]
  },
  {
   "cell_type": "code",
   "execution_count": 83,
   "id": "f21765f0-2f33-42bc-baaa-a9e7e9ac0aff",
   "metadata": {},
   "outputs": [
    {
     "name": "stdout",
     "output_type": "stream",
     "text": [
      "potato\n",
      "Empty DataFrame\n",
      "Columns: [iteration, episode, labels, state_0, state_1, reward_0, reward_1, action_0, action_1]\n",
      "Index: []\n",
      "row {'iteration': 0, 'episode': 0, 'labels': ['a', 'b', 'c'], 'state_0': [-2, 0], 'state_1': [3, 4], 'reward_0': 3, 'reward_1': 5, 'action_0': 0, 'action_1': 2}\n"
     ]
    }
   ],
   "source": [
    "from logger import Trace\n",
    "\n",
    "new_t = Trace(2, 5, 3)\n",
    "print(new_t.df)\n",
    "new_t.add_episode(0, 0, [3,5], [[-2,0], [3,4]], [0,2], ['a', 'b', 'c'])\n",
    "# new_t.add_episode(0, 0, [3,5], [-2,0], [0,2], ['a', 'b', 'c'])"
   ]
  },
  {
   "cell_type": "code",
   "execution_count": 84,
   "id": "785e21ef-4025-458d-8d26-11d7da1d8dc3",
   "metadata": {},
   "outputs": [
    {
     "data": {
      "text/html": [
       "<div>\n",
       "<style scoped>\n",
       "    .dataframe tbody tr th:only-of-type {\n",
       "        vertical-align: middle;\n",
       "    }\n",
       "\n",
       "    .dataframe tbody tr th {\n",
       "        vertical-align: top;\n",
       "    }\n",
       "\n",
       "    .dataframe thead th {\n",
       "        text-align: right;\n",
       "    }\n",
       "</style>\n",
       "<table border=\"1\" class=\"dataframe\">\n",
       "  <thead>\n",
       "    <tr style=\"text-align: right;\">\n",
       "      <th></th>\n",
       "      <th>iteration</th>\n",
       "      <th>episode</th>\n",
       "      <th>labels</th>\n",
       "      <th>state_0</th>\n",
       "      <th>state_1</th>\n",
       "      <th>reward_0</th>\n",
       "      <th>reward_1</th>\n",
       "      <th>action_0</th>\n",
       "      <th>action_1</th>\n",
       "    </tr>\n",
       "  </thead>\n",
       "  <tbody>\n",
       "    <tr>\n",
       "      <th>0</th>\n",
       "      <td>0</td>\n",
       "      <td>0</td>\n",
       "      <td>[a, b, c]</td>\n",
       "      <td>[-2, 0]</td>\n",
       "      <td>[3, 4]</td>\n",
       "      <td>3</td>\n",
       "      <td>5</td>\n",
       "      <td>0</td>\n",
       "      <td>2</td>\n",
       "    </tr>\n",
       "  </tbody>\n",
       "</table>\n",
       "</div>"
      ],
      "text/plain": [
       "  iteration episode     labels  state_0 state_1 reward_0 reward_1 action_0  \\\n",
       "0         0       0  [a, b, c]  [-2, 0]  [3, 4]        3        5        0   \n",
       "\n",
       "  action_1  \n",
       "0        2  "
      ]
     },
     "execution_count": 84,
     "metadata": {},
     "output_type": "execute_result"
    }
   ],
   "source": [
    "new_t.df"
   ]
  },
  {
   "cell_type": "code",
   "execution_count": 85,
   "id": "df155a34-f9e5-48d5-987f-d2b009d0f009",
   "metadata": {},
   "outputs": [
    {
     "data": {
      "text/html": [
       "<div>\n",
       "<style scoped>\n",
       "    .dataframe tbody tr th:only-of-type {\n",
       "        vertical-align: middle;\n",
       "    }\n",
       "\n",
       "    .dataframe tbody tr th {\n",
       "        vertical-align: top;\n",
       "    }\n",
       "\n",
       "    .dataframe thead th {\n",
       "        text-align: right;\n",
       "    }\n",
       "</style>\n",
       "<table border=\"1\" class=\"dataframe\">\n",
       "  <thead>\n",
       "    <tr style=\"text-align: right;\">\n",
       "      <th></th>\n",
       "      <th>iteration</th>\n",
       "      <th>episode</th>\n",
       "      <th>labels</th>\n",
       "      <th>state_0</th>\n",
       "      <th>state_1</th>\n",
       "      <th>reward_0</th>\n",
       "      <th>reward_1</th>\n",
       "      <th>action_0</th>\n",
       "      <th>action_1</th>\n",
       "    </tr>\n",
       "  </thead>\n",
       "  <tbody>\n",
       "    <tr>\n",
       "      <th>0</th>\n",
       "      <td>0</td>\n",
       "      <td>0</td>\n",
       "      <td>[a, b, c]</td>\n",
       "      <td>[-2, 0]</td>\n",
       "      <td>[3, 4]</td>\n",
       "      <td>3</td>\n",
       "      <td>5</td>\n",
       "      <td>0</td>\n",
       "      <td>2</td>\n",
       "    </tr>\n",
       "  </tbody>\n",
       "</table>\n",
       "</div>"
      ],
      "text/plain": [
       "  iteration episode     labels  state_0 state_1 reward_0 reward_1 action_0  \\\n",
       "0         0       0  [a, b, c]  [-2, 0]  [3, 4]        3        5        0   \n",
       "\n",
       "  action_1  \n",
       "0        2  "
      ]
     },
     "execution_count": 85,
     "metadata": {},
     "output_type": "execute_result"
    }
   ],
   "source": [
    "new_t.get_iteration(0)"
   ]
  },
  {
   "cell_type": "code",
   "execution_count": null,
   "id": "d340c461-8f69-476d-b480-b1505b772843",
   "metadata": {},
   "outputs": [],
   "source": []
  }
 ],
 "metadata": {
  "kernelspec": {
   "display_name": "Python 3",
   "language": "python",
   "name": "python3"
  },
  "language_info": {
   "codemirror_mode": {
    "name": "ipython",
    "version": 3
   },
   "file_extension": ".py",
   "mimetype": "text/x-python",
   "name": "python",
   "nbconvert_exporter": "python",
   "pygments_lexer": "ipython3",
   "version": "3.6.9"
  }
 },
 "nbformat": 4,
 "nbformat_minor": 5
}
